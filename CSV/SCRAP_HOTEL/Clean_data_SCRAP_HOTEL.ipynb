{
 "cells": [
  {
   "cell_type": "code",
   "execution_count": 1,
   "id": "43889cdb-af62-47b0-b445-f678dd25bf0c",
   "metadata": {
    "tags": []
   },
   "outputs": [
    {
     "name": "stdout",
     "output_type": "stream",
     "text": [
      "Requirement already satisfied: pandas in c:\\users\\djlopez\\appdata\\local\\programs\\python\\python312\\lib\\site-packages (2.1.2)\n",
      "Requirement already satisfied: pyarrow in c:\\users\\djlopez\\appdata\\local\\programs\\python\\python312\\lib\\site-packages (14.0.0)\n",
      "Requirement already satisfied: numpy<2,>=1.26.0 in c:\\users\\djlopez\\appdata\\local\\programs\\python\\python312\\lib\\site-packages (from pandas) (1.26.1)\n",
      "Requirement already satisfied: python-dateutil>=2.8.2 in c:\\users\\djlopez\\appdata\\roaming\\python\\python312\\site-packages (from pandas) (2.8.2)\n",
      "Requirement already satisfied: pytz>=2020.1 in c:\\users\\djlopez\\appdata\\local\\programs\\python\\python312\\lib\\site-packages (from pandas) (2023.3.post1)\n",
      "Requirement already satisfied: tzdata>=2022.1 in c:\\users\\djlopez\\appdata\\local\\programs\\python\\python312\\lib\\site-packages (from pandas) (2023.3)\n",
      "Requirement already satisfied: six>=1.5 in c:\\users\\djlopez\\appdata\\roaming\\python\\python312\\site-packages (from python-dateutil>=2.8.2->pandas) (1.16.0)\n"
     ]
    }
   ],
   "source": [
    "!pip install pandas pyarrow\n"
   ]
  },
  {
   "cell_type": "code",
   "execution_count": 2,
   "id": "db15cbe6-0769-453a-aa2b-4228a39e62c7",
   "metadata": {
    "tags": []
   },
   "outputs": [],
   "source": [
    "import os\n",
    "import pandas as pd\n",
    "import pyarrow as pa\n",
    "import pyarrow.parquet as pq\n"
   ]
  },
  {
   "cell_type": "markdown",
   "id": "7a61ab95-b2b9-4529-8f4a-4e9e6569b851",
   "metadata": {},
   "source": [
    "## Transform : CSV to PARQUET"
   ]
  },
  {
   "cell_type": "markdown",
   "id": "b842fc11-efe7-4047-900d-5a6621c886dd",
   "metadata": {
    "tags": []
   },
   "source": [
    "csv_directory = R\"C:\\Users\\yskon\\Desktop\\Cheap\\Cheap_Advisor\\Scraping\\Travel_Scrapping\"\n",
    "\n",
    "csv_files = [file for file in os.listdir(csv_directory) if file.endswith('.csv')]\n",
    "\n",
    "for csv_file in csv_files:\n",
    "    \n",
    "    csv_path = os.path.join(csv_directory, csv_file)\n",
    "    df = pd.read_csv(csv_path, encoding='utf-8')\n",
    "\n",
    "   \n",
    "    parquet_file = os.path.splitext(csv_file)[0] + '.parquet'\n",
    "    parquet_path = os.path.join(csv_directory, parquet_file)\n",
    "\n",
    "    \n",
    "    table = pa.Table.from_pandas(df)\n",
    "\n",
    "    \n",
    "    with open(parquet_path, 'wb') as f:\n",
    "        pq.write_table(table, f)\n",
    "\n"
   ]
  },
  {
   "cell_type": "markdown",
   "id": "720f66b4-ffcb-4529-a803-6f0493adec3e",
   "metadata": {},
   "source": [
    "## CSV DELETE"
   ]
  },
  {
   "cell_type": "markdown",
   "id": "bbec12c9-c1fc-45e1-9101-6d9f19e4ff6d",
   "metadata": {
    "tags": []
   },
   "source": [
    "import os\n",
    "\n",
    "csv_directory = R\"C:\\Users\\yskon\\Desktop\\Cheap\\Cheap_Advisor\\Scrap_Training\\Scraping\\Travel_Scrapping\"\n",
    "csv_files = [file for file in os.listdir(csv_directory) if file.endswith('.csv')]\n",
    "\n",
    "for csv_file in csv_files:\n",
    "    csv_path = os.path.join(csv_directory, csv_file)\n",
    "    os.remove(csv_path)\n"
   ]
  },
  {
   "cell_type": "markdown",
   "id": "0a4750f6-c842-4665-aeb3-b03a965620d3",
   "metadata": {},
   "source": [
    "### Lecture des parquets"
   ]
  },
  {
   "cell_type": "code",
   "execution_count": 3,
   "id": "afe52da9-0688-4946-bdd9-7ed8b8047400",
   "metadata": {
    "tags": []
   },
   "outputs": [
    {
     "ename": "FileNotFoundError",
     "evalue": "[WinError 3] Le chemin d’accès spécifié est introuvable: 'C:\\\\Users\\\\yskon\\\\Desktop\\\\Cheap\\\\Cheap_Advisor\\\\CSV\\\\SCRAP_HOTEL'",
     "output_type": "error",
     "traceback": [
      "\u001b[1;31m---------------------------------------------------------------------------\u001b[0m",
      "\u001b[1;31mFileNotFoundError\u001b[0m                         Traceback (most recent call last)",
      "\u001b[1;32mc:\\Users\\DJLOPEZ\\Documents\\taff\\DEV\\projet école\\Cheap_Advisor\\CSV\\SCRAP_HOTEL\\Clean_data_SCRAP_HOTEL.ipynb Cell 8\u001b[0m line \u001b[0;36m6\n\u001b[0;32m      <a href='vscode-notebook-cell:/c%3A/Users/DJLOPEZ/Documents/taff/DEV/projet%20%C3%A9cole/Cheap_Advisor/CSV/SCRAP_HOTEL/Clean_data_SCRAP_HOTEL.ipynb#X10sZmlsZQ%3D%3D?line=3'>4</a>\u001b[0m \u001b[39m# à changer lee directory\u001b[39;00m\n\u001b[0;32m      <a href='vscode-notebook-cell:/c%3A/Users/DJLOPEZ/Documents/taff/DEV/projet%20%C3%A9cole/Cheap_Advisor/CSV/SCRAP_HOTEL/Clean_data_SCRAP_HOTEL.ipynb#X10sZmlsZQ%3D%3D?line=4'>5</a>\u001b[0m parquet_directory \u001b[39m=\u001b[39m \u001b[39mR\u001b[39m\u001b[39m\"\u001b[39m\u001b[39mC:\u001b[39m\u001b[39m\\\u001b[39m\u001b[39mUsers\u001b[39m\u001b[39m\\\u001b[39m\u001b[39myskon\u001b[39m\u001b[39m\\\u001b[39m\u001b[39mDesktop\u001b[39m\u001b[39m\\\u001b[39m\u001b[39mCheap\u001b[39m\u001b[39m\\\u001b[39m\u001b[39mCheap_Advisor\u001b[39m\u001b[39m\\\u001b[39m\u001b[39mCSV\u001b[39m\u001b[39m\\\u001b[39m\u001b[39mSCRAP_HOTEL\u001b[39m\u001b[39m\"\u001b[39m\n\u001b[1;32m----> <a href='vscode-notebook-cell:/c%3A/Users/DJLOPEZ/Documents/taff/DEV/projet%20%C3%A9cole/Cheap_Advisor/CSV/SCRAP_HOTEL/Clean_data_SCRAP_HOTEL.ipynb#X10sZmlsZQ%3D%3D?line=5'>6</a>\u001b[0m parquet_files \u001b[39m=\u001b[39m [file \u001b[39mfor\u001b[39;00m file \u001b[39min\u001b[39;00m os\u001b[39m.\u001b[39;49mlistdir(parquet_directory) \u001b[39mif\u001b[39;00m file\u001b[39m.\u001b[39mendswith(\u001b[39m'\u001b[39m\u001b[39m.parquet\u001b[39m\u001b[39m'\u001b[39m)]\n\u001b[0;32m      <a href='vscode-notebook-cell:/c%3A/Users/DJLOPEZ/Documents/taff/DEV/projet%20%C3%A9cole/Cheap_Advisor/CSV/SCRAP_HOTEL/Clean_data_SCRAP_HOTEL.ipynb#X10sZmlsZQ%3D%3D?line=8'>9</a>\u001b[0m dataframes \u001b[39m=\u001b[39m []\n\u001b[0;32m     <a href='vscode-notebook-cell:/c%3A/Users/DJLOPEZ/Documents/taff/DEV/projet%20%C3%A9cole/Cheap_Advisor/CSV/SCRAP_HOTEL/Clean_data_SCRAP_HOTEL.ipynb#X10sZmlsZQ%3D%3D?line=10'>11</a>\u001b[0m \u001b[39mfor\u001b[39;00m parquet_file \u001b[39min\u001b[39;00m parquet_files:\n",
      "\u001b[1;31mFileNotFoundError\u001b[0m: [WinError 3] Le chemin d’accès spécifié est introuvable: 'C:\\\\Users\\\\yskon\\\\Desktop\\\\Cheap\\\\Cheap_Advisor\\\\CSV\\\\SCRAP_HOTEL'"
     ]
    }
   ],
   "source": [
    "import os\n",
    "import pandas as pd\n",
    "import pyarrow.parquet as pq\n",
    "# à changer lee directory\n",
    "parquet_directory = R\"C:\\Users\\DJLOPEZ\\Documents\\taff\\DEV\\projet école\\Cheap_Advisor\\CSV\\SCRAP_HOTEL\"\n",
    "parquet_files = [file for file in os.listdir(parquet_directory) if file.endswith('.parquet')]\n",
    "\n",
    "\n",
    "dataframes = []\n",
    "\n",
    "for parquet_file in parquet_files:\n",
    "    parquet_path = os.path.join(parquet_directory, parquet_file)\n",
    "    \n",
    "  \n",
    "    table = pq.read_table(parquet_path)\n",
    "    df = table.to_pandas()\n",
    "    \n",
    "    \n",
    "    dataframes.append(df)\n",
    "    \n",
    "dataframe = pd.concat(dataframes, ignore_index=True)   \n",
    "\n",
    "dataframe.head()\n",
    "#Date : 8/11\n"
   ]
  },
  {
   "cell_type": "code",
   "execution_count": null,
   "id": "dbd89a0d-74fe-4ce4-b84e-e4c1f4f3dd3c",
   "metadata": {
    "tags": []
   },
   "outputs": [
    {
     "data": {
      "text/plain": [
       "Index(['Nom_Hotel', 'Adresse', 'Nom_Suite', 'Services', 'Note',\n",
       "       'Nbr_Experiences', 'Periode', 'Date', 'Prix'],\n",
       "      dtype='object')"
      ]
     },
     "execution_count": 4,
     "metadata": {},
     "output_type": "execute_result"
    }
   ],
   "source": [
    "dataframe.columns"
   ]
  },
  {
   "cell_type": "code",
   "execution_count": null,
   "id": "620a5370-2ba8-428d-9a86-77baad0ac156",
   "metadata": {
    "tags": []
   },
   "outputs": [
    {
     "name": "stdout",
     "output_type": "stream",
     "text": [
      "                                          Nom_Hotel  \\\n",
      "0                         Ruby Emma Hotel Amsterdam   \n",
      "1                        INNSiDE by Meliá Amsterdam   \n",
      "2                               Motel One Amsterdam   \n",
      "3                              Eden Hotel Amsterdam   \n",
      "4             Mövenpick Hotel Amsterdam City Centre   \n",
      "...                                             ...   \n",
      "24073    Swiss Star Zurich Oerlikon - Self Check-In   \n",
      "24074  Swiss Star Zurich University - Self Check-In   \n",
      "24075           Swiss Star Wiedikon - Self Check-In   \n",
      "24076                 La Réserve Eden au Lac Zurich   \n",
      "24077        Widder Hotel - Zurichs luxury hideaway   \n",
      "\n",
      "                                                 Adresse  \\\n",
      "0                        Oost-Watergraafsmeer, Amsterdam   \n",
      "1                                Zuideramstel, Amsterdam   \n",
      "2                                Zuideramstel, Amsterdam   \n",
      "3                          Centre d'Amsterdam, Amsterdam   \n",
      "4                                     Zeeburg, Amsterdam   \n",
      "...                                                  ...   \n",
      "24073                                   Oerlikon, Zurich   \n",
      "24074  1. Vieille ville de Zurich - Centre ville, Zurich   \n",
      "24075                                   Wiedikon, Zurich   \n",
      "24076                                    Seefeld, Zurich   \n",
      "24077  1. Vieille ville de Zurich - Centre ville, Zurich   \n",
      "\n",
      "                                     Nom_Suite  \\\n",
      "0                             Hébergement Mate   \n",
      "1                              Chambre Innside   \n",
      "2                               Chambre Double   \n",
      "3                      Chambre Simple Standard   \n",
      "4      Chambre Lits Jumeaux Classique avec Vue   \n",
      "...                                        ...   \n",
      "24073                                    Suite   \n",
      "24074                  Appartement (2 Adultes)   \n",
      "24075        Appartement 1 Chambre (2 Adultes)   \n",
      "24076          Chambre de Luxe – Vue sur Ville   \n",
      "24077                    Chambre Simple Design   \n",
      "\n",
      "                                                Services Note  \\\n",
      "0                                         2 lits simples  8,6   \n",
      "1         Types de lits : 1 lit double ou 2 lits simples  8,5   \n",
      "2                                           1 lit double  8,6   \n",
      "3                                           1 lit simple  8,2   \n",
      "4                                         2 lits simples  8,2   \n",
      "...                                                  ...  ...   \n",
      "24073                                 1 grand lit double  5,8   \n",
      "24074                                       1 lit double  6,3   \n",
      "24075                                 1 grand lit double  6,6   \n",
      "24076  4 lits (2 lits simples, 1 très grand lit doubl...  9,1   \n",
      "24077                                       1 lit simple  9,3   \n",
      "\n",
      "                Nbr_Experiences           Periode        Date        Prix  \n",
      "0      4 894 expériences vécues  1 nuit, 1 adulte  2023-11-22       € 159  \n",
      "1      5 081 expériences vécues  1 nuit, 1 adulte  2023-11-22  € 221€ 188  \n",
      "2      8 445 expériences vécues  1 nuit, 1 adulte  2023-11-22       € 130  \n",
      "3      7 930 expériences vécues  1 nuit, 1 adulte  2023-11-22       € 206  \n",
      "4      3 984 expériences vécues  1 nuit, 1 adulte  2023-11-22       € 203  \n",
      "...                         ...               ...         ...         ...  \n",
      "24073    223 expériences vécues  1 nuit, 1 adulte  2023-11-27       € 233  \n",
      "24074    627 expériences vécues  1 nuit, 1 adulte  2023-11-27       € 181  \n",
      "24075    554 expériences vécues  1 nuit, 1 adulte  2023-11-27       € 192  \n",
      "24076    432 expériences vécues  1 nuit, 1 adulte  2023-11-27       € 853  \n",
      "24077    361 expériences vécues  1 nuit, 1 adulte  2023-11-28       € 874  \n",
      "\n",
      "[24078 rows x 9 columns]\n"
     ]
    }
   ],
   "source": [
    "import pandas as pd\n",
    "\n",
    "# Obtenez le nombre de lignes actuel dans le DataFrame\n",
    "num_rows = len(dataframe)\n",
    "\n",
    "# Créez une plage de dates sans année\n",
    "start_date = pd.to_datetime('2023-11-22', format='%Y-%m-%d')\n",
    "end_date = pd.to_datetime('2023-11-28', format='%Y-%m-%d')\n",
    "date_range = pd.date_range(start_date, end_date, periods=num_rows)\n",
    "\n",
    "\n",
    "\n",
    "# Mettez à jour la colonne 'Date' dans le DataFrame\n",
    "dataframe['Date'] = date_range.strftime('%Y-%m-%d')\n",
    "\n",
    "# Affichez le DataFrame\n",
    "print(dataframe)"
   ]
  },
  {
   "cell_type": "code",
   "execution_count": null,
   "id": "531fc796-146e-4b06-8461-0f01e5df9bb9",
   "metadata": {
    "tags": []
   },
   "outputs": [
    {
     "name": "stdout",
     "output_type": "stream",
     "text": [
      "                                          Nom_Hotel  \\\n",
      "0                         Ruby Emma Hotel Amsterdam   \n",
      "1                        INNSiDE by Meliá Amsterdam   \n",
      "2                               Motel One Amsterdam   \n",
      "3                              Eden Hotel Amsterdam   \n",
      "4             Mövenpick Hotel Amsterdam City Centre   \n",
      "...                                             ...   \n",
      "24073    Swiss Star Zurich Oerlikon - Self Check-In   \n",
      "24074  Swiss Star Zurich University - Self Check-In   \n",
      "24075           Swiss Star Wiedikon - Self Check-In   \n",
      "24076                 La Réserve Eden au Lac Zurich   \n",
      "24077        Widder Hotel - Zurichs luxury hideaway   \n",
      "\n",
      "                                                 Adresse  \\\n",
      "0                        Oost-Watergraafsmeer, Amsterdam   \n",
      "1                                Zuideramstel, Amsterdam   \n",
      "2                                Zuideramstel, Amsterdam   \n",
      "3                          Centre d'Amsterdam, Amsterdam   \n",
      "4                                     Zeeburg, Amsterdam   \n",
      "...                                                  ...   \n",
      "24073                                   Oerlikon, Zurich   \n",
      "24074  1. Vieille ville de Zurich - Centre ville, Zurich   \n",
      "24075                                   Wiedikon, Zurich   \n",
      "24076                                    Seefeld, Zurich   \n",
      "24077  1. Vieille ville de Zurich - Centre ville, Zurich   \n",
      "\n",
      "                                                Services Note        Date  \\\n",
      "0                                         2 lits simples  8,6  2023-11-22   \n",
      "1         Types de lits : 1 lit double ou 2 lits simples  8,5  2023-11-22   \n",
      "2                                           1 lit double  8,6  2023-11-22   \n",
      "3                                           1 lit simple  8,2  2023-11-22   \n",
      "4                                         2 lits simples  8,2  2023-11-22   \n",
      "...                                                  ...  ...         ...   \n",
      "24073                                 1 grand lit double  5,8  2023-11-27   \n",
      "24074                                       1 lit double  6,3  2023-11-27   \n",
      "24075                                 1 grand lit double  6,6  2023-11-27   \n",
      "24076  4 lits (2 lits simples, 1 très grand lit doubl...  9,1  2023-11-27   \n",
      "24077                                       1 lit simple  9,3  2023-11-28   \n",
      "\n",
      "             Prix  \n",
      "0           € 159  \n",
      "1      € 221€ 188  \n",
      "2           € 130  \n",
      "3           € 206  \n",
      "4           € 203  \n",
      "...           ...  \n",
      "24073       € 233  \n",
      "24074       € 181  \n",
      "24075       € 192  \n",
      "24076       € 853  \n",
      "24077       € 874  \n",
      "\n",
      "[24078 rows x 6 columns]\n"
     ]
    }
   ],
   "source": [
    "dataframe.drop(['Nbr_Experiences', 'Nom_Suite','Periode'], axis=1, inplace=True)\n",
    "\n",
    "# Affiche le DataFrame après la suppression des colonnes\n",
    "print(dataframe)"
   ]
  },
  {
   "cell_type": "code",
   "execution_count": null,
   "id": "10a66340-236e-4be2-8a14-f53bd58cbe98",
   "metadata": {
    "tags": []
   },
   "outputs": [
    {
     "data": {
      "text/plain": [
       "Index(['Nom_Hotel', 'Adresse', 'Services', 'Note', 'Date', 'Prix'], dtype='object')"
      ]
     },
     "execution_count": 7,
     "metadata": {},
     "output_type": "execute_result"
    }
   ],
   "source": [
    "dataframe.columns"
   ]
  },
  {
   "cell_type": "code",
   "execution_count": null,
   "id": "d5e1d34d-0f91-4f49-b741-553630663032",
   "metadata": {
    "tags": []
   },
   "outputs": [
    {
     "name": "stdout",
     "output_type": "stream",
     "text": [
      "Nom_Hotel    object\n",
      "Adresse      object\n",
      "Services     object\n",
      "Note         object\n",
      "Date         object\n",
      "Prix         object\n",
      "dtype: object\n"
     ]
    }
   ],
   "source": [
    "print(dataframe.dtypes)"
   ]
  },
  {
   "cell_type": "code",
   "execution_count": null,
   "id": "f7c4de74-9323-4214-a143-991282ee342b",
   "metadata": {
    "tags": []
   },
   "outputs": [
    {
     "name": "stdout",
     "output_type": "stream",
     "text": [
      "                                          Nom_Hotel  \\\n",
      "0                         Ruby Emma Hotel Amsterdam   \n",
      "1                        INNSiDE by Meliá Amsterdam   \n",
      "2                               Motel One Amsterdam   \n",
      "3                              Eden Hotel Amsterdam   \n",
      "4             Mövenpick Hotel Amsterdam City Centre   \n",
      "...                                             ...   \n",
      "24073    Swiss Star Zurich Oerlikon - Self Check-In   \n",
      "24074  Swiss Star Zurich University - Self Check-In   \n",
      "24075           Swiss Star Wiedikon - Self Check-In   \n",
      "24076                 La Réserve Eden au Lac Zurich   \n",
      "24077        Widder Hotel - Zurichs luxury hideaway   \n",
      "\n",
      "                                                 Adresse  \\\n",
      "0                        Oost-Watergraafsmeer, Amsterdam   \n",
      "1                                Zuideramstel, Amsterdam   \n",
      "2                                Zuideramstel, Amsterdam   \n",
      "3                          Centre d'Amsterdam, Amsterdam   \n",
      "4                                     Zeeburg, Amsterdam   \n",
      "...                                                  ...   \n",
      "24073                                   Oerlikon, Zurich   \n",
      "24074  1. Vieille ville de Zurich - Centre ville, Zurich   \n",
      "24075                                   Wiedikon, Zurich   \n",
      "24076                                    Seefeld, Zurich   \n",
      "24077  1. Vieille ville de Zurich - Centre ville, Zurich   \n",
      "\n",
      "                                                Services Note        Date  \\\n",
      "0                                         2 lits simples  8,6  2023-11-22   \n",
      "1         Types de lits : 1 lit double ou 2 lits simples  8,5  2023-11-22   \n",
      "2                                           1 lit double  8,6  2023-11-22   \n",
      "3                                           1 lit simple  8,2  2023-11-22   \n",
      "4                                         2 lits simples  8,2  2023-11-22   \n",
      "...                                                  ...  ...         ...   \n",
      "24073                                 1 grand lit double  5,8  2023-11-27   \n",
      "24074                                       1 lit double  6,3  2023-11-27   \n",
      "24075                                 1 grand lit double  6,6  2023-11-27   \n",
      "24076  4 lits (2 lits simples, 1 très grand lit doubl...  9,1  2023-11-27   \n",
      "24077                                       1 lit simple  9,3  2023-11-28   \n",
      "\n",
      "             Prix                                   Adresse1      Ville  \n",
      "0           € 159                       Oost-Watergraafsmeer  Amsterdam  \n",
      "1      € 221€ 188                               Zuideramstel  Amsterdam  \n",
      "2           € 130                               Zuideramstel  Amsterdam  \n",
      "3           € 206                         Centre d'Amsterdam  Amsterdam  \n",
      "4           € 203                                    Zeeburg  Amsterdam  \n",
      "...           ...                                        ...        ...  \n",
      "24073       € 233                                   Oerlikon     Zurich  \n",
      "24074       € 181  1. Vieille ville de Zurich - Centre ville     Zurich  \n",
      "24075       € 192                                   Wiedikon     Zurich  \n",
      "24076       € 853                                    Seefeld     Zurich  \n",
      "24077       € 874  1. Vieille ville de Zurich - Centre ville     Zurich  \n",
      "\n",
      "[24078 rows x 8 columns]\n"
     ]
    }
   ],
   "source": [
    "# Split des valeurs de la colonne \"Adresse\" en deux parties\n",
    "split_df = dataframe['Adresse'].str.split(', ', n=1, expand=True)\n",
    "\n",
    "# Renommez les colonnes résultantes\n",
    "split_df.columns = ['Adresse1', 'Ville']\n",
    "\n",
    "# Ajoutez les colonnes \"Adresse\" et \"Ville\" au DataFrame\n",
    "dataframe = pd.concat([dataframe, split_df], axis=1)\n",
    "\n",
    "# Affiche le DataFrame après la modification\n",
    "print(dataframe)\n"
   ]
  },
  {
   "cell_type": "code",
   "execution_count": null,
   "id": "8f7a7686-7620-456a-9a2a-f9bc3276cb3c",
   "metadata": {
    "tags": []
   },
   "outputs": [
    {
     "data": {
      "text/html": [
       "<div>\n",
       "<style scoped>\n",
       "    .dataframe tbody tr th:only-of-type {\n",
       "        vertical-align: middle;\n",
       "    }\n",
       "\n",
       "    .dataframe tbody tr th {\n",
       "        vertical-align: top;\n",
       "    }\n",
       "\n",
       "    .dataframe thead th {\n",
       "        text-align: right;\n",
       "    }\n",
       "</style>\n",
       "<table border=\"1\" class=\"dataframe\">\n",
       "  <thead>\n",
       "    <tr style=\"text-align: right;\">\n",
       "      <th></th>\n",
       "      <th>Nom_Hotel</th>\n",
       "      <th>Adresse</th>\n",
       "      <th>Services</th>\n",
       "      <th>Note</th>\n",
       "      <th>Date</th>\n",
       "      <th>Prix</th>\n",
       "      <th>Adresse1</th>\n",
       "      <th>Ville</th>\n",
       "    </tr>\n",
       "  </thead>\n",
       "  <tbody>\n",
       "    <tr>\n",
       "      <th>0</th>\n",
       "      <td>Ruby Emma Hotel Amsterdam</td>\n",
       "      <td>Oost-Watergraafsmeer</td>\n",
       "      <td>2 lits simples</td>\n",
       "      <td>8,6</td>\n",
       "      <td>2023-11-22</td>\n",
       "      <td>€ 159</td>\n",
       "      <td>Oost-Watergraafsmeer</td>\n",
       "      <td>Amsterdam</td>\n",
       "    </tr>\n",
       "    <tr>\n",
       "      <th>1</th>\n",
       "      <td>INNSiDE by Meliá Amsterdam</td>\n",
       "      <td>Zuideramstel</td>\n",
       "      <td>Types de lits : 1 lit double ou 2 lits simples</td>\n",
       "      <td>8,5</td>\n",
       "      <td>2023-11-22</td>\n",
       "      <td>€ 221€ 188</td>\n",
       "      <td>Zuideramstel</td>\n",
       "      <td>Amsterdam</td>\n",
       "    </tr>\n",
       "    <tr>\n",
       "      <th>2</th>\n",
       "      <td>Motel One Amsterdam</td>\n",
       "      <td>Zuideramstel</td>\n",
       "      <td>1 lit double</td>\n",
       "      <td>8,6</td>\n",
       "      <td>2023-11-22</td>\n",
       "      <td>€ 130</td>\n",
       "      <td>Zuideramstel</td>\n",
       "      <td>Amsterdam</td>\n",
       "    </tr>\n",
       "    <tr>\n",
       "      <th>3</th>\n",
       "      <td>Eden Hotel Amsterdam</td>\n",
       "      <td>Centre d'Amsterdam</td>\n",
       "      <td>1 lit simple</td>\n",
       "      <td>8,2</td>\n",
       "      <td>2023-11-22</td>\n",
       "      <td>€ 206</td>\n",
       "      <td>Centre d'Amsterdam</td>\n",
       "      <td>Amsterdam</td>\n",
       "    </tr>\n",
       "    <tr>\n",
       "      <th>4</th>\n",
       "      <td>Mövenpick Hotel Amsterdam City Centre</td>\n",
       "      <td>Zeeburg</td>\n",
       "      <td>2 lits simples</td>\n",
       "      <td>8,2</td>\n",
       "      <td>2023-11-22</td>\n",
       "      <td>€ 203</td>\n",
       "      <td>Zeeburg</td>\n",
       "      <td>Amsterdam</td>\n",
       "    </tr>\n",
       "  </tbody>\n",
       "</table>\n",
       "</div>"
      ],
      "text/plain": [
       "                               Nom_Hotel               Adresse  \\\n",
       "0              Ruby Emma Hotel Amsterdam  Oost-Watergraafsmeer   \n",
       "1             INNSiDE by Meliá Amsterdam          Zuideramstel   \n",
       "2                    Motel One Amsterdam          Zuideramstel   \n",
       "3                   Eden Hotel Amsterdam    Centre d'Amsterdam   \n",
       "4  Mövenpick Hotel Amsterdam City Centre               Zeeburg   \n",
       "\n",
       "                                         Services Note        Date  \\\n",
       "0                                  2 lits simples  8,6  2023-11-22   \n",
       "1  Types de lits : 1 lit double ou 2 lits simples  8,5  2023-11-22   \n",
       "2                                    1 lit double  8,6  2023-11-22   \n",
       "3                                    1 lit simple  8,2  2023-11-22   \n",
       "4                                  2 lits simples  8,2  2023-11-22   \n",
       "\n",
       "         Prix              Adresse1      Ville  \n",
       "0       € 159  Oost-Watergraafsmeer  Amsterdam  \n",
       "1  € 221€ 188          Zuideramstel  Amsterdam  \n",
       "2       € 130          Zuideramstel  Amsterdam  \n",
       "3       € 206    Centre d'Amsterdam  Amsterdam  \n",
       "4       € 203               Zeeburg  Amsterdam  "
      ]
     },
     "execution_count": 10,
     "metadata": {},
     "output_type": "execute_result"
    }
   ],
   "source": [
    "for index, row in dataframe.iterrows():\n",
    "    if ', ' in row['Adresse']:\n",
    "        parts = row['Adresse'].split(', ', 1)\n",
    "        dataframe.at[index, 'Adresse'] = parts[0]\n",
    "dataframe.head()"
   ]
  },
  {
   "cell_type": "code",
   "execution_count": null,
   "id": "52ecd502-f48f-4fef-b470-e7ef44d82249",
   "metadata": {
    "tags": []
   },
   "outputs": [
    {
     "data": {
      "text/html": [
       "<div>\n",
       "<style scoped>\n",
       "    .dataframe tbody tr th:only-of-type {\n",
       "        vertical-align: middle;\n",
       "    }\n",
       "\n",
       "    .dataframe tbody tr th {\n",
       "        vertical-align: top;\n",
       "    }\n",
       "\n",
       "    .dataframe thead th {\n",
       "        text-align: right;\n",
       "    }\n",
       "</style>\n",
       "<table border=\"1\" class=\"dataframe\">\n",
       "  <thead>\n",
       "    <tr style=\"text-align: right;\">\n",
       "      <th></th>\n",
       "      <th>Nom_Hotel</th>\n",
       "      <th>Adresse</th>\n",
       "      <th>Services</th>\n",
       "      <th>Note</th>\n",
       "      <th>Date</th>\n",
       "      <th>Prix</th>\n",
       "      <th>Adresse1</th>\n",
       "      <th>Ville</th>\n",
       "    </tr>\n",
       "  </thead>\n",
       "  <tbody>\n",
       "    <tr>\n",
       "      <th>0</th>\n",
       "      <td>Ruby Emma Hotel Amsterdam</td>\n",
       "      <td>Oost-Watergraafsmeer</td>\n",
       "      <td>2 lits simples</td>\n",
       "      <td>8.6</td>\n",
       "      <td>2023-11-22</td>\n",
       "      <td>159</td>\n",
       "      <td>Oost-Watergraafsmeer</td>\n",
       "      <td>Amsterdam</td>\n",
       "    </tr>\n",
       "    <tr>\n",
       "      <th>1</th>\n",
       "      <td>INNSiDE by Meliá Amsterdam</td>\n",
       "      <td>Zuideramstel</td>\n",
       "      <td>Types de lits : 1 lit double ou 2 lits simples</td>\n",
       "      <td>8.5</td>\n",
       "      <td>2023-11-22</td>\n",
       "      <td>221 188</td>\n",
       "      <td>Zuideramstel</td>\n",
       "      <td>Amsterdam</td>\n",
       "    </tr>\n",
       "    <tr>\n",
       "      <th>2</th>\n",
       "      <td>Motel One Amsterdam</td>\n",
       "      <td>Zuideramstel</td>\n",
       "      <td>1 lit double</td>\n",
       "      <td>8.6</td>\n",
       "      <td>2023-11-22</td>\n",
       "      <td>130</td>\n",
       "      <td>Zuideramstel</td>\n",
       "      <td>Amsterdam</td>\n",
       "    </tr>\n",
       "    <tr>\n",
       "      <th>3</th>\n",
       "      <td>Eden Hotel Amsterdam</td>\n",
       "      <td>Centre d'Amsterdam</td>\n",
       "      <td>1 lit simple</td>\n",
       "      <td>8.2</td>\n",
       "      <td>2023-11-22</td>\n",
       "      <td>206</td>\n",
       "      <td>Centre d'Amsterdam</td>\n",
       "      <td>Amsterdam</td>\n",
       "    </tr>\n",
       "    <tr>\n",
       "      <th>4</th>\n",
       "      <td>Mövenpick Hotel Amsterdam City Centre</td>\n",
       "      <td>Zeeburg</td>\n",
       "      <td>2 lits simples</td>\n",
       "      <td>8.2</td>\n",
       "      <td>2023-11-22</td>\n",
       "      <td>203</td>\n",
       "      <td>Zeeburg</td>\n",
       "      <td>Amsterdam</td>\n",
       "    </tr>\n",
       "  </tbody>\n",
       "</table>\n",
       "</div>"
      ],
      "text/plain": [
       "                               Nom_Hotel               Adresse  \\\n",
       "0              Ruby Emma Hotel Amsterdam  Oost-Watergraafsmeer   \n",
       "1             INNSiDE by Meliá Amsterdam          Zuideramstel   \n",
       "2                    Motel One Amsterdam          Zuideramstel   \n",
       "3                   Eden Hotel Amsterdam    Centre d'Amsterdam   \n",
       "4  Mövenpick Hotel Amsterdam City Centre               Zeeburg   \n",
       "\n",
       "                                         Services Note       Date      Prix  \\\n",
       "0                                  2 lits simples  8.6 2023-11-22       159   \n",
       "1  Types de lits : 1 lit double ou 2 lits simples  8.5 2023-11-22   221 188   \n",
       "2                                    1 lit double  8.6 2023-11-22       130   \n",
       "3                                    1 lit simple  8.2 2023-11-22       206   \n",
       "4                                  2 lits simples  8.2 2023-11-22       203   \n",
       "\n",
       "               Adresse1      Ville  \n",
       "0  Oost-Watergraafsmeer  Amsterdam  \n",
       "1          Zuideramstel  Amsterdam  \n",
       "2          Zuideramstel  Amsterdam  \n",
       "3    Centre d'Amsterdam  Amsterdam  \n",
       "4               Zeeburg  Amsterdam  "
      ]
     },
     "execution_count": 11,
     "metadata": {},
     "output_type": "execute_result"
    }
   ],
   "source": [
    "# Transformation de la colonne 'Prix' en int\n",
    "dataframe['Prix'] = dataframe['Prix'].str.replace('€', '')\n",
    "\n",
    "# Transformation de la colonne 'Note' en float\n",
    "dataframe['Note'] = dataframe['Note'].str.replace(',', '.')\n",
    "\n",
    "# Transformation de la colonne 'Date' en datetime\n",
    "dataframe['Date'] = pd.to_datetime(dataframe['Date'], format='%Y-%m-%d')\n",
    "\n",
    "\n",
    "dataframe.head()"
   ]
  },
  {
   "cell_type": "code",
   "execution_count": null,
   "id": "40a3274a-9610-4023-a5f7-7eac8d5cf32f",
   "metadata": {
    "tags": []
   },
   "outputs": [],
   "source": [
    "# Transformation de la colonne 'Note' en str\n",
    "dataframe['Note'] = dataframe['Note'].astype(float)\n",
    "\n",
    "# Supprimez les caractères non numériques et convertissez la colonne 'Prix' en float\n",
    "dataframe['Prix'] = dataframe['Prix'].str.replace(r'[^\\d.]', '', regex=True).astype(float)\n",
    "\n",
    "\n"
   ]
  },
  {
   "cell_type": "code",
   "execution_count": null,
   "id": "ebeb4a3f-580f-4b65-b092-6483c109fa31",
   "metadata": {
    "tags": []
   },
   "outputs": [
    {
     "data": {
      "text/plain": [
       "Index(['Nom_Hotel', 'Adresse', 'Services', 'Note', 'Date', 'Prix', 'Adresse1',\n",
       "       'Ville'],\n",
       "      dtype='object')"
      ]
     },
     "execution_count": 13,
     "metadata": {},
     "output_type": "execute_result"
    }
   ],
   "source": [
    "dataframe.columns"
   ]
  },
  {
   "cell_type": "code",
   "execution_count": null,
   "id": "dd36e388-7861-495f-98bd-36a12274337e",
   "metadata": {
    "tags": []
   },
   "outputs": [
    {
     "name": "stdout",
     "output_type": "stream",
     "text": [
      "Nom_Hotel            object\n",
      "Adresse              object\n",
      "Services             object\n",
      "Note                float64\n",
      "Date         datetime64[ns]\n",
      "Prix                float64\n",
      "Adresse1             object\n",
      "Ville                object\n",
      "dtype: object\n"
     ]
    }
   ],
   "source": [
    "print(dataframe.dtypes)"
   ]
  },
  {
   "cell_type": "code",
   "execution_count": null,
   "id": "fd0098a2-14cc-4677-9e5c-ab29025f1b24",
   "metadata": {
    "tags": []
   },
   "outputs": [
    {
     "data": {
      "text/html": [
       "<div>\n",
       "<style scoped>\n",
       "    .dataframe tbody tr th:only-of-type {\n",
       "        vertical-align: middle;\n",
       "    }\n",
       "\n",
       "    .dataframe tbody tr th {\n",
       "        vertical-align: top;\n",
       "    }\n",
       "\n",
       "    .dataframe thead th {\n",
       "        text-align: right;\n",
       "    }\n",
       "</style>\n",
       "<table border=\"1\" class=\"dataframe\">\n",
       "  <thead>\n",
       "    <tr style=\"text-align: right;\">\n",
       "      <th></th>\n",
       "      <th>Nom_Hotel</th>\n",
       "      <th>Adresse</th>\n",
       "      <th>Services</th>\n",
       "      <th>Note</th>\n",
       "      <th>Date</th>\n",
       "      <th>Prix</th>\n",
       "      <th>Adresse1</th>\n",
       "      <th>Ville</th>\n",
       "    </tr>\n",
       "  </thead>\n",
       "  <tbody>\n",
       "    <tr>\n",
       "      <th>0</th>\n",
       "      <td>Ruby Emma Hotel Amsterdam</td>\n",
       "      <td>Oost-Watergraafsmeer</td>\n",
       "      <td>2 lits simples</td>\n",
       "      <td>8.6</td>\n",
       "      <td>2023-11-22</td>\n",
       "      <td>159.0</td>\n",
       "      <td>Oost-Watergraafsmeer</td>\n",
       "      <td>Amsterdam</td>\n",
       "    </tr>\n",
       "    <tr>\n",
       "      <th>1</th>\n",
       "      <td>INNSiDE by Meliá Amsterdam</td>\n",
       "      <td>Zuideramstel</td>\n",
       "      <td>Types de lits : 1 lit double ou 2 lits simples</td>\n",
       "      <td>8.5</td>\n",
       "      <td>2023-11-22</td>\n",
       "      <td>221188.0</td>\n",
       "      <td>Zuideramstel</td>\n",
       "      <td>Amsterdam</td>\n",
       "    </tr>\n",
       "    <tr>\n",
       "      <th>2</th>\n",
       "      <td>Motel One Amsterdam</td>\n",
       "      <td>Zuideramstel</td>\n",
       "      <td>1 lit double</td>\n",
       "      <td>8.6</td>\n",
       "      <td>2023-11-22</td>\n",
       "      <td>130.0</td>\n",
       "      <td>Zuideramstel</td>\n",
       "      <td>Amsterdam</td>\n",
       "    </tr>\n",
       "    <tr>\n",
       "      <th>3</th>\n",
       "      <td>Eden Hotel Amsterdam</td>\n",
       "      <td>Centre d'Amsterdam</td>\n",
       "      <td>1 lit simple</td>\n",
       "      <td>8.2</td>\n",
       "      <td>2023-11-22</td>\n",
       "      <td>206.0</td>\n",
       "      <td>Centre d'Amsterdam</td>\n",
       "      <td>Amsterdam</td>\n",
       "    </tr>\n",
       "    <tr>\n",
       "      <th>4</th>\n",
       "      <td>Mövenpick Hotel Amsterdam City Centre</td>\n",
       "      <td>Zeeburg</td>\n",
       "      <td>2 lits simples</td>\n",
       "      <td>8.2</td>\n",
       "      <td>2023-11-22</td>\n",
       "      <td>203.0</td>\n",
       "      <td>Zeeburg</td>\n",
       "      <td>Amsterdam</td>\n",
       "    </tr>\n",
       "  </tbody>\n",
       "</table>\n",
       "</div>"
      ],
      "text/plain": [
       "                               Nom_Hotel               Adresse  \\\n",
       "0              Ruby Emma Hotel Amsterdam  Oost-Watergraafsmeer   \n",
       "1             INNSiDE by Meliá Amsterdam          Zuideramstel   \n",
       "2                    Motel One Amsterdam          Zuideramstel   \n",
       "3                   Eden Hotel Amsterdam    Centre d'Amsterdam   \n",
       "4  Mövenpick Hotel Amsterdam City Centre               Zeeburg   \n",
       "\n",
       "                                         Services  Note       Date      Prix  \\\n",
       "0                                  2 lits simples   8.6 2023-11-22     159.0   \n",
       "1  Types de lits : 1 lit double ou 2 lits simples   8.5 2023-11-22  221188.0   \n",
       "2                                    1 lit double   8.6 2023-11-22     130.0   \n",
       "3                                    1 lit simple   8.2 2023-11-22     206.0   \n",
       "4                                  2 lits simples   8.2 2023-11-22     203.0   \n",
       "\n",
       "               Adresse1      Ville  \n",
       "0  Oost-Watergraafsmeer  Amsterdam  \n",
       "1          Zuideramstel  Amsterdam  \n",
       "2          Zuideramstel  Amsterdam  \n",
       "3    Centre d'Amsterdam  Amsterdam  \n",
       "4               Zeeburg  Amsterdam  "
      ]
     },
     "execution_count": 15,
     "metadata": {},
     "output_type": "execute_result"
    }
   ],
   "source": [
    "dataframe.head()"
   ]
  },
  {
   "cell_type": "code",
   "execution_count": null,
   "id": "2e00cd12-e35b-4d6d-a7a1-3ea2fb9253ed",
   "metadata": {
    "tags": []
   },
   "outputs": [
    {
     "data": {
      "text/html": [
       "<div>\n",
       "<style scoped>\n",
       "    .dataframe tbody tr th:only-of-type {\n",
       "        vertical-align: middle;\n",
       "    }\n",
       "\n",
       "    .dataframe tbody tr th {\n",
       "        vertical-align: top;\n",
       "    }\n",
       "\n",
       "    .dataframe thead th {\n",
       "        text-align: right;\n",
       "    }\n",
       "</style>\n",
       "<table border=\"1\" class=\"dataframe\">\n",
       "  <thead>\n",
       "    <tr style=\"text-align: right;\">\n",
       "      <th></th>\n",
       "      <th>Nom_Hotel</th>\n",
       "      <th>Adresse</th>\n",
       "      <th>Services</th>\n",
       "      <th>Note</th>\n",
       "      <th>Date</th>\n",
       "      <th>Prix</th>\n",
       "      <th>Adresse1</th>\n",
       "      <th>Ville</th>\n",
       "    </tr>\n",
       "  </thead>\n",
       "  <tbody>\n",
       "    <tr>\n",
       "      <th>0</th>\n",
       "      <td>Ruby Emma Hotel Amsterdam</td>\n",
       "      <td>Oost-Watergraafsmeer</td>\n",
       "      <td>2 lits simples</td>\n",
       "      <td>8.6</td>\n",
       "      <td>2023-11-22</td>\n",
       "      <td>159.0</td>\n",
       "      <td>Oost-Watergraafsmeer</td>\n",
       "      <td>Amsterdam</td>\n",
       "    </tr>\n",
       "    <tr>\n",
       "      <th>1</th>\n",
       "      <td>INNSiDE by Meliá Amsterdam</td>\n",
       "      <td>Zuideramstel</td>\n",
       "      <td>Types de lits : 1 lit double ou 2 lits simples</td>\n",
       "      <td>8.5</td>\n",
       "      <td>2023-11-22</td>\n",
       "      <td>221188.0</td>\n",
       "      <td>Zuideramstel</td>\n",
       "      <td>Amsterdam</td>\n",
       "    </tr>\n",
       "    <tr>\n",
       "      <th>2</th>\n",
       "      <td>Motel One Amsterdam</td>\n",
       "      <td>Zuideramstel</td>\n",
       "      <td>1 lit double</td>\n",
       "      <td>8.6</td>\n",
       "      <td>2023-11-22</td>\n",
       "      <td>130.0</td>\n",
       "      <td>Zuideramstel</td>\n",
       "      <td>Amsterdam</td>\n",
       "    </tr>\n",
       "    <tr>\n",
       "      <th>3</th>\n",
       "      <td>Eden Hotel Amsterdam</td>\n",
       "      <td>Centre d'Amsterdam</td>\n",
       "      <td>1 lit simple</td>\n",
       "      <td>8.2</td>\n",
       "      <td>2023-11-22</td>\n",
       "      <td>206.0</td>\n",
       "      <td>Centre d'Amsterdam</td>\n",
       "      <td>Amsterdam</td>\n",
       "    </tr>\n",
       "    <tr>\n",
       "      <th>4</th>\n",
       "      <td>Mövenpick Hotel Amsterdam City Centre</td>\n",
       "      <td>Zeeburg</td>\n",
       "      <td>2 lits simples</td>\n",
       "      <td>8.2</td>\n",
       "      <td>2023-11-22</td>\n",
       "      <td>203.0</td>\n",
       "      <td>Zeeburg</td>\n",
       "      <td>Amsterdam</td>\n",
       "    </tr>\n",
       "    <tr>\n",
       "      <th>5</th>\n",
       "      <td>W Amsterdam</td>\n",
       "      <td>Centre d'Amsterdam</td>\n",
       "      <td>1 très grand lit double</td>\n",
       "      <td>7.6</td>\n",
       "      <td>2023-11-22</td>\n",
       "      <td>309.0</td>\n",
       "      <td>Centre d'Amsterdam</td>\n",
       "      <td>Amsterdam</td>\n",
       "    </tr>\n",
       "    <tr>\n",
       "      <th>6</th>\n",
       "      <td>Kimpton De Witt Amsterdam, an IHG Hotel</td>\n",
       "      <td>Centre d'Amsterdam</td>\n",
       "      <td>1 lit double</td>\n",
       "      <td>8.7</td>\n",
       "      <td>2023-11-22</td>\n",
       "      <td>237.0</td>\n",
       "      <td>Centre d'Amsterdam</td>\n",
       "      <td>Amsterdam</td>\n",
       "    </tr>\n",
       "    <tr>\n",
       "      <th>7</th>\n",
       "      <td>Banks Mansion - All Inclusive Boutique Hotel</td>\n",
       "      <td>Centre d'Amsterdam</td>\n",
       "      <td>Types de lits : 1 lit double ou 2 lits simples</td>\n",
       "      <td>8.9</td>\n",
       "      <td>2023-11-22</td>\n",
       "      <td>268.0</td>\n",
       "      <td>Centre d'Amsterdam</td>\n",
       "      <td>Amsterdam</td>\n",
       "    </tr>\n",
       "    <tr>\n",
       "      <th>8</th>\n",
       "      <td>Radisson Blu Hotel, Amsterdam City Center</td>\n",
       "      <td>Centre d'Amsterdam</td>\n",
       "      <td>Types de lits : 1 lit double ou 2 lits simples</td>\n",
       "      <td>8.4</td>\n",
       "      <td>2023-11-22</td>\n",
       "      <td>292.0</td>\n",
       "      <td>Centre d'Amsterdam</td>\n",
       "      <td>Amsterdam</td>\n",
       "    </tr>\n",
       "    <tr>\n",
       "      <th>9</th>\n",
       "      <td>Grand Hotel Amrâth Amsterdam</td>\n",
       "      <td>Centre d'Amsterdam</td>\n",
       "      <td>1 lit simple</td>\n",
       "      <td>7.7</td>\n",
       "      <td>2023-11-22</td>\n",
       "      <td>269242.0</td>\n",
       "      <td>Centre d'Amsterdam</td>\n",
       "      <td>Amsterdam</td>\n",
       "    </tr>\n",
       "  </tbody>\n",
       "</table>\n",
       "</div>"
      ],
      "text/plain": [
       "                                      Nom_Hotel               Adresse  \\\n",
       "0                     Ruby Emma Hotel Amsterdam  Oost-Watergraafsmeer   \n",
       "1                    INNSiDE by Meliá Amsterdam          Zuideramstel   \n",
       "2                           Motel One Amsterdam          Zuideramstel   \n",
       "3                          Eden Hotel Amsterdam    Centre d'Amsterdam   \n",
       "4         Mövenpick Hotel Amsterdam City Centre               Zeeburg   \n",
       "5                                   W Amsterdam    Centre d'Amsterdam   \n",
       "6       Kimpton De Witt Amsterdam, an IHG Hotel    Centre d'Amsterdam   \n",
       "7  Banks Mansion - All Inclusive Boutique Hotel    Centre d'Amsterdam   \n",
       "8     Radisson Blu Hotel, Amsterdam City Center    Centre d'Amsterdam   \n",
       "9                  Grand Hotel Amrâth Amsterdam    Centre d'Amsterdam   \n",
       "\n",
       "                                         Services  Note       Date      Prix  \\\n",
       "0                                  2 lits simples   8.6 2023-11-22     159.0   \n",
       "1  Types de lits : 1 lit double ou 2 lits simples   8.5 2023-11-22  221188.0   \n",
       "2                                    1 lit double   8.6 2023-11-22     130.0   \n",
       "3                                    1 lit simple   8.2 2023-11-22     206.0   \n",
       "4                                  2 lits simples   8.2 2023-11-22     203.0   \n",
       "5                         1 très grand lit double   7.6 2023-11-22     309.0   \n",
       "6                                    1 lit double   8.7 2023-11-22     237.0   \n",
       "7  Types de lits : 1 lit double ou 2 lits simples   8.9 2023-11-22     268.0   \n",
       "8  Types de lits : 1 lit double ou 2 lits simples   8.4 2023-11-22     292.0   \n",
       "9                                    1 lit simple   7.7 2023-11-22  269242.0   \n",
       "\n",
       "               Adresse1      Ville  \n",
       "0  Oost-Watergraafsmeer  Amsterdam  \n",
       "1          Zuideramstel  Amsterdam  \n",
       "2          Zuideramstel  Amsterdam  \n",
       "3    Centre d'Amsterdam  Amsterdam  \n",
       "4               Zeeburg  Amsterdam  \n",
       "5    Centre d'Amsterdam  Amsterdam  \n",
       "6    Centre d'Amsterdam  Amsterdam  \n",
       "7    Centre d'Amsterdam  Amsterdam  \n",
       "8    Centre d'Amsterdam  Amsterdam  \n",
       "9    Centre d'Amsterdam  Amsterdam  "
      ]
     },
     "execution_count": 16,
     "metadata": {},
     "output_type": "execute_result"
    }
   ],
   "source": [
    "dataframe.head(10)"
   ]
  },
  {
   "cell_type": "code",
   "execution_count": null,
   "id": "8c1f04df-9e9e-4604-8b9a-7fd17ff81f69",
   "metadata": {
    "tags": []
   },
   "outputs": [
    {
     "name": "stdout",
     "output_type": "stream",
     "text": [
      "Nom_Hotel            object\n",
      "Adresse              object\n",
      "Services             object\n",
      "Note                float64\n",
      "Date         datetime64[ns]\n",
      "Prix                float64\n",
      "Adresse1             object\n",
      "Ville                object\n",
      "dtype: object\n"
     ]
    }
   ],
   "source": [
    "print(dataframe.dtypes)"
   ]
  },
  {
   "cell_type": "code",
   "execution_count": null,
   "id": "745cd40e-af95-4d3b-9baf-00cf01880681",
   "metadata": {},
   "outputs": [
    {
     "name": "stdout",
     "output_type": "stream",
     "text": [
      "                                          Nom_Hotel  \\\n",
      "0                         Ruby Emma Hotel Amsterdam   \n",
      "1                        INNSiDE by Meliá Amsterdam   \n",
      "2                               Motel One Amsterdam   \n",
      "3                              Eden Hotel Amsterdam   \n",
      "4             Mövenpick Hotel Amsterdam City Centre   \n",
      "...                                             ...   \n",
      "24073    Swiss Star Zurich Oerlikon - Self Check-In   \n",
      "24074  Swiss Star Zurich University - Self Check-In   \n",
      "24075           Swiss Star Wiedikon - Self Check-In   \n",
      "24076                 La Réserve Eden au Lac Zurich   \n",
      "24077        Widder Hotel - Zurichs luxury hideaway   \n",
      "\n",
      "                                                Services  Note       Date  \\\n",
      "0                                         2 lits simples   8.6 2023-11-22   \n",
      "1         Types de lits : 1 lit double ou 2 lits simples   8.5 2023-11-22   \n",
      "2                                           1 lit double   8.6 2023-11-22   \n",
      "3                                           1 lit simple   8.2 2023-11-22   \n",
      "4                                         2 lits simples   8.2 2023-11-22   \n",
      "...                                                  ...   ...        ...   \n",
      "24073                                 1 grand lit double   5.8 2023-11-27   \n",
      "24074                                       1 lit double   6.3 2023-11-27   \n",
      "24075                                 1 grand lit double   6.6 2023-11-27   \n",
      "24076  4 lits (2 lits simples, 1 très grand lit doubl...   9.1 2023-11-27   \n",
      "24077                                       1 lit simple   9.3 2023-11-28   \n",
      "\n",
      "           Prix                                   Adresse1      Ville  \n",
      "0         159.0                       Oost-Watergraafsmeer  Amsterdam  \n",
      "1      221188.0                               Zuideramstel  Amsterdam  \n",
      "2         130.0                               Zuideramstel  Amsterdam  \n",
      "3         206.0                         Centre d'Amsterdam  Amsterdam  \n",
      "4         203.0                                    Zeeburg  Amsterdam  \n",
      "...         ...                                        ...        ...  \n",
      "24073     233.0                                   Oerlikon     Zurich  \n",
      "24074     181.0  1. Vieille ville de Zurich - Centre ville     Zurich  \n",
      "24075     192.0                                   Wiedikon     Zurich  \n",
      "24076     853.0                                    Seefeld     Zurich  \n",
      "24077     874.0  1. Vieille ville de Zurich - Centre ville     Zurich  \n",
      "\n",
      "[24078 rows x 7 columns]\n"
     ]
    }
   ],
   "source": [
    "dataframe = dataframe.drop(labels='Adresse', axis=1)\n",
    "\n",
    "print(dataframe)"
   ]
  },
  {
   "cell_type": "code",
   "execution_count": null,
   "id": "ea26cd57-a2f2-4636-b29e-a66633f13723",
   "metadata": {
    "tags": []
   },
   "outputs": [],
   "source": [
    "dataframe = dataframe.rename(columns={'Adresse1': 'Adresse'})\n"
   ]
  },
  {
   "cell_type": "code",
   "execution_count": null,
   "id": "00f446ee-39d9-479b-9597-e62f0c72dd30",
   "metadata": {
    "tags": []
   },
   "outputs": [
    {
     "name": "stdout",
     "output_type": "stream",
     "text": [
      "                                          Nom_Hotel  \\\n",
      "0                         Ruby Emma Hotel Amsterdam   \n",
      "1                        INNSiDE by Meliá Amsterdam   \n",
      "2                               Motel One Amsterdam   \n",
      "3                              Eden Hotel Amsterdam   \n",
      "4             Mövenpick Hotel Amsterdam City Centre   \n",
      "...                                             ...   \n",
      "24073    Swiss Star Zurich Oerlikon - Self Check-In   \n",
      "24074  Swiss Star Zurich University - Self Check-In   \n",
      "24075           Swiss Star Wiedikon - Self Check-In   \n",
      "24076                 La Réserve Eden au Lac Zurich   \n",
      "24077        Widder Hotel - Zurichs luxury hideaway   \n",
      "\n",
      "                                                Services  Note       Date  \\\n",
      "0                                         2 lits simples   8.6 2023-11-22   \n",
      "1         Types de lits : 1 lit double ou 2 lits simples   8.5 2023-11-22   \n",
      "2                                           1 lit double   8.6 2023-11-22   \n",
      "3                                           1 lit simple   8.2 2023-11-22   \n",
      "4                                         2 lits simples   8.2 2023-11-22   \n",
      "...                                                  ...   ...        ...   \n",
      "24073                                 1 grand lit double   5.8 2023-11-27   \n",
      "24074                                       1 lit double   6.3 2023-11-27   \n",
      "24075                                 1 grand lit double   6.6 2023-11-27   \n",
      "24076  4 lits (2 lits simples, 1 très grand lit doubl...   9.1 2023-11-27   \n",
      "24077                                       1 lit simple   9.3 2023-11-28   \n",
      "\n",
      "           Prix                                    Adresse      Ville  \n",
      "0         159.0                       Oost-Watergraafsmeer  Amsterdam  \n",
      "1      221188.0                               Zuideramstel  Amsterdam  \n",
      "2         130.0                               Zuideramstel  Amsterdam  \n",
      "3         206.0                         Centre d'Amsterdam  Amsterdam  \n",
      "4         203.0                                    Zeeburg  Amsterdam  \n",
      "...         ...                                        ...        ...  \n",
      "24073     233.0                                   Oerlikon     Zurich  \n",
      "24074     181.0  1. Vieille ville de Zurich - Centre ville     Zurich  \n",
      "24075     192.0                                   Wiedikon     Zurich  \n",
      "24076     853.0                                    Seefeld     Zurich  \n",
      "24077     874.0  1. Vieille ville de Zurich - Centre ville     Zurich  \n",
      "\n",
      "[24078 rows x 7 columns]\n"
     ]
    }
   ],
   "source": [
    "print(dataframe)"
   ]
  },
  {
   "cell_type": "code",
   "execution_count": null,
   "id": "c71f5899-8367-4f6f-ad94-2b41a36374ea",
   "metadata": {
    "tags": []
   },
   "outputs": [],
   "source": [
    "import pandas as pd\n",
    "import pyarrow as pa\n",
    "\n",
    "\n",
    "table = pa.Table.from_pandas(dataframe)\n",
    "\n",
    "chemin_fichier_parquet = 'Hotels.parquet'\n",
    "\n",
    "pa.parquet.write_table(table, chemin_fichier_parquet)"
   ]
  },
  {
   "cell_type": "code",
   "execution_count": null,
   "id": "2b569b6b-c3d9-4006-9998-f966acb40513",
   "metadata": {},
   "outputs": [],
   "source": []
  }
 ],
 "metadata": {
  "kernelspec": {
   "display_name": "Python 3 (ipykernel)",
   "language": "python",
   "name": "python3"
  },
  "language_info": {
   "codemirror_mode": {
    "name": "ipython",
    "version": 3
   },
   "file_extension": ".py",
   "mimetype": "text/x-python",
   "name": "python",
   "nbconvert_exporter": "python",
   "pygments_lexer": "ipython3",
   "version": "3.12.0"
  }
 },
 "nbformat": 4,
 "nbformat_minor": 5
}
