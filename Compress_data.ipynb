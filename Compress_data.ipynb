{
 "cells": [
  {
   "cell_type": "code",
   "execution_count": 2,
   "id": "43889cdb-af62-47b0-b445-f678dd25bf0c",
   "metadata": {
    "tags": []
   },
   "outputs": [
    {
     "name": "stdout",
     "output_type": "stream",
     "text": [
      "Requirement already satisfied: pandas in c:\\users\\yskon\\anaconda3.2\\lib\\site-packages (2.0.3)\n",
      "Requirement already satisfied: pyarrow in c:\\users\\yskon\\anaconda3.2\\lib\\site-packages (11.0.0)\n",
      "Requirement already satisfied: python-dateutil>=2.8.2 in c:\\users\\yskon\\anaconda3.2\\lib\\site-packages (from pandas) (2.8.2)\n",
      "Requirement already satisfied: pytz>=2020.1 in c:\\users\\yskon\\anaconda3.2\\lib\\site-packages (from pandas) (2023.3.post1)\n",
      "Requirement already satisfied: tzdata>=2022.1 in c:\\users\\yskon\\anaconda3.2\\lib\\site-packages (from pandas) (2023.3)\n",
      "Requirement already satisfied: numpy>=1.21.0 in c:\\users\\yskon\\anaconda3.2\\lib\\site-packages (from pandas) (1.24.3)\n",
      "Requirement already satisfied: six>=1.5 in c:\\users\\yskon\\anaconda3.2\\lib\\site-packages (from python-dateutil>=2.8.2->pandas) (1.16.0)\n"
     ]
    }
   ],
   "source": [
    "!pip install pandas pyarrow\n"
   ]
  },
  {
   "cell_type": "code",
   "execution_count": 3,
   "id": "db15cbe6-0769-453a-aa2b-4228a39e62c7",
   "metadata": {
    "tags": []
   },
   "outputs": [],
   "source": [
    "import os\n",
    "import pandas as pd\n",
    "import pyarrow as pa\n",
    "import pyarrow.parquet as pq\n"
   ]
  },
  {
   "cell_type": "markdown",
   "id": "7a61ab95-b2b9-4529-8f4a-4e9e6569b851",
   "metadata": {},
   "source": [
    "## Transform : CSV to PARQUET"
   ]
  },
  {
   "cell_type": "code",
   "execution_count": 20,
   "id": "aa2de866-2eaf-4ec0-a718-43fea2f14687",
   "metadata": {
    "tags": []
   },
   "outputs": [],
   "source": [
    "csv_directory = R\"C:\\Users\\yskon\\Desktop\\Cheap\\Cheap_Advisor\\Scraping\\Travel_Scrapping\"\n",
    "\n",
    "csv_files = [file for file in os.listdir(csv_directory) if file.endswith('.csv')]\n",
    "\n",
    "for csv_file in csv_files:\n",
    "    \n",
    "    csv_path = os.path.join(csv_directory, csv_file)\n",
    "    df = pd.read_csv(csv_path, encoding='utf-8')\n",
    "\n",
    "   \n",
    "    parquet_file = os.path.splitext(csv_file)[0] + '.parquet'\n",
    "    parquet_path = os.path.join(csv_directory, parquet_file)\n",
    "\n",
    "    \n",
    "    table = pa.Table.from_pandas(df)\n",
    "\n",
    "    \n",
    "    with open(parquet_path, 'wb') as f:\n",
    "        pq.write_table(table, f)\n",
    "\n"
   ]
  },
  {
   "cell_type": "markdown",
   "id": "720f66b4-ffcb-4529-a803-6f0493adec3e",
   "metadata": {},
   "source": [
    "## CSV DELETE"
   ]
  },
  {
   "cell_type": "code",
   "execution_count": 30,
   "id": "11ac2c2d-3c1a-4619-97a8-ce19a13b5ceb",
   "metadata": {
    "tags": []
   },
   "outputs": [],
   "source": [
    "import os\n",
    "\n",
    "csv_directory = R\"C:\\Users\\yskon\\Desktop\\Cheap\\Cheap_Advisor\\Scrap_Training\\Scraping\\Travel_Scrapping\"\n",
    "csv_files = [file for file in os.listdir(csv_directory) if file.endswith('.csv')]\n",
    "\n",
    "for csv_file in csv_files:\n",
    "    csv_path = os.path.join(csv_directory, csv_file)\n",
    "    os.remove(csv_path)\n"
   ]
  },
  {
   "cell_type": "markdown",
   "id": "0a4750f6-c842-4665-aeb3-b03a965620d3",
   "metadata": {},
   "source": [
    "### Lecture des parquets"
   ]
  },
  {
   "cell_type": "code",
   "execution_count": null,
   "id": "afe52da9-0688-4946-bdd9-7ed8b8047400",
   "metadata": {},
   "outputs": [],
   "source": [
    "import os\n",
    "import pandas as pd\n",
    "import pyarrow.parquet as pq\n",
    "# à changer lee directory\n",
    "parquet_directory = R\"C:\\Users\\yskon\\Desktop\\Cheap\\Cheap_Advisor\\Scraping\\Travel_Scrapping\"\n",
    "parquet_files = [file for file in os.listdir(parquet_directory) if file.endswith('.parquet')]\n",
    "\n",
    "\n",
    "dataframes = []\n",
    "\n",
    "for parquet_file in parquet_files:\n",
    "    parquet_path = os.path.join(parquet_directory, parquet_file)\n",
    "\n",
    "  \n",
    "    table = pq.read_table(parquet_path)\n",
    "    df = table.to_pandas()\n",
    "\n",
    "    \n",
    "    dataframes.append(df)\n",
    "\n",
    "\n"
   ]
  }
 ],
 "metadata": {
  "kernelspec": {
   "display_name": "Python 3 (ipykernel)",
   "language": "python",
   "name": "python3"
  },
  "language_info": {
   "codemirror_mode": {
    "name": "ipython",
    "version": 3
   },
   "file_extension": ".py",
   "mimetype": "text/x-python",
   "name": "python",
   "nbconvert_exporter": "python",
   "pygments_lexer": "ipython3",
   "version": "3.11.5"
  }
 },
 "nbformat": 4,
 "nbformat_minor": 5
}
