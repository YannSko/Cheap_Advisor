{
 "cells": [
  {
   "cell_type": "markdown",
   "metadata": {},
   "source": [
    "https://www.booking.com"
   ]
  },
  {
   "cell_type": "code",
   "execution_count": 56,
   "metadata": {},
   "outputs": [],
   "source": [
    "from selenium import webdriver\n",
    "from fake_useragent import UserAgent\n",
    "import time\n",
    "from datetime import datetime, timedelta\n",
    "import pandas as pd\n",
    "\n",
    "from selenium.webdriver.common.keys import Keys\n",
    "from selenium.webdriver.common.by import By\n",
    "from selenium.common.exceptions import NoSuchElementException\n",
    "import logging\n",
    "from urllib3.exceptions import NewConnectionError\n",
    "from selenium.webdriver.support import expected_conditions as EC\n",
    "\n"
   ]
  },
  {
   "cell_type": "code",
   "execution_count": 57,
   "metadata": {},
   "outputs": [],
   "source": [
    "list_ville_pays = ['ss=Vienne%2C+Vienne+%28État%29%2C+Autriche', 'ss=Berlin%2C+Berlin+%28état+fédéral%29%2C+Allemagne', 'ss=Tirana%2C+Tirana+County%2C+Albanie', 'ss=Vienne%2C+Vienne+%28État%29%2C+Autriche', 'ss=Bruxelles%2C+Bruxelles%2C+Belgique', 'ss=Sarajevo%2C+Sarajevo+Canton%2C+Bosnie-Herzégovine', 'ss=Sofia%2C+Province+de+Sofia%2C+Bulgarie', 'ss=Nicosie%2C+Chypre', 'ss=Zagreb%2C+Comitat+de+Zagreb%2C+Croatie', 'ss=Copenhague%2C+Hovedstaden%2C+Danemark', 'ss=Madrid%2C+Communauté+de+Madrid%2C+Espagne', 'ss=Tallinn%2C+Harjumaa%2C+Estonie', 'ss=Helsinki%2C+Finlande-Méridionale%2C+Finlande', 'ss=Paris%2C+Île-de-France%2C+France', 'ss=Athènes%2C+Attique%2C+Grèce', 'ss=Budapest%2C+Pest%2C+Hongrie', 'ss=Dublin%2C+Comté+de+Dublin%2C+Irlande', 'ss=Reykjavik%2C+Grand+Reykjavik%2C+Islande', 'ss=Rome%2C+Latium%2C+Italie', 'ss=Pristina%2C+Pristina+County%2C+Kosovo', 'ss=Riga%2C+Vidzeme%2C+Lettonie', 'ss=Vaduz%2C+Suisse+orientale%2C+Liechtenstein', 'ss=Vilnius%2C+Vilnius+county%2C+Lituanie', 'ss=Luxembourg%2C+Luxembourg', 'ss=Skopje%2C+Macédoine+du+Nord', 'ss=La+Valette%2C+Île+de+Malte%2C+Malte', 'ss=Chişinău%2C+Moldavie', 'ss=Monte-Carlo%2C+Côte+d%27Azur%2C+Monaco', 'ss=Podgorica%2C+Podgorica+County%2C+Monténégro', 'ss=Oslo%2C+Comté+d%27Oslo%2C+Norvège', 'ss=Amsterdam%2C+Hollande-Septentrionale%2C+Pays-Bas', 'ss=Varsovie%2C+Mazovie%2C+Pologne', 'ss=Lisbonne%2C+Lisbon+Region%2C+Portugal', 'ss=Prague%2C+République+tchèque', 'ss=Bucarest%2C+Bucharest+-+Ilfov+Region%2C+Roumanie', 'ss=Londres%2C+Grand+Londres%2C+Royaume-Uni', 'ss=Belgrade%2C+Central+Serbia%2C+Serbie', 'ss=Bratislava%2C+Bratislavský+kraj%2C+Slovaquie', 'Ljubljana%2C+Osrednjeslovenska%2C+Slovénie', 'ss=Berne%2C+Canton+de+Berne%2C+Suisse', 'ss=Stockholm%2C+Comté+de+Stockholm%2C+Suède', 'ss=Kiev%2C+Ukraine', 'ss=Vatican%2C+Rome%2C+Latium%2C+Italie']\n",
    "\n",
    "#Data frame\n",
    "tab_name = []\n",
    "tab_prix = []\n",
    "tab_adresse = []\n",
    "tab_date = []\n",
    "tab_ville = []"
   ]
  },
  {
   "cell_type": "code",
   "execution_count": 58,
   "metadata": {},
   "outputs": [],
   "source": [
    "def get_start_end_date():\n",
    "    start_date = datetime.today()\n",
    "    end_date = start_date + timedelta(days=60)\n",
    "    \n",
    "    return start_date, end_date"
   ]
  },
  {
   "cell_type": "code",
   "execution_count": 59,
   "metadata": {},
   "outputs": [],
   "source": [
    "def get_driver(driver, start_date, end_trip, ville, start_date_str, end_trip_str, i):\n",
    "    #go to the next link\n",
    "    try:\n",
    "        driver.get(f\"https://www.booking.com/searchresults.fr.html?\"+ville+\"&efdco=1&label=gen173nr-1BCAEoggI46AdIM1gEaE2IAQGYAQ24ARfIAQzYAQHoAQGIAgGoAgO4Au7RjaoGwAIB0gIkNzQ3ZWY1ZWQtNDY5OC00ZmJhLTgxNGYtZTVhM2JlYWMzNWEx2AIF4AIB&sid=dfa66e6ef263fc9c219c2f7165d8a25f&aid=304142&lang=fr&sb=1&src_elem=sb&src=searchresults&dest_type=city&checkin=\"+start_date_str[0]+\"&checkout=\"+end_trip_str[0]+\"&group_adults=2&no_rooms=1&group_children=0&offset=\"+str(i))\n",
    "        print(f\"https://www.booking.com/searchresults.fr.html?\"+ville+\"&efdco=1&label=gen173nr-1BCAEoggI46AdIM1gEaE2IAQGYAQ24ARfIAQzYAQHoAQGIAgGoAgO4Au7RjaoGwAIB0gIkNzQ3ZWY1ZWQtNDY5OC00ZmJhLTgxNGYtZTVhM2JlYWMzNWEx2AIF4AIB&sid=dfa66e6ef263fc9c219c2f7165d8a25f&aid=304142&lang=fr&sb=1&src_elem=sb&src=searchresults&dest_type=city&checkin=\"+start_date_str[0]+\"&checkout=\"+end_trip_str[0]+\"&group_adults=2&no_rooms=1&group_children=0&offset=\"+str(i))\n",
    "    except NewConnectionError:\n",
    "        logging.error(f\"Erreur de connexion pour la date \"+start_date+\" et la date \"+end_trip)\n",
    "        try:\n",
    "            driver.get(f\"https://www.booking.com/searchresults.fr.html?\"+ville+\"&efdco=1&label=gen173nr-1BCAEoggI46AdIM1gEaE2IAQGYAQ24ARfIAQzYAQHoAQGIAgGoAgO4Au7RjaoGwAIB0gIkNzQ3ZWY1ZWQtNDY5OC00ZmJhLTgxNGYtZTVhM2JlYWMzNWEx2AIF4AIB&sid=dfa66e6ef263fc9c219c2f7165d8a25f&aid=304142&lang=fr&sb=1&src_elem=sb&src=searchresults&dest_type=city&checkin=\"+start_date_str[0]+\"&checkout=\"+end_trip_str[0]+\"&group_adults=2&no_rooms=1&group_children=0&offset=\"+str(i))\n",
    "\n",
    "        except Exception as e:\n",
    "            logging.error(f\"impossible de scrapper cette date : \"+start_date+\" et \"+end_trip)\n",
    "            driver.quit()\n",
    "    time.sleep(2)\n",
    "    return driver"
   ]
  },
  {
   "cell_type": "code",
   "execution_count": 60,
   "metadata": {},
   "outputs": [],
   "source": [
    "def get_url_list(driver, start_date, end_trip, ville, start_date_str, end_trip_str):\n",
    "    url_list = []\n",
    "    driver = get_driver(driver, start_date, end_trip, ville, start_date_str, end_trip_str, i=0)\n",
    "    \n",
    "    offset = driver.find_element(By.XPATH, '/html/body/div[5]/div/div[4]/div[1]/div[1]/div[4]/div[2]/div[2]/div/div/div[4]/div[2]/nav/nav/div/div[2]/ol/li[7]/button').get_attribute(\"textContent\")\n",
    "    print(offset)\n",
    "    \n",
    "    for i in range(0, int(offset)*25, 25) :\n",
    "        driver = get_driver(driver, start_date, end_trip, ville, start_date_str, end_trip_str, i)\n",
    "        link_elements = driver.find_elements(By.CLASS_NAME, 'a78ca197d0').get_attribute(\"extContent\")\n",
    "        \n",
    "        for link_element in link_elements:\n",
    "            url = link_element.get_attribute(\"href\")\n",
    "            if url is not None:\n",
    "                url_list.append(url)\n",
    "    \n",
    "    \n",
    "    return url_list, driver"
   ]
  },
  {
   "cell_type": "code",
   "execution_count": 61,
   "metadata": {},
   "outputs": [],
   "source": [
    "def get_data(driver):\n",
    "    try:\n",
    "        nom_chambre = driver.find_element(By.CSS_SELECTOR, '.d2fee87262').get_attribute('textContent')\n",
    "        print(nom_chambre)\n",
    "        \n",
    "        prix_initiale = driver.find_element(By.CSS_SELECTOR, 'td.hp-price-left-align:nth-child(3) > div:nth-child(1) > div:nth-child(1) > div:nth-child(1) > div:nth-child(1) > div:nth-child(1)').get_attribute('textContent')\n",
    "        print(prix_initiale)\n",
    "        \n",
    "        taux_reduction = driver.find_element(By.CSS_SELECTOR, 'td.hp-price-left-align:nth-child(3) > div:nth-child(1) > div:nth-child(2) > div:nth-child(1) > div:nth-child(1) > span:nth-child(1) > span:nth-child(1) > span:nth-child(1)').get_attribute('textContent')\n",
    "        print(taux_reduction) \n",
    "        \n",
    "        prix_apres_reduction = driver.find_element(By.CSS_SELECTOR, 'td.hp-price-left-align:nth-child(3) > div:nth-child(1) > div:nth-child(1) > div:nth-child(1) > div:nth-child(2) > div:nth-child(1) > span:nth-child(1)').get_attribute('textContent')\n",
    "        print(prix_apres_reduction)\n",
    "        \n",
    "        emplacement = driver.find_element(By.XPATH, '/html/body/div[3]/div/div[5]/div[1]/div[1]/div[1]/div/div[3]/div[11]/p/a').get_attribute('data-atlas-latlng')\n",
    "        print(emplacement)\n",
    "        \n",
    "    except NoSuchElementException as e:\n",
    "        print(e)\n",
    "        return\n",
    "    \n",
    "    time.sleep(3)"
   ]
  },
  {
   "cell_type": "code",
   "execution_count": 62,
   "metadata": {},
   "outputs": [],
   "source": [
    "def go_to_url(url_list, driver, start_date):\n",
    "    for url in url_list:\n",
    "        nom_chambre = ''\n",
    "        prix_initiale = ''\n",
    "        try:\n",
    "            driver.get(url)\n",
    "        except Exception as e:\n",
    "            logging.error(\"impossible de se connecter\")\n",
    "            logging.error(\"reessaie...\")\n",
    "            try:\n",
    "                driver.get(url)\n",
    "            except Exception as e:\n",
    "                logging.error(\"pas de connexion frero\")\n",
    "                continue\n",
    "        print(url)\n",
    "        # get all necessary data from the pages \n",
    "        \n",
    "        try:\n",
    "            nom_chambre = driver.find_element(By.CSS_SELECTOR, '.d2fee87262').get_attribute('textContent')\n",
    "            print(f\"nom hotel : \"+ nom_chambre)\n",
    "            tab_name.append(nom_chambre)\n",
    "        except Exception as e:\n",
    "            tab_name.append('')\n",
    "        \n",
    "        try :\n",
    "            prix_initiale = driver.find_element(By.CLASS_NAME, 'prco-valign-middle-helper').get_attribute('textContent')\n",
    "            print(f\"prix initale : \"+prix_initiale)\n",
    "            tab_prix.append(prix_initiale)\n",
    "        except Exception as e:\n",
    "            tab_prix.append('')\n",
    "        \n",
    "        try :\n",
    "            emplacement = driver.find_element(By.XPATH, '/html/body/div[3]/div/div[5]/div[1]/div[1]/div[1]/div/div[3]/div[11]/p/a').get_attribute('data-atlas-latlng')\n",
    "            print(f\"adresse : \"+emplacement)\n",
    "            tab_adresse.append(emplacement)\n",
    "        except Exception as e:\n",
    "            tab_adresse.append('')\n",
    "            \n",
    "            \n",
    "        tab_date.append(start_date)\n",
    "        time.sleep(3)\n",
    "    \n",
    "    "
   ]
  },
  {
   "cell_type": "code",
   "execution_count": 63,
   "metadata": {},
   "outputs": [
    {
     "name": "stdout",
     "output_type": "stream",
     "text": [
      "new date\n",
      "https://www.booking.com/searchresults.fr.html?ss=Vienne%2C+Vienne+%28État%29%2C+Autriche&efdco=1&label=gen173nr-1BCAEoggI46AdIM1gEaE2IAQGYAQ24ARfIAQzYAQHoAQGIAgGoAgO4Au7RjaoGwAIB0gIkNzQ3ZWY1ZWQtNDY5OC00ZmJhLTgxNGYtZTVhM2JlYWMzNWEx2AIF4AIB&sid=dfa66e6ef263fc9c219c2f7165d8a25f&aid=304142&lang=fr&sb=1&src_elem=sb&src=searchresults&dest_type=city&checkin=2023-11-03&checkout=2023-11-04&group_adults=2&no_rooms=1&group_children=0&offset=0\n"
     ]
    },
    {
     "ename": "NoSuchElementException",
     "evalue": "Message: Unable to locate element: /html/body/div[5]/div/div[4]/div[1]/div[1]/div[4]/div[2]/div[2]/div/div/div[4]/div[2]/nav/nav/div/div[2]/ol/li[7]/button; For documentation on this error, please visit: https://www.selenium.dev/documentation/webdriver/troubleshooting/errors#no-such-element-exception\nStacktrace:\nRemoteError@chrome://remote/content/shared/RemoteError.sys.mjs:8:8\nWebDriverError@chrome://remote/content/shared/webdriver/Errors.sys.mjs:189:5\nNoSuchElementError@chrome://remote/content/shared/webdriver/Errors.sys.mjs:507:5\ndom.find/</<@chrome://remote/content/shared/DOM.sys.mjs:132:16\n",
     "output_type": "error",
     "traceback": [
      "\u001b[1;31m---------------------------------------------------------------------------\u001b[0m",
      "\u001b[1;31mNoSuchElementException\u001b[0m                    Traceback (most recent call last)",
      "Cell \u001b[1;32mIn[63], line 28\u001b[0m\n\u001b[0;32m     24\u001b[0m end_trip_str \u001b[39m=\u001b[39m \u001b[39mstr\u001b[39m(end_trip)\u001b[39m.\u001b[39msplit(\u001b[39m'\u001b[39m\u001b[39m \u001b[39m\u001b[39m'\u001b[39m)\n\u001b[0;32m     25\u001b[0m \u001b[39m#------------\u001b[39;00m\n\u001b[0;32m     26\u001b[0m \n\u001b[0;32m     27\u001b[0m \u001b[39m# get a list of url\u001b[39;00m\n\u001b[1;32m---> 28\u001b[0m url_list, driver \u001b[39m=\u001b[39m get_url_list(driver, start_date, end_trip, ville, start_date_str, end_trip_str)\n\u001b[0;32m     29\u001b[0m \u001b[39m#go to the matching url \u001b[39;00m\n\u001b[0;32m     30\u001b[0m go_to_url(url_list, driver, start_date)  \n",
      "Cell \u001b[1;32mIn[60], line 5\u001b[0m, in \u001b[0;36mget_url_list\u001b[1;34m(driver, start_date, end_trip, ville, start_date_str, end_trip_str)\u001b[0m\n\u001b[0;32m      2\u001b[0m url_list \u001b[39m=\u001b[39m []\n\u001b[0;32m      3\u001b[0m driver \u001b[39m=\u001b[39m get_driver(driver, start_date, end_trip, ville, start_date_str, end_trip_str, i\u001b[39m=\u001b[39m\u001b[39m0\u001b[39m)\n\u001b[1;32m----> 5\u001b[0m offset \u001b[39m=\u001b[39m driver\u001b[39m.\u001b[39;49mfind_element(By\u001b[39m.\u001b[39;49mXPATH, \u001b[39m'\u001b[39;49m\u001b[39m/html/body/div[5]/div/div[4]/div[1]/div[1]/div[4]/div[2]/div[2]/div/div/div[4]/div[2]/nav/nav/div/div[2]/ol/li[7]/button\u001b[39;49m\u001b[39m'\u001b[39;49m)\u001b[39m.\u001b[39mget_attribute(\u001b[39m\"\u001b[39m\u001b[39mtextContent\u001b[39m\u001b[39m\"\u001b[39m)\n\u001b[0;32m      6\u001b[0m \u001b[39mprint\u001b[39m(offset)\n\u001b[0;32m      8\u001b[0m \u001b[39mfor\u001b[39;00m i \u001b[39min\u001b[39;00m \u001b[39mrange\u001b[39m(\u001b[39m0\u001b[39m, \u001b[39mint\u001b[39m(offset)\u001b[39m*\u001b[39m\u001b[39m25\u001b[39m, \u001b[39m25\u001b[39m) :\n",
      "File \u001b[1;32mc:\\Users\\DJLOPEZ\\AppData\\Local\\Programs\\Python\\Python312\\Lib\\site-packages\\selenium\\webdriver\\remote\\webdriver.py:738\u001b[0m, in \u001b[0;36mWebDriver.find_element\u001b[1;34m(self, by, value)\u001b[0m\n\u001b[0;32m    735\u001b[0m     by \u001b[39m=\u001b[39m By\u001b[39m.\u001b[39mCSS_SELECTOR\n\u001b[0;32m    736\u001b[0m     value \u001b[39m=\u001b[39m \u001b[39mf\u001b[39m\u001b[39m'\u001b[39m\u001b[39m[name=\u001b[39m\u001b[39m\"\u001b[39m\u001b[39m{\u001b[39;00mvalue\u001b[39m}\u001b[39;00m\u001b[39m\"\u001b[39m\u001b[39m]\u001b[39m\u001b[39m'\u001b[39m\n\u001b[1;32m--> 738\u001b[0m \u001b[39mreturn\u001b[39;00m \u001b[39mself\u001b[39;49m\u001b[39m.\u001b[39;49mexecute(Command\u001b[39m.\u001b[39;49mFIND_ELEMENT, {\u001b[39m\"\u001b[39;49m\u001b[39musing\u001b[39;49m\u001b[39m\"\u001b[39;49m: by, \u001b[39m\"\u001b[39;49m\u001b[39mvalue\u001b[39;49m\u001b[39m\"\u001b[39;49m: value})[\u001b[39m\"\u001b[39m\u001b[39mvalue\u001b[39m\u001b[39m\"\u001b[39m]\n",
      "File \u001b[1;32mc:\\Users\\DJLOPEZ\\AppData\\Local\\Programs\\Python\\Python312\\Lib\\site-packages\\selenium\\webdriver\\remote\\webdriver.py:344\u001b[0m, in \u001b[0;36mWebDriver.execute\u001b[1;34m(self, driver_command, params)\u001b[0m\n\u001b[0;32m    342\u001b[0m response \u001b[39m=\u001b[39m \u001b[39mself\u001b[39m\u001b[39m.\u001b[39mcommand_executor\u001b[39m.\u001b[39mexecute(driver_command, params)\n\u001b[0;32m    343\u001b[0m \u001b[39mif\u001b[39;00m response:\n\u001b[1;32m--> 344\u001b[0m     \u001b[39mself\u001b[39;49m\u001b[39m.\u001b[39;49merror_handler\u001b[39m.\u001b[39;49mcheck_response(response)\n\u001b[0;32m    345\u001b[0m     response[\u001b[39m\"\u001b[39m\u001b[39mvalue\u001b[39m\u001b[39m\"\u001b[39m] \u001b[39m=\u001b[39m \u001b[39mself\u001b[39m\u001b[39m.\u001b[39m_unwrap_value(response\u001b[39m.\u001b[39mget(\u001b[39m\"\u001b[39m\u001b[39mvalue\u001b[39m\u001b[39m\"\u001b[39m, \u001b[39mNone\u001b[39;00m))\n\u001b[0;32m    346\u001b[0m     \u001b[39mreturn\u001b[39;00m response\n",
      "File \u001b[1;32mc:\\Users\\DJLOPEZ\\AppData\\Local\\Programs\\Python\\Python312\\Lib\\site-packages\\selenium\\webdriver\\remote\\errorhandler.py:229\u001b[0m, in \u001b[0;36mErrorHandler.check_response\u001b[1;34m(self, response)\u001b[0m\n\u001b[0;32m    227\u001b[0m         alert_text \u001b[39m=\u001b[39m value[\u001b[39m\"\u001b[39m\u001b[39malert\u001b[39m\u001b[39m\"\u001b[39m]\u001b[39m.\u001b[39mget(\u001b[39m\"\u001b[39m\u001b[39mtext\u001b[39m\u001b[39m\"\u001b[39m)\n\u001b[0;32m    228\u001b[0m     \u001b[39mraise\u001b[39;00m exception_class(message, screen, stacktrace, alert_text)  \u001b[39m# type: ignore[call-arg]  # mypy is not smart enough here\u001b[39;00m\n\u001b[1;32m--> 229\u001b[0m \u001b[39mraise\u001b[39;00m exception_class(message, screen, stacktrace)\n",
      "\u001b[1;31mNoSuchElementException\u001b[0m: Message: Unable to locate element: /html/body/div[5]/div/div[4]/div[1]/div[1]/div[4]/div[2]/div[2]/div/div/div[4]/div[2]/nav/nav/div/div[2]/ol/li[7]/button; For documentation on this error, please visit: https://www.selenium.dev/documentation/webdriver/troubleshooting/errors#no-such-element-exception\nStacktrace:\nRemoteError@chrome://remote/content/shared/RemoteError.sys.mjs:8:8\nWebDriverError@chrome://remote/content/shared/webdriver/Errors.sys.mjs:189:5\nNoSuchElementError@chrome://remote/content/shared/webdriver/Errors.sys.mjs:507:5\ndom.find/</<@chrome://remote/content/shared/DOM.sys.mjs:132:16\n"
     ]
    }
   ],
   "source": [
    "\n",
    "ua = UserAgent()\n",
    "user_agent = ua.random\n",
    "\n",
    "options = webdriver.FirefoxOptions()\n",
    "options.add_argument(f'user-agent={user_agent}')\n",
    "# options.add_argument('--headless')\n",
    "\n",
    "\n",
    "#change de ville a chaque 2 mois écoulé\n",
    "for ville in list_ville_pays:\n",
    "  capitale = ville.split('%')\n",
    "  capitale = capitale[0][3:]\n",
    "  \n",
    "  #récupère le reservations d'hotels sur une durée de 1 jour\n",
    "  start_date, end_date = get_start_end_date()\n",
    "  while start_date < end_date:\n",
    "  \n",
    "    driver = webdriver.Firefox(options=options)\n",
    "    \n",
    "    #------------\n",
    "    print(\"new date\")\n",
    "    end_trip = start_date + timedelta(days=1)\n",
    "    start_date_str = str(start_date).split(' ')\n",
    "    end_trip_str = str(end_trip).split(' ')\n",
    "    #------------\n",
    "    \n",
    "    # get a list of url\n",
    "    url_list, driver = get_url_list(driver, start_date, end_trip, ville, start_date_str, end_trip_str)\n",
    "    #go to the matching url \n",
    "    go_to_url(url_list, driver, start_date)  \n",
    "    print(tab_name)\n",
    "    \n",
    "    #ecrit le resultat dans un csv\n",
    "    dict = {\n",
    "      'Nom' :  tab_name,\n",
    "      'Adresse' :  tab_adresse,\n",
    "      'Prix intiale' : tab_prix,\n",
    "      'Date' : start_date,\n",
    "      'Ville' : capitale\n",
    "    }\n",
    "    hotels = pd.DataFrame(data=dict)\n",
    "    hotels.to_csv('../hotels.csv')\n",
    "    print('the csv has been created')\n",
    "    #passe a la date suivante\n",
    "    start_date = end_trip\n",
    "    driver.quit()\n",
    "    time.sleep(3)\n",
    "    "
   ]
  }
 ],
 "metadata": {
  "kernelspec": {
   "display_name": "base",
   "language": "python",
   "name": "python3"
  },
  "language_info": {
   "codemirror_mode": {
    "name": "ipython",
    "version": 3
   },
   "file_extension": ".py",
   "mimetype": "text/x-python",
   "name": "python",
   "nbconvert_exporter": "python",
   "pygments_lexer": "ipython3",
   "version": "3.12.0"
  }
 },
 "nbformat": 4,
 "nbformat_minor": 2
}
