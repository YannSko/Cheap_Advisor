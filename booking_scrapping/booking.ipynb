{
 "cells": [
  {
   "cell_type": "markdown",
   "metadata": {},
   "source": [
    "https://www.booking.com"
   ]
  },
  {
   "cell_type": "code",
   "execution_count": 1,
   "metadata": {},
   "outputs": [],
   "source": [
    "from selenium import webdriver\n",
    "from fake_useragent import UserAgent\n",
    "import time\n",
    "from datetime import datetime, timedelta\n",
    "\n",
    "from selenium.webdriver.common.keys import Keys\n",
    "from selenium.webdriver.common.by import By\n",
    "import logging\n",
    "from urllib3.exceptions import NewConnectionError\n",
    "from selenium.webdriver.support import expected_conditions as EC\n",
    "\n"
   ]
  },
  {
   "cell_type": "code",
   "execution_count": 2,
   "metadata": {},
   "outputs": [],
   "source": [
    "def get_start_end_date():\n",
    "    start_date = datetime.today()\n",
    "    end_date = start_date + timedelta(days=60)\n",
    "    \n",
    "    return start_date, end_date"
   ]
  },
  {
   "cell_type": "code",
   "execution_count": 3,
   "metadata": {},
   "outputs": [
    {
     "name": "stdout",
     "output_type": "stream",
     "text": [
      "new date\n",
      "26\n",
      "\n",
      "€ 954\n",
      "\n",
      "-40 %\n",
      "Paris j'Adore Hotel & Spa\n",
      "\n",
      "€ 576\n",
      "\n",
      "\n",
      "€ 954\n",
      "\n",
      "-40 %\n",
      "Paris j'Adore Hotel & Spa\n",
      "\n",
      "€ 576\n",
      "\n",
      "\n",
      "€ 954\n",
      "\n",
      "-40 %\n",
      "Paris j'Adore Hotel & Spa\n",
      "\n",
      "€ 576\n",
      "\n"
     ]
    },
    {
     "name": "stderr",
     "output_type": "stream",
     "text": [
      "ERROR:root:we y a pas de nom?\n",
      "ERROR:root:no reduction\n",
      "ERROR:root:no reduction\n",
      "ERROR:root:comment ca y a pas de prix?\n"
     ]
    },
    {
     "name": "stdout",
     "output_type": "stream",
     "text": [
      "Paris j'Adore Hotel & Spa\n",
      "\n",
      "€ 576\n",
      "\n"
     ]
    },
    {
     "name": "stderr",
     "output_type": "stream",
     "text": [
      "ERROR:root:no reduction\n",
      "ERROR:root:no reduction\n"
     ]
    },
    {
     "name": "stdout",
     "output_type": "stream",
     "text": [
      "Appartement luxe Avenue Foch /Arc de Triomphe ,champs Elysées air conditionne 4P\n",
      "\n",
      "€ 684\n",
      "\n"
     ]
    },
    {
     "name": "stderr",
     "output_type": "stream",
     "text": [
      "ERROR:root:we y a pas de nom?\n",
      "ERROR:root:no reduction\n",
      "ERROR:root:no reduction\n",
      "ERROR:root:comment ca y a pas de prix?\n"
     ]
    },
    {
     "name": "stdout",
     "output_type": "stream",
     "text": [
      "Appartement luxe Avenue Foch /Arc de Triomphe ,champs Elysées air conditionne 4P\n",
      "\n",
      "€ 684\n",
      "\n"
     ]
    },
    {
     "name": "stderr",
     "output_type": "stream",
     "text": [
      "ERROR:root:we y a pas de nom?\n",
      "ERROR:root:no reduction\n",
      "ERROR:root:no reduction\n",
      "ERROR:root:comment ca y a pas de prix?\n"
     ]
    },
    {
     "name": "stdout",
     "output_type": "stream",
     "text": [
      "Appartement luxe Avenue Foch /Arc de Triomphe ,champs Elysées air conditionne 4P\n",
      "\n",
      "€ 684\n",
      "\n"
     ]
    },
    {
     "name": "stderr",
     "output_type": "stream",
     "text": [
      "ERROR:root:no reduction\n",
      "ERROR:root:no reduction\n",
      "ERROR:root:comment ca y a pas de prix?\n"
     ]
    },
    {
     "name": "stdout",
     "output_type": "stream",
     "text": [
      "Cosy apt Arc de Triomphe\n",
      "\n",
      "€ 684\n",
      "\n"
     ]
    },
    {
     "name": "stderr",
     "output_type": "stream",
     "text": [
      "ERROR:root:we y a pas de nom?\n",
      "ERROR:root:no reduction\n",
      "ERROR:root:no reduction\n",
      "ERROR:root:comment ca y a pas de prix?\n"
     ]
    },
    {
     "name": "stdout",
     "output_type": "stream",
     "text": [
      "Cosy apt Arc de Triomphe\n",
      "\n",
      "€ 684\n",
      "\n"
     ]
    },
    {
     "name": "stderr",
     "output_type": "stream",
     "text": [
      "ERROR:root:we y a pas de nom?\n",
      "ERROR:root:no reduction\n",
      "ERROR:root:no reduction\n",
      "ERROR:root:comment ca y a pas de prix?\n"
     ]
    },
    {
     "name": "stdout",
     "output_type": "stream",
     "text": [
      "Cosy apt Arc de Triomphe\n",
      "\n",
      "€ 684\n",
      "\n"
     ]
    },
    {
     "name": "stderr",
     "output_type": "stream",
     "text": [
      "ERROR:root:no reduction\n",
      "ERROR:root:no reduction\n"
     ]
    },
    {
     "name": "stdout",
     "output_type": "stream",
     "text": [
      "appartement magnifique 4 Personnes Arc Triomphe, Champs elysees AC\n",
      "\n",
      "€ 544\n",
      "\n"
     ]
    },
    {
     "name": "stderr",
     "output_type": "stream",
     "text": [
      "ERROR:root:we y a pas de nom?\n",
      "ERROR:root:no reduction\n",
      "ERROR:root:no reduction\n",
      "ERROR:root:comment ca y a pas de prix?\n"
     ]
    },
    {
     "name": "stdout",
     "output_type": "stream",
     "text": [
      "appartement magnifique 4 Personnes Arc Triomphe, Champs elysees AC\n",
      "\n",
      "€ 544\n",
      "\n"
     ]
    },
    {
     "name": "stderr",
     "output_type": "stream",
     "text": [
      "ERROR:root:no reduction\n",
      "ERROR:root:no reduction\n"
     ]
    },
    {
     "name": "stdout",
     "output_type": "stream",
     "text": [
      "appartement neuf proche Bastille\n",
      "\n",
      "€ 167\n",
      "\n"
     ]
    },
    {
     "name": "stderr",
     "output_type": "stream",
     "text": [
      "ERROR:root:we y a pas de nom?\n",
      "ERROR:root:no reduction\n",
      "ERROR:root:no reduction\n",
      "ERROR:root:comment ca y a pas de prix?\n"
     ]
    },
    {
     "name": "stdout",
     "output_type": "stream",
     "text": [
      "appartement neuf proche Bastille\n",
      "\n",
      "€ 167\n",
      "\n"
     ]
    },
    {
     "name": "stderr",
     "output_type": "stream",
     "text": [
      "ERROR:root:we y a pas de nom?\n",
      "ERROR:root:no reduction\n",
      "ERROR:root:no reduction\n",
      "ERROR:root:comment ca y a pas de prix?\n"
     ]
    },
    {
     "name": "stdout",
     "output_type": "stream",
     "text": [
      "appartement neuf proche Bastille\n",
      "\n",
      "€ 167\n",
      "\n"
     ]
    },
    {
     "name": "stderr",
     "output_type": "stream",
     "text": [
      "ERROR:root:we y a pas de nom?\n",
      "ERROR:root:no reduction\n",
      "ERROR:root:no reduction\n",
      "ERROR:root:comment ca y a pas de prix?\n"
     ]
    },
    {
     "name": "stdout",
     "output_type": "stream",
     "text": [
      "appartement neuf proche Bastille\n",
      "\n",
      "€ 167\n",
      "\n"
     ]
    },
    {
     "name": "stderr",
     "output_type": "stream",
     "text": [
      "ERROR:root:no reduction\n",
      "ERROR:root:no reduction\n",
      "ERROR:root:comment ca y a pas de prix?\n"
     ]
    },
    {
     "name": "stdout",
     "output_type": "stream",
     "text": [
      "3 pièces 64 m2 dans Paris 16, 2 minutes de métro Michel Ange Auteuil\n",
      "\n",
      "€ 167\n",
      "\n"
     ]
    },
    {
     "name": "stderr",
     "output_type": "stream",
     "text": [
      "ERROR:root:we y a pas de nom?\n",
      "ERROR:root:no reduction\n",
      "ERROR:root:no reduction\n",
      "ERROR:root:comment ca y a pas de prix?\n"
     ]
    },
    {
     "name": "stdout",
     "output_type": "stream",
     "text": [
      "3 pièces 64 m2 dans Paris 16, 2 minutes de métro Michel Ange Auteuil\n",
      "\n",
      "€ 167\n",
      "\n"
     ]
    },
    {
     "name": "stderr",
     "output_type": "stream",
     "text": [
      "ERROR:root:we y a pas de nom?\n",
      "ERROR:root:no reduction\n",
      "ERROR:root:no reduction\n",
      "ERROR:root:comment ca y a pas de prix?\n"
     ]
    },
    {
     "name": "stdout",
     "output_type": "stream",
     "text": [
      "3 pièces 64 m2 dans Paris 16, 2 minutes de métro Michel Ange Auteuil\n",
      "\n",
      "€ 167\n",
      "\n"
     ]
    },
    {
     "name": "stderr",
     "output_type": "stream",
     "text": [
      "ERROR:root:we y a pas de nom?\n",
      "ERROR:root:no reduction\n",
      "ERROR:root:no reduction\n",
      "ERROR:root:comment ca y a pas de prix?\n"
     ]
    },
    {
     "name": "stdout",
     "output_type": "stream",
     "text": [
      "3 pièces 64 m2 dans Paris 16, 2 minutes de métro Michel Ange Auteuil\n",
      "\n",
      "€ 167\n",
      "\n"
     ]
    },
    {
     "name": "stderr",
     "output_type": "stream",
     "text": [
      "ERROR:root:we y a pas de nom?\n",
      "ERROR:root:no reduction\n",
      "ERROR:root:no reduction\n",
      "ERROR:root:comment ca y a pas de prix?\n"
     ]
    },
    {
     "name": "stdout",
     "output_type": "stream",
     "text": [
      "3 pièces 64 m2 dans Paris 16, 2 minutes de métro Michel Ange Auteuil\n",
      "\n",
      "€ 167\n",
      "\n"
     ]
    },
    {
     "name": "stderr",
     "output_type": "stream",
     "text": [
      "ERROR:root:we y a pas de nom?\n",
      "ERROR:root:no reduction\n",
      "ERROR:root:no reduction\n",
      "ERROR:root:comment ca y a pas de prix?\n"
     ]
    },
    {
     "name": "stdout",
     "output_type": "stream",
     "text": [
      "3 pièces 64 m2 dans Paris 16, 2 minutes de métro Michel Ange Auteuil\n",
      "\n",
      "€ 167\n",
      "\n"
     ]
    },
    {
     "name": "stderr",
     "output_type": "stream",
     "text": [
      "ERROR:root:we y a pas de nom?\n",
      "ERROR:root:no reduction\n",
      "ERROR:root:no reduction\n",
      "ERROR:root:comment ca y a pas de prix?\n"
     ]
    },
    {
     "name": "stdout",
     "output_type": "stream",
     "text": [
      "3 pièces 64 m2 dans Paris 16, 2 minutes de métro Michel Ange Auteuil\n",
      "\n",
      "€ 167\n",
      "\n"
     ]
    },
    {
     "name": "stderr",
     "output_type": "stream",
     "text": [
      "ERROR:root:we y a pas de nom?\n",
      "ERROR:root:no reduction\n",
      "ERROR:root:no reduction\n",
      "ERROR:root:comment ca y a pas de prix?\n"
     ]
    },
    {
     "name": "stdout",
     "output_type": "stream",
     "text": [
      "3 pièces 64 m2 dans Paris 16, 2 minutes de métro Michel Ange Auteuil\n",
      "\n",
      "€ 167\n",
      "\n"
     ]
    },
    {
     "name": "stderr",
     "output_type": "stream",
     "text": [
      "ERROR:root:we y a pas de nom?\n",
      "ERROR:root:no reduction\n",
      "ERROR:root:no reduction\n",
      "ERROR:root:comment ca y a pas de prix?\n"
     ]
    },
    {
     "name": "stdout",
     "output_type": "stream",
     "text": [
      "3 pièces 64 m2 dans Paris 16, 2 minutes de métro Michel Ange Auteuil\n",
      "\n",
      "€ 167\n",
      "\n",
      "\n",
      "€ 143\n",
      "\n",
      "-28 %\n",
      "WIT Hotel\n",
      "\n",
      "€ 103\n",
      "\n",
      "new date\n",
      "26\n",
      "\n",
      "€ 954\n",
      "\n",
      "-40 %\n",
      "Paris j'Adore Hotel & Spa\n",
      "\n",
      "€ 576\n",
      "\n",
      "\n",
      "€ 954\n",
      "\n",
      "-40 %\n",
      "Paris j'Adore Hotel & Spa\n",
      "\n",
      "€ 576\n",
      "\n",
      "\n",
      "€ 954\n",
      "\n",
      "-40 %\n",
      "Paris j'Adore Hotel & Spa\n",
      "\n",
      "€ 576\n",
      "\n"
     ]
    },
    {
     "name": "stderr",
     "output_type": "stream",
     "text": [
      "ERROR:root:we y a pas de nom?\n",
      "ERROR:root:no reduction\n",
      "ERROR:root:no reduction\n",
      "ERROR:root:comment ca y a pas de prix?\n"
     ]
    },
    {
     "name": "stdout",
     "output_type": "stream",
     "text": [
      "Paris j'Adore Hotel & Spa\n",
      "\n",
      "€ 576\n",
      "\n"
     ]
    },
    {
     "name": "stderr",
     "output_type": "stream",
     "text": [
      "ERROR:root:no reduction\n",
      "ERROR:root:no reduction\n"
     ]
    },
    {
     "name": "stdout",
     "output_type": "stream",
     "text": [
      "Appartement luxe Avenue Foch /Arc de Triomphe ,champs Elysées air conditionne 4P\n",
      "\n",
      "€ 684\n",
      "\n"
     ]
    },
    {
     "name": "stderr",
     "output_type": "stream",
     "text": [
      "ERROR:root:no reduction\n",
      "ERROR:root:no reduction\n"
     ]
    },
    {
     "name": "stdout",
     "output_type": "stream",
     "text": [
      "Cosy studio close to Eiffel Tower\n",
      "\n",
      "€ 243\n",
      "\n"
     ]
    },
    {
     "name": "stderr",
     "output_type": "stream",
     "text": [
      "ERROR:root:no reduction\n",
      "ERROR:root:no reduction\n"
     ]
    },
    {
     "name": "stdout",
     "output_type": "stream",
     "text": [
      "Champs Elysées 2\n",
      "\n",
      "€ 693\n",
      "\n"
     ]
    },
    {
     "name": "stderr",
     "output_type": "stream",
     "text": [
      "ERROR:root:no reduction\n",
      "ERROR:root:no reduction\n"
     ]
    },
    {
     "name": "stdout",
     "output_type": "stream",
     "text": [
      "Cosy apt Arc de Triomphe\n",
      "\n",
      "€ 185\n",
      "\n"
     ]
    },
    {
     "name": "stderr",
     "output_type": "stream",
     "text": [
      "ERROR:root:we y a pas de nom?\n",
      "ERROR:root:no reduction\n",
      "ERROR:root:no reduction\n",
      "ERROR:root:comment ca y a pas de prix?\n"
     ]
    },
    {
     "name": "stdout",
     "output_type": "stream",
     "text": [
      "Cosy apt Arc de Triomphe\n",
      "\n",
      "€ 185\n",
      "\n"
     ]
    },
    {
     "name": "stderr",
     "output_type": "stream",
     "text": [
      "ERROR:root:we y a pas de nom?\n",
      "ERROR:root:no reduction\n",
      "ERROR:root:no reduction\n",
      "ERROR:root:comment ca y a pas de prix?\n"
     ]
    },
    {
     "name": "stdout",
     "output_type": "stream",
     "text": [
      "Cosy apt Arc de Triomphe\n",
      "\n",
      "€ 185\n",
      "\n"
     ]
    }
   ],
   "source": [
    "ua = UserAgent()\n",
    "user_agent = ua.random\n",
    "\n",
    "options = webdriver.FirefoxOptions()\n",
    "options.add_argument(f'user-agent={user_agent}')\n",
    "options.add_argument('--headless')\n",
    "driver = webdriver.Firefox(options=options)\n",
    "\n",
    "start_date, end_date = get_start_end_date()\n",
    "\n",
    "#récupère le reservations d'hotels sur une durée de 1 jour\n",
    "while start_date < end_date:\n",
    "    \n",
    "    end_trip = start_date + timedelta(days=1)\n",
    "    start_date_str = str(start_date).split(' ')\n",
    "    end_trip_str = str(end_trip).split(' ')\n",
    "    \n",
    "    print(\"new date\")\n",
    "    \n",
    "    try:\n",
    "        driver.get(f\"https://www.booking.com/searchresults.fr.html?ss=Paris&ssne=Paris&ssne_untouched=Paris&efdco=1&label=gen173nr-1BCAEoggI46AdIM1gEaE2IAQGYAQ24ARfIARXYAQHoAQGIAgGoAgO4Avjj3akGwAIB0gIkYzY5NTVhYzItYjQwYS00YWJlLWIyMWItOTc0OTAxNmVmYmNj2AIF4AIB&sid=ddc37917e9355cbdcad54b3c452b053a&aid=304142&lang=fr&sb=1&src_elem=sb&src=index&dest_id=-1456928&dest_type=city&checkin=\"+start_date_str[0]+\"&checkout=\"+end_trip_str[0]+\"&group_adults=2&no_rooms=1&group_children=0&sb_travel_purpose=leisure\")\n",
    "                      \n",
    "    except NewConnectionError:\n",
    "        logging.error(f\"Erreur de connexion pour la date \"+start_date+\" et la date \"+end_trip)\n",
    "        try:\n",
    "            driver.get(f\"https://www.booking.com/searchresults.fr.html?ss=Paris&ssne=Paris&ssne_untouched=Paris&efdco=1&label=gen173nr-1BCAEoggI46AdIM1gEaE2IAQGYAQ24ARfIARXYAQHoAQGIAgGoAgO4Avjj3akGwAIB0gIkYzY5NTVhYzItYjQwYS00YWJlLWIyMWItOTc0OTAxNmVmYmNj2AIF4AIB&sid=ddc37917e9355cbdcad54b3c452b053a&aid=304142&lang=fr&sb=1&src_elem=sb&src=index&dest_id=-1456928&dest_type=city&checkin=\"+start_date_str[0]+\"&checkout=\"+end_trip_str[0]+\"&group_adults=2&no_rooms=1&group_children=0&sb_travel_purpose=leisure\")\n",
    "\n",
    "        except Exception as e:\n",
    "            logging.error(f\"impossible de scrapper cette date : \"+start_date+\" et \"+end_trip)\n",
    "            driver.quit()\n",
    "            continue\n",
    "    time.sleep(2)\n",
    "    \n",
    "    # def extract_data(element, xpath):\n",
    "    #     try:\n",
    "    #         element = driver.find_element(By.XPATH, xpath).get_attribute('textContent')\n",
    "    #     except:\n",
    "    #         element = \"\"\n",
    "    #     return element\n",
    "    \n",
    "    link_elements = driver.find_elements(By.CLASS_NAME, 'a78ca197d0')\n",
    "    print(len(link_elements))\n",
    "    url_list = []\n",
    "    \n",
    "    for link_element in link_elements:\n",
    "        url = link_element.get_attribute(\"href\")\n",
    "        if url is not None:\n",
    "            url_list.append(url)\n",
    "    \n",
    "    for url in url_list:\n",
    "        try:\n",
    "            driver.get(url)\n",
    "        except Exception as e:\n",
    "            logging.error(\"impossible de se connecter\")\n",
    "            logging.error(\"reessaie...\")\n",
    "            try:\n",
    "                driver.get(url)\n",
    "            except Exception as e:\n",
    "                logging.error(\"pas de connexion frero\")\n",
    "                continue\n",
    "            \n",
    "            \n",
    "        try:\n",
    "            nom_chambre = driver.find_element(By.CSS_SELECTOR, '.d2fee87262').get_attribute('textContent')\n",
    "        except Exception as e:\n",
    "            logging.error(\"we y a pas de nom?\")\n",
    "        try :\n",
    "            prix_initiale = driver.find_element(By.CSS_SELECTOR, 'td.hp-price-left-align:nth-child(3) > div:nth-child(1) > div:nth-child(1) > div:nth-child(1) > div:nth-child(1) > div:nth-child(1)').get_attribute('textContent')\n",
    "            print(prix_initiale)\n",
    "        except Exception as e:\n",
    "            logging.error(\"no reduction\")\n",
    "        try :\n",
    "            taux_reduction = driver.find_element(By.CSS_SELECTOR, 'td.hp-price-left-align:nth-child(3) > div:nth-child(1) > div:nth-child(2) > div:nth-child(1) > div:nth-child(1) > span:nth-child(1) > span:nth-child(1) > span:nth-child(1)').get_attribute('textContent')\n",
    "            print(taux_reduction) \n",
    "        except Exception as e:\n",
    "            logging.error(\"no reduction\")    \n",
    "        try :\n",
    "            prix_apres_reduction = driver.find_element(By.CSS_SELECTOR, 'td.hp-price-left-align:nth-child(3) > div:nth-child(1) > div:nth-child(1) > div:nth-child(1) > div:nth-child(2) > div:nth-child(1) > span:nth-child(1)').get_attribute('textContent')\n",
    "        except Exception as e:\n",
    "            logging.error(\"comment ca y a pas de prix?\")\n",
    "        # prix_initiale = extract_data(hotel, '/html/body/div[4]/div/div[2]/div/div[2]/div[3]/div[2]/div[2]/div[3]/div[3]/div[1]/div[2]/div/div[3]/div[2]/div/div[1]/span/div/span')\n",
    "        # prix_apres_reduction = extract_data(hotel, '/html/body/div[4]/div/div[2]/div/div[2]/div[3]/div[2]/div[2]/div[3]/div[3]/div[1]/div[2]/div/div[3]/div[2]/div/div[1]/span/div/div/span[1]')\n",
    "        # nom_chambre = extract_data(hotel, '/html/body/div[4]/div/div[2]/div/div[2]/div[3]/div[2]/div[2]/div[3]/div[3]/div[1]/div[2]/div/div[1]/div/div[1]/div/div[1]/div/h3/a/div[1]')\n",
    "        # taux_reduction = extract_data(hotel, '//*[@id=\"b2searchresultsPage\"]')\n",
    "        print(nom_chambre)\n",
    "        print(prix_apres_reduction)\n",
    "        time.sleep(2)\n",
    "\n",
    "start_date = end_trip\n",
    "\n",
    "driver.quit()"
   ]
  }
 ],
 "metadata": {
  "kernelspec": {
   "display_name": "base",
   "language": "python",
   "name": "python3"
  },
  "language_info": {
   "codemirror_mode": {
    "name": "ipython",
    "version": 3
   },
   "file_extension": ".py",
   "mimetype": "text/x-python",
   "name": "python",
   "nbconvert_exporter": "python",
   "pygments_lexer": "ipython3",
   "version": "3.12.0"
  }
 },
 "nbformat": 4,
 "nbformat_minor": 2
}
