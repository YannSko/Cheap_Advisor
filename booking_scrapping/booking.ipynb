{
 "cells": [
  {
   "cell_type": "markdown",
   "metadata": {},
   "source": [
    "https://www.booking.com"
   ]
  },
  {
   "cell_type": "code",
   "execution_count": 15,
   "metadata": {},
   "outputs": [],
   "source": [
    "from selenium import webdriver\n",
    "from fake_useragent import UserAgent\n",
    "import time\n",
    "from datetime import datetime, timedelta\n",
    "\n",
    "from selenium.webdriver.common.keys import Keys\n",
    "from selenium.webdriver.common.by import By\n",
    "import logging\n",
    "from urllib3.exceptions import NewConnectionError\n",
    "from selenium.webdriver.support import expected_conditions as EC\n",
    "\n"
   ]
  },
  {
   "cell_type": "code",
   "execution_count": 16,
   "metadata": {},
   "outputs": [],
   "source": [
    "def get_start_end_date():\n",
    "    start_date = datetime.today()\n",
    "    end_date = start_date + timedelta(days=60)\n",
    "    \n",
    "    return start_date, end_date"
   ]
  },
  {
   "cell_type": "code",
   "execution_count": 17,
   "metadata": {},
   "outputs": [],
   "source": [
    "def next_link(driver, start_date):\n",
    "    \n",
    "    end_trip = start_date + timedelta(days=1)\n",
    "    start_date_str = str(start_date).split(' ')\n",
    "    end_trip_str = str(end_trip).split(' ')\n",
    "    \n",
    "    try:\n",
    "        driver.get(f\"https://www.booking.com/searchresults.fr.html?ss=Paris&ssne=Paris&ssne_untouched=Paris&efdco=1&label=gen173nr-1BCAEoggI46AdIM1gEaE2IAQGYAQ24ARfIARXYAQHoAQGIAgGoAgO4Avjj3akGwAIB0gIkYzY5NTVhYzItYjQwYS00YWJlLWIyMWItOTc0OTAxNmVmYmNj2AIF4AIB&sid=ddc37917e9355cbdcad54b3c452b053a&aid=304142&lang=fr&sb=1&src_elem=sb&src=index&dest_id=-1456928&dest_type=city&checkin=\"+start_date_str[0]+\"&checkout=\"+end_trip_str[0]+\"&group_adults=2&no_rooms=1&group_children=0&sb_travel_purpose=leisure\")\n",
    "                      \n",
    "    except NewConnectionError:\n",
    "        logging.error(f\"Erreur de connexion pour la date \"+start_date+\" et la date \"+end_trip)\n",
    "        try:\n",
    "            driver.get(f\"https://www.booking.com/searchresults.fr.html?ss=Paris&ssne=Paris&ssne_untouched=Paris&efdco=1&label=gen173nr-1BCAEoggI46AdIM1gEaE2IAQGYAQ24ARfIARXYAQHoAQGIAgGoAgO4Avjj3akGwAIB0gIkYzY5NTVhYzItYjQwYS00YWJlLWIyMWItOTc0OTAxNmVmYmNj2AIF4AIB&sid=ddc37917e9355cbdcad54b3c452b053a&aid=304142&lang=fr&sb=1&src_elem=sb&src=index&dest_id=-1456928&dest_type=city&checkin=\"+start_date_str[0]+\"&checkout=\"+end_trip_str[0]+\"&group_adults=2&no_rooms=1&group_children=0&sb_travel_purpose=leisure\")\n",
    "\n",
    "        except Exception as e:\n",
    "            logging.error(f\"impossible de scrapper cette date : \"+start_date+\" et \"+end_trip)\n",
    "            driver.quit()\n",
    "            return\n",
    "    time.sleep(2)\n",
    "    \n",
    "    return end_trip"
   ]
  },
  {
   "cell_type": "code",
   "execution_count": 18,
   "metadata": {},
   "outputs": [],
   "source": [
    "def get_url_list(driver):\n",
    "    link_elements = driver.find_elements(By.CLASS_NAME, 'a78ca197d0')\n",
    "    url_list = []\n",
    "    \n",
    "    for link_element in link_elements:\n",
    "        url = link_element.get_attribute(\"href\")\n",
    "        if url is not None:\n",
    "            url_list.append(url)\n",
    "    print(url_list)\n",
    "    return url_list"
   ]
  },
  {
   "cell_type": "code",
   "execution_count": 19,
   "metadata": {},
   "outputs": [],
   "source": [
    "def get_data(driver):\n",
    "    try:\n",
    "        nom_chambre = driver.find_element(By.CSS_SELECTOR, '.d2fee87262').get_attribute('textContent')\n",
    "        print(nom_chambre)\n",
    "    except Exception as e:\n",
    "        logging.error(\"we y a pas de nom?\")\n",
    "    try :\n",
    "        prix_initiale = driver.find_element(By.CSS_SELECTOR, 'td.hp-price-left-align:nth-child(3) > div:nth-child(1) > div:nth-child(1) > div:nth-child(1) > div:nth-child(1) > div:nth-child(1)').get_attribute('textContent')\n",
    "        print(prix_initiale)\n",
    "    except Exception as e:\n",
    "        logging.error(\"no reduction\")\n",
    "    try :\n",
    "        taux_reduction = driver.find_element(By.CSS_SELECTOR, 'td.hp-price-left-align:nth-child(3) > div:nth-child(1) > div:nth-child(2) > div:nth-child(1) > div:nth-child(1) > span:nth-child(1) > span:nth-child(1) > span:nth-child(1)').get_attribute('textContent')\n",
    "        print(taux_reduction) \n",
    "    except Exception as e:\n",
    "        logging.error(\"no reduction\")    \n",
    "    try :\n",
    "        prix_apres_reduction = driver.find_element(By.CSS_SELECTOR, 'td.hp-price-left-align:nth-child(3) > div:nth-child(1) > div:nth-child(1) > div:nth-child(1) > div:nth-child(2) > div:nth-child(1) > span:nth-child(1)').get_attribute('textContent')\n",
    "        print(prix_apres_reduction)\n",
    "    except Exception as e:\n",
    "        logging.error(\"comment ca y a pas de prix?\")\n",
    "    time.sleep(2)"
   ]
  },
  {
   "cell_type": "code",
   "execution_count": 20,
   "metadata": {},
   "outputs": [],
   "source": [
    "def go_to_url(url_list, driver):\n",
    "    for url in url_list:\n",
    "        try:\n",
    "            driver.get(url)\n",
    "        except Exception as e:\n",
    "            logging.error(\"impossible de se connecter\")\n",
    "            logging.error(\"reessaie...\")\n",
    "            try:\n",
    "                driver.get(url)\n",
    "            except Exception as e:\n",
    "                logging.error(\"pas de connexion frero\")\n",
    "                continue\n",
    "        print(url)\n",
    "        # get all necessary data from the pages \n",
    "        get_data(driver)"
   ]
  },
  {
   "cell_type": "code",
   "execution_count": 21,
   "metadata": {},
   "outputs": [
    {
     "name": "stdout",
     "output_type": "stream",
     "text": [
      "new date\n",
      "['https://www.booking.com/hotel/fr/paris-j-39-adore-amp-spa.fr.html?label=gen173nr-1BCAEoggI46AdIM1gEaE2IAQGYAQ24ARfIARXYAQHoAQGIAgGoAgO4Avjj3akGwAIB0gIkYzY5NTVhYzItYjQwYS00YWJlLWIyMWItOTc0OTAxNmVmYmNj2AIF4AIB&sid=ddc37917e9355cbdcad54b3c452b053a&aid=304142&ucfs=1&arphpl=1&checkin=2023-10-30&checkout=2023-10-31&dest_id=-1456928&dest_type=city&group_adults=2&req_adults=2&no_rooms=1&group_children=0&req_children=0&hpos=1&hapos=1&sr_order=popularity&srpvid=2f5592c649dc03cd&srepoch=1698699153&all_sr_blocks=713048608_298165938_0_2_0&highlighted_blocks=713048608_298165938_0_2_0&matching_block_id=713048608_298165938_0_2_0&sr_pri_blocks=713048608_298165938_0_2_0__57563&from_sustainable_property_sr=1&from=searchresults#hotelTmpl', 'https://www.booking.com/hotel/fr/regina-paris.fr.html?label=gen173nr-1BCAEoggI46AdIM1gEaE2IAQGYAQ24ARfIARXYAQHoAQGIAgGoAgO4Avjj3akGwAIB0gIkYzY5NTVhYzItYjQwYS00YWJlLWIyMWItOTc0OTAxNmVmYmNj2AIF4AIB&sid=ddc37917e9355cbdcad54b3c452b053a&aid=304142&ucfs=1&arphpl=1&checkin=2023-10-30&checkout=2023-10-31&dest_id=-1456928&dest_type=city&group_adults=2&req_adults=2&no_rooms=1&group_children=0&req_children=0&hpos=2&hapos=2&sr_order=popularity&srpvid=2f5592c649dc03cd&srepoch=1698699153&all_sr_blocks=17730412_362653515_2_2_0&highlighted_blocks=17730412_362653515_2_2_0&matching_block_id=17730412_362653515_2_2_0&sr_pri_blocks=17730412_362653515_2_2_0__67650&nad_id=679264e1-b787-45ce-9c13-ff40721f1c33_2&nad_cpc=0.5&nad_track=eyJyYW5rIjoxLCJrb2RkaVRyYWNraW5nSW5mbyI6Imw0Z2w5U3ZHNW9EMk5ua1FMTWN0L0xjTHNma0VOdEljUUF1S2xIRTBYejc3WTFnazdXT05WaDNGOU9FcjRUY3FvOVdWcU4vc2FrNmw2M2g3eVB6a2I3eWRjYThYbjlYaWsxTGhlOUtZOFdjYzJyemM3MlowUENqZW9MdG9wQzJGSWZjZlBJQzNla1E4VW0zV0JVQlhPOW9xTUhDSjZEY1N6YmJ1V1J3SXZqT1dRYXVuaSt3c2I4MndYaVljR2dOQTNUb2ozVjlnaWY2VXVPbnlPYzlMNGdxdEVuNDg3ZkYyQ0w0U1lVeUY3dnJwQ0hGVVRGdzVGdG9GeE4xRHVxNVlpaEJ4b25ROVhpT0tQaDBNZHpzUjdDSkFzSkNlYTVvOFFmaGhHY1FiSmQ4cWJLd0hxRlZCZXRoMU4vRElJNUNtWnp1MG9zcEM3SnNRYTBmZG55aDhtSTdqblEzSGx1WXV1aWp1Z3kzdDFsQ3N5eXdEUys2L1cxRnhNRkZIeDBqaUhHdDFwMVNoR2t4WDd6NHdyVkN4ZGdDZ2YrTTJKWXBCaWpTNUxZNFREOTduN0doSHBxNXREby8wZkh5Nll4aTNFNUJGdjR3REt0Tm9aVVhteGRLeFNFbDZUOS96YUZ4a2lTN00zKzJVbTY2MDdsWFJFMktISkdaVHhLMEhrR3pXM2Y3bGRhbHhPdis1em9NTHl3SklqNDVlMDlxa3JkTEhUamNDcVlzMk5EOVZ1OGVqUWx0ajI1d1dNZnI3ZFlVdzVNY29NNDRVenZqTitta1RLVWhTbS8xNGJlWjlYNGY2VlBZVlNlaDFKWGN2OC80K1YwREZTWTY5bzROZXFUWFN0NTR5U096ZHo0WjE4TjdrOTNOZ0dkMTBYbWxTVzNuRlNBd2lsc3lQNG5OYmxCRWxaTk93bk12c1ZPK1BseGxzbWlNOHQ3ZTJRWGdFRVJ1VnBlSXNDWi9PeXRpenJjSkU0RExFSXladksyZVdOOTFJRlhIL2QzT3Vtelo2L2w4dHJtOEcwWW9DTUg1bE5mTnZSS2x0SmhMYWJzVmNUQnJKL2ZySzlWNnBFbVdWVGFOUk9LZGJEeS9rNGJORS9JVDBJMDB3M25IVkdHOFdJQnBGOGpYZTZJZ1NJcHBlY1RzMTBONXlwQTVSZU9LdHRNRUhFZjJ6RDg3bm1sN3FobHI4RDFDTm95U1NuQUtZM0NMNzh5T0l5b0poQ2Q1YWZRWmFuQ25JR1hIamJ1eEFzWmVHTi9FNnk0bUpVRFFQMEZHTHE5RGxCRnluZCtCUzZneU5ueDVGcU1ZTDVkckV0TkNmUzg1VmZsMGhOWDVwcWR2NUtlU3E5dlFzd1V1RmRQSkgydnhCV01leUpTeXNLUURIeWdkK1NRRENEV3hsWGN3SHQxVmkvdWNpWC9wVXRMRmxrRDNXV0dBUFJBeVdOYlV0QnV0KzV4TXVUR3ZjUWVYT0p6T0Q3SDRmQ0hHOXMremFBaFdHdWN2NWtJVnYyQUJqUFpiYkxwN2o5VjFOWmZRT24vMjdMSDNSWUZ6WXVyV0dDWW1xY3dIQUxPcGdYeStkcWFvU2orcGd1TDVzVGZCSEgxM3B1ck15SGwwemtvcHlZeTU0TjR6ZTBwV2VvOGllZzVNVnRPNnV6V1hscmt4aTY3Rmx6dzRqQlVmOVFyNzFncFZhUlBaSnB3bHNjWUlSV0JrSzdWZi9UUU15dVZaM0tVcG9ILzIrdjBXTlNaM1dXTC9nd1ZzdFQzVmFxWTEwU1Azd3h6WUZhN01xalgwaUVaV0hINkRsbHpWTEQ0bHYrelZZakFyK2VlZEZhTEpvZW8rQXpsYW9uVjNlRUt5NWtnTDVhRXVNdnh1Q09semRKbmpBZHpsT293SzcyVVAwZWlHRlZ2Sm5KWGwwRCs0MEJmN1FKN0VCZmp1OE5XSS9KYWtQQVZNbEUySi9sUnduY2loTHhUOUM0cDNJWEovamozWm5HM1Rqc253NHZuK1BRRlpJM212QnduTE9VY2ZtVG1kNCtBTVZaVUtLcS9zSlp6UHlkSDZWenFvUGh5Qnk0ZENQSEZWYSt3M2FEaStBOW1ESVhFd3RMaU5MVGY2b2VFYzhhR3RoVEp6UkIzcktuYWJoVHlZRytWTXFSSjh6L2FpbVYrbTdkMUJNL09zTjYxSSswQmw5MEJmUE0xSDVsV0NZa3VNQUFnZjV4VGk2azE3NTZleCtzcjVuNUxCN1kwZFMzczVhcUZUVjI3SkdKZ0RCNEdFaVl1bkkrSDFTWnYyTU4veWJpQWYwM0FpOHV4WkZOWkd5TzBJK1hkTTJNdFF3bGVZams1cis5bUtYWnUrallVRVdXY2FhM2g3SFdTVXlEK2IwM05SOEhZMGE5SUVQVi94RlUyMDVrT2FqSUsyOTBYcmhlb0pFdXc0SWlsNU5vVUpVTmVzVElNNVp1SG1kUmNSVmpNV1BuTFAzZDhFVDd1RnYxbWJyU0xWQmtXMVd3b1VsMGphQ0JldUx1L2lYSkZibGhtZDBRQ0pXUEhyT2FaWnV6Vm04cG85SkVyTWM3VzBsNVVvVWtFTEl6QnIzK05tcWQ2M0F5Sk9CK0lMUkpFMCtybXUxend0TFlCbDVJOTJrWUhrMkIzN3E3eVBEZDVNNWZUMUhpVmtScjNMQnpzRDJNeUxqZ3loZ1dPQVBmNHFGeEc5ZUVoZEZKSFRnK0orUnV5RlZlR1hYNXd3VjdqeUcvRkJrOVlNakdLY3VGaElFRm1HRnA0bDFlckJJWlJoNHNRNmJ0dk1RalhHUnd3dm1QTnhJK2xMckxCdDU2UUhZMFc4bDQ5a25tVHQ1K2FBcE5ydCtja3FvYkFOVkZOeWJsZ1dIT0JjeTVQTjY1bXk3Zk53ZFovVVVxemo0ajBpa2ppNG4xRWorSlF1dng3UE93QUJoS1JqNVpXbzIwMjVrRTIrU0RwaS91dVEzeUovcEJGQnRNekEwQTlKN1lMc1VVYnJZTkQ1R1RZdlhjakw4Z0pDcXhKMktJZEJTemY3TWZReDhHa2laRGEzcEhOK21DYWtVRGZDcXVyWG9ETWRiVHQxcFRWeWRGRkxiV2ZJcjRvT2Z1MVprRzRKZ2o0WHpzRm8zMmVnQzdnTEJLTWgrdUFmb2ZsT3V6NmNlM1diV2lYRlUwWjJDUkhPdTJRZm0vQkZ1MjlsT1RtNlB1bVk5UzcyUFRESUpkeWhySC82S1lHOFZhOGo4ZGo3OTlGWnNuSTAvZ2xkeVhjZTlMcHZLNnRaY3UycFVOcG15YTNPL3FTWlBEQ3pXSFZGMW9DQ3JFVExQR3lsY3M2WUF4bWpMa0hSLzU2K0FvS2hnRnVDOW0zdlBQQUxMYjBXUkI4a09QeFBUb3A0M1cvS2RER0xwSW5jVUtGMW1tdXpwWVhhUHBEbkVtY1lPQ01YRGp0TlVWL1BGc016emFieUhDZGZRT2J0UUtvUXd1emNYY1p1eGpTMm5QV0xWdVRRYnFxdFZTVmVHQnJRMisvdDFBVWkzUjYzN3BaN3lKTGZleSt4ci9vckg5aTYxeUlERlRaQlVGS25GWGVQUFRkWkdxVlhwcG9pclA1UDFEaHZ4VllacFl3WWhZY0hnVGRxeGtjZWtPL2dvT3AwRitiazErVkxjM3VmVFZhWkptcyszdG5Lam1Sa0NhYWtaWkpkU0lINnd6Sng0bkpjYjBrOUp2UklHY2xFTXdlNnhRK2tCeTMzbkV4Q3lWb2h2UUZja3JmWS9CZUFDZ01FV1I1VHFkZ1Jld2pOcjFvWG8ifQ%3D%3D&from_sustainable_property_sr=1&from=searchresults#hotelTmpl', 'https://www.booking.com/hotel/fr/chic-appartement-centre-paris.fr.html?label=gen173nr-1BCAEoggI46AdIM1gEaE2IAQGYAQ24ARfIARXYAQHoAQGIAgGoAgO4Avjj3akGwAIB0gIkYzY5NTVhYzItYjQwYS00YWJlLWIyMWItOTc0OTAxNmVmYmNj2AIF4AIB&sid=ddc37917e9355cbdcad54b3c452b053a&aid=304142&ucfs=1&arphpl=1&checkin=2023-10-30&checkout=2023-10-31&dest_id=-1456928&dest_type=city&group_adults=2&req_adults=2&no_rooms=1&group_children=0&req_children=0&hpos=3&hapos=3&sr_order=popularity&srpvid=2f5592c649dc03cd&srepoch=1698699153&all_sr_blocks=1084324901_381339184_2_0_0&highlighted_blocks=1084324901_381339184_2_0_0&matching_block_id=1084324901_381339184_2_0_0&sr_pri_blocks=1084324901_381339184_2_0_0__20800&from=searchresults#hotelTmpl', 'https://www.booking.com/hotel/fr/appartement-luxe-avenue-foch-arc-de-triomphe-champs-elysees-air-conditionne-4p.fr.html?label=gen173nr-1BCAEoggI46AdIM1gEaE2IAQGYAQ24ARfIARXYAQHoAQGIAgGoAgO4Avjj3akGwAIB0gIkYzY5NTVhYzItYjQwYS00YWJlLWIyMWItOTc0OTAxNmVmYmNj2AIF4AIB&sid=ddc37917e9355cbdcad54b3c452b053a&aid=304142&ucfs=1&arphpl=1&checkin=2023-10-30&checkout=2023-10-31&dest_id=-1456928&dest_type=city&group_adults=2&req_adults=2&no_rooms=1&group_children=0&req_children=0&hpos=4&hapos=4&sr_order=popularity&srpvid=2f5592c649dc03cd&srepoch=1698699153&all_sr_blocks=993149601_372262861_4_0_0&highlighted_blocks=993149601_372262861_4_0_0&matching_block_id=993149601_372262861_4_0_0&sr_pri_blocks=993149601_372262861_4_0_0__68350&from=searchresults#hotelTmpl', 'https://www.booking.com/hotel/fr/cosy-studio-close-to-eiffel-tower.fr.html?label=gen173nr-1BCAEoggI46AdIM1gEaE2IAQGYAQ24ARfIARXYAQHoAQGIAgGoAgO4Avjj3akGwAIB0gIkYzY5NTVhYzItYjQwYS00YWJlLWIyMWItOTc0OTAxNmVmYmNj2AIF4AIB&sid=ddc37917e9355cbdcad54b3c452b053a&aid=304142&ucfs=1&arphpl=1&checkin=2023-10-30&checkout=2023-10-31&dest_id=-1456928&dest_type=city&group_adults=2&req_adults=2&no_rooms=1&group_children=0&req_children=0&hpos=5&hapos=5&sr_order=popularity&srpvid=2f5592c649dc03cd&srepoch=1698699153&all_sr_blocks=1096031401_382499370_3_0_0&highlighted_blocks=1096031401_382499370_3_0_0&matching_block_id=1096031401_382499370_3_0_0&sr_pri_blocks=1096031401_382499370_3_0_0__24250&from=searchresults#hotelTmpl', 'https://www.booking.com/hotel/fr/champs-elysees-2.fr.html?label=gen173nr-1BCAEoggI46AdIM1gEaE2IAQGYAQ24ARfIARXYAQHoAQGIAgGoAgO4Avjj3akGwAIB0gIkYzY5NTVhYzItYjQwYS00YWJlLWIyMWItOTc0OTAxNmVmYmNj2AIF4AIB&sid=ddc37917e9355cbdcad54b3c452b053a&aid=304142&ucfs=1&arphpl=1&checkin=2023-10-30&checkout=2023-10-31&dest_id=-1456928&dest_type=city&group_adults=2&req_adults=2&no_rooms=1&group_children=0&req_children=0&hpos=6&hapos=6&sr_order=popularity&srpvid=2f5592c649dc03cd&srepoch=1698699153&all_sr_blocks=1001936301_382421145_4_0_0&highlighted_blocks=1001936301_382421145_4_0_0&matching_block_id=1001936301_382421145_4_0_0&sr_pri_blocks=1001936301_382421145_4_0_0__69250&from=searchresults#hotelTmpl', 'https://www.booking.com/hotel/fr/cosy-apt-arc-de-triomphe.fr.html?label=gen173nr-1BCAEoggI46AdIM1gEaE2IAQGYAQ24ARfIARXYAQHoAQGIAgGoAgO4Avjj3akGwAIB0gIkYzY5NTVhYzItYjQwYS00YWJlLWIyMWItOTc0OTAxNmVmYmNj2AIF4AIB&sid=ddc37917e9355cbdcad54b3c452b053a&aid=304142&ucfs=1&arphpl=1&checkin=2023-10-30&checkout=2023-10-31&dest_id=-1456928&dest_type=city&group_adults=2&req_adults=2&no_rooms=1&group_children=0&req_children=0&hpos=7&hapos=7&sr_order=popularity&srpvid=2f5592c649dc03cd&srepoch=1698699153&all_sr_blocks=1054262101_377612694_2_0_0&highlighted_blocks=1054262101_377612694_2_0_0&matching_block_id=1054262101_377612694_2_0_0&sr_pri_blocks=1054262101_377612694_2_0_0__18500&from=searchresults#hotelTmpl', 'https://www.booking.com/hotel/fr/mattle.fr.html?label=gen173nr-1BCAEoggI46AdIM1gEaE2IAQGYAQ24ARfIARXYAQHoAQGIAgGoAgO4Avjj3akGwAIB0gIkYzY5NTVhYzItYjQwYS00YWJlLWIyMWItOTc0OTAxNmVmYmNj2AIF4AIB&sid=ddc37917e9355cbdcad54b3c452b053a&aid=304142&ucfs=1&arphpl=1&checkin=2023-10-30&checkout=2023-10-31&dest_id=-1456928&dest_type=city&group_adults=2&req_adults=2&no_rooms=1&group_children=0&req_children=0&hpos=8&hapos=8&sr_order=popularity&srpvid=2f5592c649dc03cd&srepoch=1698699153&all_sr_blocks=24239211_89341537_2_2_0&highlighted_blocks=24239211_89341537_2_2_0&matching_block_id=24239211_89341537_2_2_0&sr_pri_blocks=24239211_89341537_2_2_0__10281&from_sustainable_property_sr=1&from=searchresults#hotelTmpl', 'https://www.booking.com/hotel/fr/best-western-premier-61-paris-nation-hotel.fr.html?label=gen173nr-1BCAEoggI46AdIM1gEaE2IAQGYAQ24ARfIARXYAQHoAQGIAgGoAgO4Avjj3akGwAIB0gIkYzY5NTVhYzItYjQwYS00YWJlLWIyMWItOTc0OTAxNmVmYmNj2AIF4AIB&sid=ddc37917e9355cbdcad54b3c452b053a&aid=304142&ucfs=1&arphpl=1&checkin=2023-10-30&checkout=2023-10-31&dest_id=-1456928&dest_type=city&group_adults=2&req_adults=2&no_rooms=1&group_children=0&req_children=0&hpos=9&hapos=9&sr_order=popularity&srpvid=2f5592c649dc03cd&srepoch=1698699153&all_sr_blocks=5045422_346755173_2_2_0&highlighted_blocks=5045422_346755173_2_2_0&matching_block_id=5045422_346755173_2_2_0&sr_pri_blocks=5045422_346755173_2_2_0__11466&from_sustainable_property_sr=1&from=searchresults#hotelTmpl', 'https://www.booking.com/hotel/fr/best-western-nouvel-orleans.fr.html?label=gen173nr-1BCAEoggI46AdIM1gEaE2IAQGYAQ24ARfIARXYAQHoAQGIAgGoAgO4Avjj3akGwAIB0gIkYzY5NTVhYzItYjQwYS00YWJlLWIyMWItOTc0OTAxNmVmYmNj2AIF4AIB&sid=ddc37917e9355cbdcad54b3c452b053a&aid=304142&ucfs=1&arphpl=1&checkin=2023-10-30&checkout=2023-10-31&dest_id=-1456928&dest_type=city&group_adults=2&req_adults=2&no_rooms=1&group_children=0&req_children=0&hpos=10&hapos=10&sr_order=popularity&srpvid=2f5592c649dc03cd&srepoch=1698699153&all_sr_blocks=5402406_121747557_2_2_0&highlighted_blocks=5402406_121747557_2_2_0&matching_block_id=5402406_121747557_2_2_0&sr_pri_blocks=5402406_121747557_2_2_0__9877&from_sustainable_property_sr=1&from=searchresults#hotelTmpl', 'https://www.booking.com/hotel/fr/port-royal-paris1.fr.html?label=gen173nr-1BCAEoggI46AdIM1gEaE2IAQGYAQ24ARfIARXYAQHoAQGIAgGoAgO4Avjj3akGwAIB0gIkYzY5NTVhYzItYjQwYS00YWJlLWIyMWItOTc0OTAxNmVmYmNj2AIF4AIB&sid=ddc37917e9355cbdcad54b3c452b053a&aid=304142&ucfs=1&arphpl=1&checkin=2023-10-30&checkout=2023-10-31&dest_id=-1456928&dest_type=city&group_adults=2&req_adults=2&no_rooms=1&group_children=0&req_children=0&hpos=11&hapos=11&sr_order=popularity&srpvid=2f5592c649dc03cd&srepoch=1698699153&all_sr_blocks=388512302_368751469_2_2_0&highlighted_blocks=388512302_368751469_2_2_0&matching_block_id=388512302_368751469_2_2_0&sr_pri_blocks=388512302_368751469_2_2_0__8952&from_sustainable_property_sr=1&from=searchresults#hotelTmpl', 'https://www.booking.com/hotel/fr/aston-paris.fr.html?label=gen173nr-1BCAEoggI46AdIM1gEaE2IAQGYAQ24ARfIARXYAQHoAQGIAgGoAgO4Avjj3akGwAIB0gIkYzY5NTVhYzItYjQwYS00YWJlLWIyMWItOTc0OTAxNmVmYmNj2AIF4AIB&sid=ddc37917e9355cbdcad54b3c452b053a&aid=304142&ucfs=1&arphpl=1&checkin=2023-10-30&checkout=2023-10-31&dest_id=-1456928&dest_type=city&group_adults=2&req_adults=2&no_rooms=1&group_children=0&req_children=0&hpos=12&hapos=12&sr_order=popularity&srpvid=2f5592c649dc03cd&srepoch=1698699153&all_sr_blocks=23950712_378744513_2_2_0&highlighted_blocks=23950712_378744513_2_2_0&matching_block_id=23950712_378744513_2_2_0&sr_pri_blocks=23950712_378744513_2_2_0__12276&from_sustainable_property_sr=1&from=searchresults#hotelTmpl', 'https://www.booking.com/hotel/fr/mercure-terminus-est.fr.html?label=gen173nr-1BCAEoggI46AdIM1gEaE2IAQGYAQ24ARfIARXYAQHoAQGIAgGoAgO4Avjj3akGwAIB0gIkYzY5NTVhYzItYjQwYS00YWJlLWIyMWItOTc0OTAxNmVmYmNj2AIF4AIB&sid=ddc37917e9355cbdcad54b3c452b053a&aid=304142&ucfs=1&arphpl=1&checkin=2023-10-30&checkout=2023-10-31&dest_id=-1456928&dest_type=city&group_adults=2&req_adults=2&no_rooms=1&group_children=0&req_children=0&hpos=13&hapos=13&sr_order=popularity&srpvid=2f5592c649dc03cd&srepoch=1698699153&all_sr_blocks=5409526_246028155_2_2_0&highlighted_blocks=5409526_246028155_2_2_0&matching_block_id=5409526_246028155_2_2_0&sr_pri_blocks=5409526_246028155_2_2_0__11476&from=searchresults#hotelTmpl', 'https://www.booking.com/hotel/fr/paris-ronceray-opera.fr.html?label=gen173nr-1BCAEoggI46AdIM1gEaE2IAQGYAQ24ARfIARXYAQHoAQGIAgGoAgO4Avjj3akGwAIB0gIkYzY5NTVhYzItYjQwYS00YWJlLWIyMWItOTc0OTAxNmVmYmNj2AIF4AIB&sid=ddc37917e9355cbdcad54b3c452b053a&aid=304142&ucfs=1&arphpl=1&checkin=2023-10-30&checkout=2023-10-31&dest_id=-1456928&dest_type=city&group_adults=2&req_adults=2&no_rooms=1&group_children=0&req_children=0&hpos=14&hapos=14&sr_order=popularity&srpvid=2f5592c649dc03cd&srepoch=1698699153&all_sr_blocks=5715909_338223684_2_2_0&highlighted_blocks=5715909_338223684_2_2_0&matching_block_id=5715909_338223684_2_2_0&sr_pri_blocks=5715909_338223684_2_2_0__13426&from=searchresults#hotelTmpl', 'https://www.booking.com/hotel/fr/best-western-premier-faubourg-88.fr.html?label=gen173nr-1BCAEoggI46AdIM1gEaE2IAQGYAQ24ARfIARXYAQHoAQGIAgGoAgO4Avjj3akGwAIB0gIkYzY5NTVhYzItYjQwYS00YWJlLWIyMWItOTc0OTAxNmVmYmNj2AIF4AIB&sid=ddc37917e9355cbdcad54b3c452b053a&aid=304142&ucfs=1&arphpl=1&checkin=2023-10-30&checkout=2023-10-31&dest_id=-1456928&dest_type=city&group_adults=2&req_adults=2&no_rooms=1&group_children=0&req_children=0&hpos=15&hapos=15&sr_order=popularity&srpvid=2f5592c649dc03cd&srepoch=1698699153&all_sr_blocks=60083208_338216533_2_2_0&highlighted_blocks=60083208_338216533_2_2_0&matching_block_id=60083208_338216533_2_2_0&sr_pri_blocks=60083208_338216533_2_2_0__10476&from_sustainable_property_sr=1&from=searchresults#hotelTmpl', 'https://www.booking.com/hotel/fr/citizenm-paris-opera.fr.html?label=gen173nr-1BCAEoggI46AdIM1gEaE2IAQGYAQ24ARfIARXYAQHoAQGIAgGoAgO4Avjj3akGwAIB0gIkYzY5NTVhYzItYjQwYS00YWJlLWIyMWItOTc0OTAxNmVmYmNj2AIF4AIB&sid=ddc37917e9355cbdcad54b3c452b053a&aid=304142&ucfs=1&arphpl=1&checkin=2023-10-30&checkout=2023-10-31&dest_id=-1456928&dest_type=city&group_adults=2&req_adults=2&no_rooms=1&group_children=0&req_children=0&hpos=16&hapos=16&sr_order=popularity&srpvid=2f5592c649dc03cd&srepoch=1698699153&all_sr_blocks=934698601_365586010_2_2_0&highlighted_blocks=934698601_365586010_2_2_0&matching_block_id=934698601_365586010_2_2_0&sr_pri_blocks=934698601_365586010_2_2_0__20041&from_sustainable_property_sr=1&from=searchresults#hotelTmpl', 'https://www.booking.com/hotel/fr/horsetwashington.fr.html?label=gen173nr-1BCAEoggI46AdIM1gEaE2IAQGYAQ24ARfIARXYAQHoAQGIAgGoAgO4Avjj3akGwAIB0gIkYzY5NTVhYzItYjQwYS00YWJlLWIyMWItOTc0OTAxNmVmYmNj2AIF4AIB&sid=ddc37917e9355cbdcad54b3c452b053a&aid=304142&ucfs=1&arphpl=1&checkin=2023-10-30&checkout=2023-10-31&dest_id=-1456928&dest_type=city&group_adults=2&req_adults=2&no_rooms=1&group_children=0&req_children=0&hpos=17&hapos=17&sr_order=popularity&srpvid=2f5592c649dc03cd&srepoch=1698699153&all_sr_blocks=5104402_0_2_0_0&highlighted_blocks=5104402_0_2_0_0&matching_block_id=5104402_0_2_0_0&sr_pri_blocks=5104402_0_2_0_0__11462&from_sustainable_property_sr=1&from=searchresults#hotelTmpl', 'https://www.booking.com/hotel/fr/libertel-villette.fr.html?label=gen173nr-1BCAEoggI46AdIM1gEaE2IAQGYAQ24ARfIARXYAQHoAQGIAgGoAgO4Avjj3akGwAIB0gIkYzY5NTVhYzItYjQwYS00YWJlLWIyMWItOTc0OTAxNmVmYmNj2AIF4AIB&sid=ddc37917e9355cbdcad54b3c452b053a&aid=304142&ucfs=1&arphpl=1&checkin=2023-10-30&checkout=2023-10-31&dest_id=-1456928&dest_type=city&group_adults=2&req_adults=2&no_rooms=1&group_children=0&req_children=0&hpos=18&hapos=18&sr_order=popularity&srpvid=2f5592c649dc03cd&srepoch=1698699153&all_sr_blocks=23078405_326752252_0_2_0&highlighted_blocks=23078405_326752252_0_2_0&matching_block_id=23078405_326752252_0_2_0&sr_pri_blocks=23078405_326752252_0_2_0__7876&from=searchresults#hotelTmpl', 'https://www.booking.com/hotel/fr/citotel-sport-hotel.fr.html?label=gen173nr-1BCAEoggI46AdIM1gEaE2IAQGYAQ24ARfIARXYAQHoAQGIAgGoAgO4Avjj3akGwAIB0gIkYzY5NTVhYzItYjQwYS00YWJlLWIyMWItOTc0OTAxNmVmYmNj2AIF4AIB&sid=ddc37917e9355cbdcad54b3c452b053a&aid=304142&ucfs=1&arphpl=1&checkin=2023-10-30&checkout=2023-10-31&dest_id=-1456928&dest_type=city&group_adults=2&req_adults=2&no_rooms=1&group_children=0&req_children=0&hpos=19&hapos=19&sr_order=popularity&srpvid=2f5592c649dc03cd&srepoch=1698699153&all_sr_blocks=22449303_380301039_0_2_0&highlighted_blocks=22449303_380301039_0_2_0&matching_block_id=22449303_380301039_0_2_0&sr_pri_blocks=22449303_380301039_0_2_0__8961&from_sustainable_property_sr=1&from=searchresults#hotelTmpl', 'https://www.booking.com/hotel/fr/tonic-saint-germain-des-pres.fr.html?label=gen173nr-1BCAEoggI46AdIM1gEaE2IAQGYAQ24ARfIARXYAQHoAQGIAgGoAgO4Avjj3akGwAIB0gIkYzY5NTVhYzItYjQwYS00YWJlLWIyMWItOTc0OTAxNmVmYmNj2AIF4AIB&sid=ddc37917e9355cbdcad54b3c452b053a&aid=304142&ucfs=1&arphpl=1&checkin=2023-10-30&checkout=2023-10-31&dest_id=-1456928&dest_type=city&group_adults=2&req_adults=2&no_rooms=1&group_children=0&req_children=0&hpos=20&hapos=20&sr_order=popularity&srpvid=2f5592c649dc03cd&srepoch=1698699153&all_sr_blocks=104170301_88987302_0_2_0&highlighted_blocks=104170301_88987302_0_2_0&matching_block_id=104170301_88987302_0_2_0&sr_pri_blocks=104170301_88987302_0_2_0__10176&from_sustainable_property_sr=1&from=searchresults#hotelTmpl', 'https://www.booking.com/hotel/fr/sweet-central-paris-studio.fr.html?label=gen173nr-1BCAEoggI46AdIM1gEaE2IAQGYAQ24ARfIARXYAQHoAQGIAgGoAgO4Avjj3akGwAIB0gIkYzY5NTVhYzItYjQwYS00YWJlLWIyMWItOTc0OTAxNmVmYmNj2AIF4AIB&sid=ddc37917e9355cbdcad54b3c452b053a&aid=304142&ucfs=1&arphpl=1&checkin=2023-10-30&checkout=2023-10-31&dest_id=-1456928&dest_type=city&group_adults=2&req_adults=2&no_rooms=1&group_children=0&req_children=0&hpos=21&hapos=21&sr_order=popularity&srpvid=2f5592c649dc03cd&srepoch=1698699153&all_sr_blocks=1062152101_378574516_2_0_0&highlighted_blocks=1062152101_378574516_2_0_0&matching_block_id=1062152101_378574516_2_0_0&sr_pri_blocks=1062152101_378574516_2_0_0__14432&from=searchresults#hotelTmpl', 'https://www.booking.com/hotel/fr/hotelfrancais.fr.html?label=gen173nr-1BCAEoggI46AdIM1gEaE2IAQGYAQ24ARfIARXYAQHoAQGIAgGoAgO4Avjj3akGwAIB0gIkYzY5NTVhYzItYjQwYS00YWJlLWIyMWItOTc0OTAxNmVmYmNj2AIF4AIB&sid=ddc37917e9355cbdcad54b3c452b053a&aid=304142&ucfs=1&arphpl=1&checkin=2023-10-30&checkout=2023-10-31&dest_id=-1456928&dest_type=city&group_adults=2&req_adults=2&no_rooms=1&group_children=0&req_children=0&hpos=22&hapos=22&sr_order=popularity&srpvid=2f5592c649dc03cd&srepoch=1698699153&all_sr_blocks=5029814_363196059_0_1_0&highlighted_blocks=5029814_363196059_0_1_0&matching_block_id=5029814_363196059_0_1_0&sr_pri_blocks=5029814_363196059_0_1_0__12616&from_sustainable_property_sr=1&from=searchresults#hotelTmpl', 'https://www.booking.com/hotel/fr/dauphinesaintgermain.fr.html?label=gen173nr-1BCAEoggI46AdIM1gEaE2IAQGYAQ24ARfIARXYAQHoAQGIAgGoAgO4Avjj3akGwAIB0gIkYzY5NTVhYzItYjQwYS00YWJlLWIyMWItOTc0OTAxNmVmYmNj2AIF4AIB&sid=ddc37917e9355cbdcad54b3c452b053a&aid=304142&ucfs=1&arphpl=1&checkin=2023-10-30&checkout=2023-10-31&dest_id=-1456928&dest_type=city&group_adults=2&req_adults=2&no_rooms=1&group_children=0&req_children=0&hpos=23&hapos=23&sr_order=popularity&srpvid=2f5592c649dc03cd&srepoch=1698699153&all_sr_blocks=5095109_362058513_2_2_0&highlighted_blocks=5095109_362058513_2_2_0&matching_block_id=5095109_362058513_2_2_0&sr_pri_blocks=5095109_362058513_2_2_0__11276&from_sustainable_property_sr=1&from=searchresults#hotelTmpl', 'https://www.booking.com/hotel/fr/gossec.fr.html?label=gen173nr-1BCAEoggI46AdIM1gEaE2IAQGYAQ24ARfIARXYAQHoAQGIAgGoAgO4Avjj3akGwAIB0gIkYzY5NTVhYzItYjQwYS00YWJlLWIyMWItOTc0OTAxNmVmYmNj2AIF4AIB&sid=ddc37917e9355cbdcad54b3c452b053a&aid=304142&ucfs=1&arphpl=1&checkin=2023-10-30&checkout=2023-10-31&dest_id=-1456928&dest_type=city&group_adults=2&req_adults=2&no_rooms=1&group_children=0&req_children=0&hpos=24&hapos=24&sr_order=popularity&srpvid=2f5592c649dc03cd&srepoch=1698699153&all_sr_blocks=36407607_88551357_2_2_0&highlighted_blocks=36407607_88551357_2_2_0&matching_block_id=36407607_88551357_2_2_0&sr_pri_blocks=36407607_88551357_2_2_0__14851&from_sustainable_property_sr=1&from=searchresults#hotelTmpl', 'https://www.booking.com/hotel/fr/anya.fr.html?label=gen173nr-1BCAEoggI46AdIM1gEaE2IAQGYAQ24ARfIARXYAQHoAQGIAgGoAgO4Avjj3akGwAIB0gIkYzY5NTVhYzItYjQwYS00YWJlLWIyMWItOTc0OTAxNmVmYmNj2AIF4AIB&sid=ddc37917e9355cbdcad54b3c452b053a&aid=304142&ucfs=1&arphpl=1&checkin=2023-10-30&checkout=2023-10-31&dest_id=-1456928&dest_type=city&group_adults=2&req_adults=2&no_rooms=1&group_children=0&req_children=0&hpos=25&hapos=25&sr_order=popularity&srpvid=2f5592c649dc03cd&srepoch=1698699153&all_sr_blocks=42821802_363529310_0_0_0&highlighted_blocks=42821802_363529310_0_0_0&matching_block_id=42821802_363529310_0_0_0&sr_pri_blocks=42821802_363529310_0_0_0__9050&from=searchresults#hotelTmpl', 'https://www.booking.com/hotel/fr/eurotel-paris.fr.html?label=gen173nr-1BCAEoggI46AdIM1gEaE2IAQGYAQ24ARfIARXYAQHoAQGIAgGoAgO4Avjj3akGwAIB0gIkYzY5NTVhYzItYjQwYS00YWJlLWIyMWItOTc0OTAxNmVmYmNj2AIF4AIB&sid=ddc37917e9355cbdcad54b3c452b053a&aid=304142&ucfs=1&arphpl=1&checkin=2023-10-30&checkout=2023-10-31&dest_id=-1456928&dest_type=city&group_adults=2&req_adults=2&no_rooms=1&group_children=0&req_children=0&hpos=26&hapos=26&sr_order=popularity&srpvid=2f5592c649dc03cd&srepoch=1698699153&all_sr_blocks=26686606_88551253_0_2_0&highlighted_blocks=26686606_88551253_0_2_0&matching_block_id=26686606_88551253_0_2_0&sr_pri_blocks=26686606_88551253_0_2_0__8976&from=searchresults#hotelTmpl']\n",
      "Paris j'Adore Hotel & Spa\n",
      "\n",
      "€ 954\n",
      "\n",
      "-40 %\n",
      "\n",
      "€ 576\n",
      "\n",
      "Paris j'Adore Hotel & Spa\n",
      "\n",
      "€ 954\n",
      "\n",
      "-40 %\n",
      "\n",
      "€ 576\n",
      "\n"
     ]
    },
    {
     "name": "stderr",
     "output_type": "stream",
     "text": [
      "ERROR:root:we y a pas de nom?\n",
      "ERROR:root:no reduction\n",
      "ERROR:root:no reduction\n",
      "ERROR:root:comment ca y a pas de prix?\n"
     ]
    },
    {
     "name": "stdout",
     "output_type": "stream",
     "text": [
      "chic appartement centre paris\n"
     ]
    },
    {
     "name": "stderr",
     "output_type": "stream",
     "text": [
      "ERROR:root:no reduction\n",
      "ERROR:root:no reduction\n"
     ]
    },
    {
     "name": "stdout",
     "output_type": "stream",
     "text": [
      "\n",
      "€ 208\n",
      "\n",
      "Appartement luxe Avenue Foch /Arc de Triomphe ,champs Elysées air conditionne 4P\n"
     ]
    },
    {
     "name": "stderr",
     "output_type": "stream",
     "text": [
      "ERROR:root:no reduction\n",
      "ERROR:root:no reduction\n"
     ]
    },
    {
     "name": "stdout",
     "output_type": "stream",
     "text": [
      "\n",
      "€ 684\n",
      "\n"
     ]
    },
    {
     "name": "stderr",
     "output_type": "stream",
     "text": [
      "ERROR:root:no reduction\n"
     ]
    },
    {
     "name": "stdout",
     "output_type": "stream",
     "text": [
      "Cosy studio close to Eiffel Tower\n"
     ]
    },
    {
     "name": "stderr",
     "output_type": "stream",
     "text": [
      "ERROR:root:no reduction\n"
     ]
    },
    {
     "name": "stdout",
     "output_type": "stream",
     "text": [
      "\n",
      "€ 243\n",
      "\n",
      "Champs Elysées 2\n"
     ]
    },
    {
     "name": "stderr",
     "output_type": "stream",
     "text": [
      "ERROR:root:no reduction\n",
      "ERROR:root:no reduction\n"
     ]
    },
    {
     "name": "stdout",
     "output_type": "stream",
     "text": [
      "\n",
      "€ 693\n",
      "\n"
     ]
    },
    {
     "name": "stderr",
     "output_type": "stream",
     "text": [
      "ERROR:root:no reduction\n",
      "ERROR:root:no reduction\n"
     ]
    },
    {
     "name": "stdout",
     "output_type": "stream",
     "text": [
      "Cosy apt Arc de Triomphe\n",
      "\n",
      "€ 185\n",
      "\n",
      "WIT Hotel\n",
      "\n",
      "€ 143\n",
      "\n",
      "-28 %\n",
      "\n",
      "€ 103\n",
      "\n"
     ]
    },
    {
     "name": "stderr",
     "output_type": "stream",
     "text": [
      "ERROR:root:we y a pas de nom?\n",
      "ERROR:root:no reduction\n",
      "ERROR:root:no reduction\n",
      "ERROR:root:comment ca y a pas de prix?\n",
      "ERROR:root:we y a pas de nom?\n",
      "ERROR:root:no reduction\n",
      "ERROR:root:no reduction\n",
      "ERROR:root:comment ca y a pas de prix?\n",
      "ERROR:root:we y a pas de nom?\n",
      "ERROR:root:no reduction\n",
      "ERROR:root:no reduction\n",
      "ERROR:root:comment ca y a pas de prix?\n",
      "ERROR:root:we y a pas de nom?\n",
      "ERROR:root:no reduction\n",
      "ERROR:root:no reduction\n",
      "ERROR:root:comment ca y a pas de prix?\n",
      "ERROR:root:we y a pas de nom?\n",
      "ERROR:root:no reduction\n",
      "ERROR:root:no reduction\n",
      "ERROR:root:comment ca y a pas de prix?\n",
      "ERROR:root:we y a pas de nom?\n",
      "ERROR:root:no reduction\n",
      "ERROR:root:no reduction\n",
      "ERROR:root:comment ca y a pas de prix?\n",
      "ERROR:root:we y a pas de nom?\n",
      "ERROR:root:no reduction\n",
      "ERROR:root:no reduction\n",
      "ERROR:root:comment ca y a pas de prix?\n"
     ]
    }
   ],
   "source": [
    "ua = UserAgent()\n",
    "user_agent = ua.random\n",
    "\n",
    "options = webdriver.FirefoxOptions()\n",
    "options.add_argument(f'user-agent={user_agent}')\n",
    "options.add_argument('--headless')\n",
    "driver = webdriver.Firefox(options=options)\n",
    "\n",
    "start_date, end_date = get_start_end_date()\n",
    "\n",
    "#récupère le reservations d'hotels sur une durée de 1 jour\n",
    "while start_date < end_date:\n",
    "    \n",
    "    print(\"new date\")\n",
    "    \n",
    "    #go to the next link\n",
    "    end_trip = next_link(driver, start_date)\n",
    "    # get a list of url\n",
    "    url_list = get_url_list(driver)\n",
    "    #go to the matching url \n",
    "    go_to_url(url_list, driver)  \n",
    "    \n",
    "    \n",
    "    start_date = end_trip\n",
    "\n",
    "driver.quit()"
   ]
  }
 ],
 "metadata": {
  "kernelspec": {
   "display_name": "base",
   "language": "python",
   "name": "python3"
  },
  "language_info": {
   "codemirror_mode": {
    "name": "ipython",
    "version": 3
   },
   "file_extension": ".py",
   "mimetype": "text/x-python",
   "name": "python",
   "nbconvert_exporter": "python",
   "pygments_lexer": "ipython3",
   "version": "3.12.0"
  }
 },
 "nbformat": 4,
 "nbformat_minor": 2
}
