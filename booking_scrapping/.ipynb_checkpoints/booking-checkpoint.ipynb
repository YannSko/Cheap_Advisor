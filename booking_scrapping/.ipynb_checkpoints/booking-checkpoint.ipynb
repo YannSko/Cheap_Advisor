{
 "cells": [
  {
   "cell_type": "markdown",
   "metadata": {},
   "source": [
    "https://www.booking.com"
   ]
  },
  {
   "cell_type": "code",
   "execution_count": null,
   "metadata": {},
   "outputs": [],
   "source": [
    "from selenium import webdriver\n",
    "from fake_useragent import UserAgent\n",
    "import time\n",
    "from datetime import datetime, timedelta\n",
    "\n",
    "from selenium.webdriver.common.keys import Keys\n",
    "from selenium.webdriver.common.by import By\n",
    "from selenium.common.exceptions import NoSuchElementException\n",
    "import logging\n",
    "from urllib3.exceptions import NewConnectionError\n",
    "from selenium.webdriver.support import expected_conditions as EC\n",
    "\n"
   ]
  },
  {
   "cell_type": "code",
   "execution_count": null,
   "metadata": {},
   "outputs": [],
   "source": [
    "list_ville_pays = ['ss=Vienne%2C+Vienne+%28État%29%2C+Autriche', 'ss=Berlin%2C+Berlin+%28état+fédéral%29%2C+Allemagne', 'ss=Tirana%2C+Tirana+County%2C+Albanie', 'ss=Vienne%2C+Vienne+%28État%29%2C+Autriche', 'ss=Bruxelles%2C+Bruxelles%2C+Belgique', 'ss=Sarajevo%2C+Sarajevo+Canton%2C+Bosnie-Herzégovine', 'ss=Sofia%2C+Province+de+Sofia%2C+Bulgarie', 'ss=Nicosie%2C+Chypre', 'ss=Zagreb%2C+Comitat+de+Zagreb%2C+Croatie', 'ss=Copenhague%2C+Hovedstaden%2C+Danemark', 'ss=Madrid%2C+Communauté+de+Madrid%2C+Espagne', 'ss=Tallinn%2C+Harjumaa%2C+Estonie', 'ss=Helsinki%2C+Finlande-Méridionale%2C+Finlande', 'ss=Paris%2C+Île-de-France%2C+France', 'ss=Athènes%2C+Attique%2C+Grèce', 'ss=Budapest%2C+Pest%2C+Hongrie', 'ss=Dublin%2C+Comté+de+Dublin%2C+Irlande', 'ss=Reykjavik%2C+Grand+Reykjavik%2C+Islande', 'ss=Rome%2C+Latium%2C+Italie', 'ss=Pristina%2C+Pristina+County%2C+Kosovo', 'ss=Riga%2C+Vidzeme%2C+Lettonie', 'ss=Vaduz%2C+Suisse+orientale%2C+Liechtenstein', 'ss=Vilnius%2C+Vilnius+county%2C+Lituanie', 'ss=Luxembourg%2C+Luxembourg', 'ss=Skopje%2C+Macédoine+du+Nord', 'ss=La+Valette%2C+Île+de+Malte%2C+Malte', 'ss=Chişinău%2C+Moldavie', 'ss=Monte-Carlo%2C+Côte+d%27Azur%2C+Monaco', 'ss=Podgorica%2C+Podgorica+County%2C+Monténégro', 'ss=Oslo%2C+Comté+d%27Oslo%2C+Norvège', 'ss=Amsterdam%2C+Hollande-Septentrionale%2C+Pays-Bas', 'ss=Varsovie%2C+Mazovie%2C+Pologne', 'ss=Lisbonne%2C+Lisbon+Region%2C+Portugal', 'ss=Prague%2C+République+tchèque', 'ss=Bucarest%2C+Bucharest+-+Ilfov+Region%2C+Roumanie', 'ss=Londres%2C+Grand+Londres%2C+Royaume-Uni', 'ss=Belgrade%2C+Central+Serbia%2C+Serbie', 'ss=Bratislava%2C+Bratislavský+kraj%2C+Slovaquie', 'Ljubljana%2C+Osrednjeslovenska%2C+Slovénie', 'ss=Berne%2C+Canton+de+Berne%2C+Suisse', 'ss=Stockholm%2C+Comté+de+Stockholm%2C+Suède', 'ss=Kiev%2C+Ukraine', 'ss=Vatican%2C+Rome%2C+Latium%2C+Italie']"
   ]
  },
  {
   "cell_type": "code",
   "execution_count": null,
   "metadata": {},
   "outputs": [],
   "source": [
    "def get_start_end_date():\n",
    "    start_date = datetime.today()\n",
    "    end_date = start_date + timedelta(days=60)\n",
    "    \n",
    "    return start_date, end_date"
   ]
  },
  {
   "cell_type": "code",
   "execution_count": null,
   "metadata": {},
   "outputs": [],
   "source": [
    "def next_link(driver, start_date, ville):\n",
    "    \n",
    "    end_trip = start_date + timedelta(days=1)\n",
    "    start_date_str = str(start_date).split(' ')\n",
    "    end_trip_str = str(end_trip).split(' ')\n",
    "    \n",
    "    \n",
    "    try:\n",
    "        driver.get(f\"https://www.booking.com/searchresults.fr.html?\"+ville+\"&efdco=1&label=gen173nr-1BCAEoggI46AdIM1gEaE2IAQGYAQ24ARfIAQzYAQHoAQGIAgGoAgO4Au7RjaoGwAIB0gIkNzQ3ZWY1ZWQtNDY5OC00ZmJhLTgxNGYtZTVhM2JlYWMzNWEx2AIF4AIB&sid=dfa66e6ef263fc9c219c2f7165d8a25f&aid=304142&lang=fr&sb=1&src_elem=sb&src=searchresults&dest_id=-1746443&dest_type=city&checkin=\"+start_date_str[0]+\"&checkout=\"+end_trip_str[0]+\"&group_adults=2&no_rooms=1&group_children=0\")\n",
    "        print(f\"https://www.booking.com/searchresults.fr.html?\"+ville+\"&efdco=1&label=gen173nr-1BCAEoggI46AdIM1gEaE2IAQGYAQ24ARfIARXYAQHoAQGIAgGoAgO4Avjj3akGwAIB0gIkYzY5NTVhYzItYjQwYS00YWJlLWIyMWItOTc0OTAxNmVmYmNj2AIF4AIB&sid=ddc37917e9355cbdcad54b3c452b053a&aid=304142&lang=fr&sb=1&src_elem=sb&src=index&dest_id=-1456928&dest_type=city&checkin=\"+start_date_str[0]+\"&checkout=\"+end_trip_str[0]+\"&group_adults=2&no_rooms=1&group_children=0&sb_travel_purpose=leisure\")   \n",
    "    except NewConnectionError:\n",
    "        logging.error(f\"Erreur de connexion pour la date \"+start_date+\" et la date \"+end_trip)\n",
    "        try:\n",
    "            driver.get(f\"https://www.booking.com/searchresults.fr.html?\"+ville+\"&efdco=1&label=gen173nr-1BCAEoggI46AdIM1gEaE2IAQGYAQ24ARfIAQzYAQHoAQGIAgGoAgO4Au7RjaoGwAIB0gIkNzQ3ZWY1ZWQtNDY5OC00ZmJhLTgxNGYtZTVhM2JlYWMzNWEx2AIF4AIB&sid=dfa66e6ef263fc9c219c2f7165d8a25f&aid=304142&lang=fr&sb=1&src_elem=sb&src=searchresults&dest_id=-1746443&dest_type=city&checkin=\"+start_date_str[0]+\"&checkout=\"+end_trip_str[0]+\"&group_adults=2&no_rooms=1&group_children=0\")\n",
    "\n",
    "        except Exception as e:\n",
    "            logging.error(f\"impossible de scrapper cette date : \"+start_date+\" et \"+end_trip)\n",
    "            driver.quit()\n",
    "            return\n",
    "    time.sleep(2)\n",
    "    return end_trip\n",
    "    "
   ]
  },
  {
   "cell_type": "code",
   "execution_count": null,
   "metadata": {},
   "outputs": [],
   "source": [
    "def get_url_list(driver):\n",
    "    link_elements = driver.find_elements(By.CLASS_NAME, 'a78ca197d0')\n",
    "    url_list = []\n",
    "    \n",
    "    for link_element in link_elements:\n",
    "        url = link_element.get_attribute(\"href\")\n",
    "        if url is not None:\n",
    "            url_list.append(url)\n",
    "    return url_list"
   ]
  },
  {
   "cell_type": "code",
   "execution_count": null,
   "metadata": {},
   "outputs": [],
   "source": [
    "def get_data(driver):\n",
    "    try:\n",
    "        nom_chambre = driver.find_element(By.CSS_SELECTOR, '.d2fee87262').get_attribute('textContent')\n",
    "        print(nom_chambre)\n",
    "        \n",
    "        prix_initiale = driver.find_element(By.CSS_SELECTOR, 'td.hp-price-left-align:nth-child(3) > div:nth-child(1) > div:nth-child(1) > div:nth-child(1) > div:nth-child(1) > div:nth-child(1)').get_attribute('textContent')\n",
    "        print(prix_initiale)\n",
    "        \n",
    "        taux_reduction = driver.find_element(By.CSS_SELECTOR, 'td.hp-price-left-align:nth-child(3) > div:nth-child(1) > div:nth-child(2) > div:nth-child(1) > div:nth-child(1) > span:nth-child(1) > span:nth-child(1) > span:nth-child(1)').get_attribute('textContent')\n",
    "        print(taux_reduction) \n",
    "        \n",
    "        prix_apres_reduction = driver.find_element(By.CSS_SELECTOR, 'td.hp-price-left-align:nth-child(3) > div:nth-child(1) > div:nth-child(1) > div:nth-child(1) > div:nth-child(2) > div:nth-child(1) > span:nth-child(1)').get_attribute('textContent')\n",
    "        print(prix_apres_reduction)\n",
    "        \n",
    "        emplacement = driver.find_element(By.XPATH, '/html/body/div[3]/div/div[5]/div[1]/div[1]/div[1]/div/div[3]/div[11]/p/a').get_attribute('data-atlas-latlng')\n",
    "        print(emplacement)\n",
    "        \n",
    "    except NoSuchElementException as e:\n",
    "        print(e)\n",
    "        return\n",
    "    \n",
    "    time.sleep(10)"
   ]
  },
  {
   "cell_type": "code",
   "execution_count": null,
   "metadata": {},
   "outputs": [],
   "source": [
    "def go_to_url(url_list, driver):\n",
    "    for url in url_list:\n",
    "        try:\n",
    "            driver.get(url)\n",
    "        except Exception as e:\n",
    "            logging.error(\"impossible de se connecter\")\n",
    "            logging.error(\"reessaie...\")\n",
    "            try:\n",
    "                driver.get(url)\n",
    "            except Exception as e:\n",
    "                logging.error(\"pas de connexion frero\")\n",
    "                continue\n",
    "        print(url)\n",
    "        # get all necessary data from the pages \n",
    "        \n",
    "        try:\n",
    "            nom_chambre = driver.find_element(By.CSS_SELECTOR, '.d2fee87262').get_attribute('textContent')\n",
    "            print(nom_chambre)\n",
    "            \n",
    "            prix_initiale = driver.find_element(By.CSS_SELECTOR, 'td.hp-price-left-align:nth-child(3) > div:nth-child(1) > div:nth-child(1) > div:nth-child(1) > div:nth-child(1) > div:nth-child(1)').get_attribute('textContent')\n",
    "            print(prix_initiale)\n",
    "            \n",
    "            taux_reduction = driver.find_element(By.CSS_SELECTOR, 'td.hp-price-left-align:nth-child(3) > div:nth-child(1) > div:nth-child(2) > div:nth-child(1) > div:nth-child(1) > span:nth-child(1) > span:nth-child(1) > span:nth-child(1)').get_attribute('textContent')\n",
    "            print(taux_reduction) \n",
    "            \n",
    "            prix_apres_reduction = driver.find_element(By.CSS_SELECTOR, 'td.hp-price-left-align:nth-child(3) > div:nth-child(1) > div:nth-child(1) > div:nth-child(1) > div:nth-child(2) > div:nth-child(1) > span:nth-child(1)').get_attribute('textContent')\n",
    "            print(prix_apres_reduction)\n",
    "            \n",
    "            emplacement = driver.find_element(By.XPATH, '/html/body/div[3]/div/div[5]/div[1]/div[1]/div[1]/div/div[3]/div[11]/p/a').get_attribute('data-atlas-latlng')\n",
    "            print(emplacement)\n",
    "        \n",
    "        except NoSuchElementException as e:\n",
    "            print(e)\n",
    "            break\n",
    "        time.sleep(10)\n",
    "    \n",
    "    "
   ]
  },
  {
   "cell_type": "code",
   "execution_count": null,
   "metadata": {},
   "outputs": [],
   "source": [
    "ua = UserAgent()\n",
    "user_agent = ua.random\n",
    "\n",
    "options = webdriver.FirefoxOptions()\n",
    "options.add_argument(f'user-agent={user_agent}')\n",
    "options.add_argument('--headless')\n",
    "\n",
    "#change de ville a chaque 2 mois écoulé\n",
    "for ville in list_ville_pays:\n",
    "    #récupère le reservations d'hotels sur une durée de 1 jour\n",
    "    start_date, end_date = get_start_end_date()\n",
    "    while start_date < end_date:\n",
    "        \n",
    "        driver = webdriver.Firefox(options=options)\n",
    "        \n",
    "        print(\"new date\")\n",
    "        \n",
    "        #go to the next link\n",
    "        end_trip = next_link(driver, start_date, ville)\n",
    "        # get a list of url\n",
    "        url_list = get_url_list(driver)\n",
    "        print(len(url_list))\n",
    "        #go to the matching url \n",
    "        go_to_url(url_list, driver)  \n",
    "        \n",
    "        start_date = end_trip\n",
    "        time.sleep(5)\n",
    "\n",
    "driver.quit()"
   ]
  }
 ],
 "metadata": {
  "kernelspec": {
   "display_name": "base",
   "language": "python",
   "name": "python3"
  },
  "language_info": {
   "codemirror_mode": {
    "name": "ipython",
    "version": 3
   },
   "file_extension": ".py",
   "mimetype": "text/x-python",
   "name": "python",
   "nbconvert_exporter": "python",
   "pygments_lexer": "ipython3",
   "version": "3.12.0"
  }
 },
 "nbformat": 4,
 "nbformat_minor": 2
}
