{
 "cells": [
  {
   "cell_type": "code",
   "execution_count": 1,
   "id": "43889cdb-af62-47b0-b445-f678dd25bf0c",
   "metadata": {
    "tags": []
   },
   "outputs": [
    {
     "name": "stdout",
     "output_type": "stream",
     "text": [
      "^C\n"
     ]
    }
   ],
   "source": [
    "!pip install pandas pyarrow\n"
   ]
  },
  {
   "cell_type": "code",
   "execution_count": 4,
   "id": "db15cbe6-0769-453a-aa2b-4228a39e62c7",
   "metadata": {
    "tags": []
   },
   "outputs": [],
   "source": [
    "import os\n",
    "import pandas as pd\n",
    "import pyarrow as pa\n",
    "import pyarrow.parquet as pq\n"
   ]
  },
  {
   "cell_type": "markdown",
   "id": "7a61ab95-b2b9-4529-8f4a-4e9e6569b851",
   "metadata": {},
   "source": [
    "## Transform : CSV to PARQUET"
   ]
  },
  {
   "cell_type": "code",
   "execution_count": 3,
   "id": "aa2de866-2eaf-4ec0-a718-43fea2f14687",
   "metadata": {
    "tags": []
   },
   "outputs": [
    {
     "ename": "FileNotFoundError",
     "evalue": "[WinError 3] Le chemin d’accès spécifié est introuvable: 'C:\\\\Users\\\\yskon\\\\Desktop\\\\Cheap\\\\Cheap_Advisor\\\\Scraping\\\\Travel_Scrapping'",
     "output_type": "error",
     "traceback": [
      "\u001b[1;31m---------------------------------------------------------------------------\u001b[0m",
      "\u001b[1;31mFileNotFoundError\u001b[0m                         Traceback (most recent call last)",
      "Cell \u001b[1;32mIn[3], line 3\u001b[0m\n\u001b[0;32m      1\u001b[0m csv_directory \u001b[38;5;241m=\u001b[39m \u001b[38;5;124mR\u001b[39m\u001b[38;5;124m\"\u001b[39m\u001b[38;5;124mC:\u001b[39m\u001b[38;5;124m\\\u001b[39m\u001b[38;5;124mUsers\u001b[39m\u001b[38;5;124m\\\u001b[39m\u001b[38;5;124myskon\u001b[39m\u001b[38;5;124m\\\u001b[39m\u001b[38;5;124mDesktop\u001b[39m\u001b[38;5;124m\\\u001b[39m\u001b[38;5;124mCheap\u001b[39m\u001b[38;5;124m\\\u001b[39m\u001b[38;5;124mCheap_Advisor\u001b[39m\u001b[38;5;124m\\\u001b[39m\u001b[38;5;124mScraping\u001b[39m\u001b[38;5;124m\\\u001b[39m\u001b[38;5;124mTravel_Scrapping\u001b[39m\u001b[38;5;124m\"\u001b[39m\n\u001b[1;32m----> 3\u001b[0m csv_files \u001b[38;5;241m=\u001b[39m [file \u001b[38;5;28;01mfor\u001b[39;00m file \u001b[38;5;129;01min\u001b[39;00m os\u001b[38;5;241m.\u001b[39mlistdir(csv_directory) \u001b[38;5;28;01mif\u001b[39;00m file\u001b[38;5;241m.\u001b[39mendswith(\u001b[38;5;124m'\u001b[39m\u001b[38;5;124m.csv\u001b[39m\u001b[38;5;124m'\u001b[39m)]\n\u001b[0;32m      5\u001b[0m \u001b[38;5;28;01mfor\u001b[39;00m csv_file \u001b[38;5;129;01min\u001b[39;00m csv_files:\n\u001b[0;32m      7\u001b[0m     csv_path \u001b[38;5;241m=\u001b[39m os\u001b[38;5;241m.\u001b[39mpath\u001b[38;5;241m.\u001b[39mjoin(csv_directory, csv_file)\n",
      "\u001b[1;31mFileNotFoundError\u001b[0m: [WinError 3] Le chemin d’accès spécifié est introuvable: 'C:\\\\Users\\\\yskon\\\\Desktop\\\\Cheap\\\\Cheap_Advisor\\\\Scraping\\\\Travel_Scrapping'"
     ]
    }
   ],
   "source": [
    "csv_directory = R\"C:\\Users\\yskon\\Desktop\\Cheap\\Cheap_Advisor\\Scraping\\Travel_Scrapping\"\n",
    "\n",
    "csv_files = [file for file in os.listdir(csv_directory) if file.endswith('.csv')]\n",
    "\n",
    "for csv_file in csv_files:\n",
    "    \n",
    "    csv_path = os.path.join(csv_directory, csv_file)\n",
    "    df = pd.read_csv(csv_path, encoding='utf-8')\n",
    "\n",
    "   \n",
    "    parquet_file = os.path.splitext(csv_file)[0] + '.parquet'\n",
    "    parquet_path = os.path.join(csv_directory, parquet_file)\n",
    "\n",
    "    \n",
    "    table = pa.Table.from_pandas(df)\n",
    "\n",
    "    \n",
    "    with open(parquet_path, 'wb') as f:\n",
    "        pq.write_table(table, f)\n",
    "\n"
   ]
  },
  {
   "cell_type": "markdown",
   "id": "720f66b4-ffcb-4529-a803-6f0493adec3e",
   "metadata": {},
   "source": [
    "## CSV DELETE"
   ]
  },
  {
   "cell_type": "code",
   "execution_count": null,
   "id": "11ac2c2d-3c1a-4619-97a8-ce19a13b5ceb",
   "metadata": {
    "tags": []
   },
   "outputs": [],
   "source": [
    "import os\n",
    "\n",
    "csv_directory = R\"C:\\Users\\yskon\\Desktop\\Cheap\\Cheap_Advisor\\Scrap_Training\\Scraping\\Travel_Scrapping\"\n",
    "csv_files = [file for file in os.listdir(csv_directory) if file.endswith('.csv')]\n",
    "\n",
    "for csv_file in csv_files:\n",
    "    csv_path = os.path.join(csv_directory, csv_file)\n",
    "    os.remove(csv_path)\n"
   ]
  },
  {
   "cell_type": "markdown",
   "id": "0a4750f6-c842-4665-aeb3-b03a965620d3",
   "metadata": {},
   "source": [
    "### Lecture des parquets"
   ]
  },
  {
   "cell_type": "code",
   "execution_count": 1,
   "id": "afe52da9-0688-4946-bdd9-7ed8b8047400",
   "metadata": {
    "tags": []
   },
   "outputs": [
    {
     "data": {
      "text/html": [
       "<div>\n",
       "<style scoped>\n",
       "    .dataframe tbody tr th:only-of-type {\n",
       "        vertical-align: middle;\n",
       "    }\n",
       "\n",
       "    .dataframe tbody tr th {\n",
       "        vertical-align: top;\n",
       "    }\n",
       "\n",
       "    .dataframe thead th {\n",
       "        text-align: right;\n",
       "    }\n",
       "</style>\n",
       "<table border=\"1\" class=\"dataframe\">\n",
       "  <thead>\n",
       "    <tr style=\"text-align: right;\">\n",
       "      <th></th>\n",
       "      <th>Date_Départ</th>\n",
       "      <th>Date_arrivée</th>\n",
       "      <th>VILLE_DEPART</th>\n",
       "      <th>VILLE_ARRIVEE</th>\n",
       "      <th>Horaires</th>\n",
       "      <th>Trajet</th>\n",
       "      <th>Type de trajet</th>\n",
       "      <th>Temps de trajet</th>\n",
       "      <th>Prix</th>\n",
       "      <th>Compagnie de vol</th>\n",
       "      <th>Unnamed: 0</th>\n",
       "    </tr>\n",
       "  </thead>\n",
       "  <tbody>\n",
       "    <tr>\n",
       "      <th>0</th>\n",
       "      <td>2023-11-22</td>\n",
       "      <td>2023-11-28</td>\n",
       "      <td>BER</td>\n",
       "      <td>PAR</td>\n",
       "      <td>20:15 – 22:05</td>\n",
       "      <td>BERAéroport de Berlin Brandebourg-CDGAéroport ...</td>\n",
       "      <td>direct</td>\n",
       "      <td>1h 50min</td>\n",
       "      <td>119 €</td>\n",
       "      <td>Air France</td>\n",
       "      <td>NaN</td>\n",
       "    </tr>\n",
       "    <tr>\n",
       "      <th>1</th>\n",
       "      <td>2023-11-22</td>\n",
       "      <td>2023-11-28</td>\n",
       "      <td>BER</td>\n",
       "      <td>PAR</td>\n",
       "      <td>20:30 – 22:20</td>\n",
       "      <td>BERAéroport de Berlin Brandebourg-ORYAéroport ...</td>\n",
       "      <td>direct</td>\n",
       "      <td>1h 50min</td>\n",
       "      <td>123 €</td>\n",
       "      <td>easyJet Europe</td>\n",
       "      <td>NaN</td>\n",
       "    </tr>\n",
       "    <tr>\n",
       "      <th>2</th>\n",
       "      <td>2023-11-22</td>\n",
       "      <td>2023-11-28</td>\n",
       "      <td>BER</td>\n",
       "      <td>PAR</td>\n",
       "      <td>20:30 – 22:20</td>\n",
       "      <td>BERAéroport de Berlin Brandebourg-ORYAéroport ...</td>\n",
       "      <td>direct</td>\n",
       "      <td>1h 50min</td>\n",
       "      <td>123 €</td>\n",
       "      <td>easyJet Europe, easyJet</td>\n",
       "      <td>NaN</td>\n",
       "    </tr>\n",
       "    <tr>\n",
       "      <th>3</th>\n",
       "      <td>2023-11-22</td>\n",
       "      <td>2023-11-28</td>\n",
       "      <td>BER</td>\n",
       "      <td>PAR</td>\n",
       "      <td>15:45 – 17:35</td>\n",
       "      <td>BERAéroport de Berlin Brandebourg-CDGAéroport ...</td>\n",
       "      <td>direct</td>\n",
       "      <td>1h 50min</td>\n",
       "      <td>128 €</td>\n",
       "      <td>Air France</td>\n",
       "      <td>NaN</td>\n",
       "    </tr>\n",
       "    <tr>\n",
       "      <th>4</th>\n",
       "      <td>2023-11-22</td>\n",
       "      <td>2023-11-28</td>\n",
       "      <td>BER</td>\n",
       "      <td>PAR</td>\n",
       "      <td>20:30 – 22:20</td>\n",
       "      <td>BERAéroport de Berlin Brandebourg-ORYAéroport ...</td>\n",
       "      <td>direct</td>\n",
       "      <td>1h 50min</td>\n",
       "      <td>134 €</td>\n",
       "      <td>easyJet Europe, easyJet</td>\n",
       "      <td>NaN</td>\n",
       "    </tr>\n",
       "  </tbody>\n",
       "</table>\n",
       "</div>"
      ],
      "text/plain": [
       "  Date_Départ Date_arrivée VILLE_DEPART VILLE_ARRIVEE       Horaires  \\\n",
       "0  2023-11-22   2023-11-28          BER           PAR  20:15 – 22:05   \n",
       "1  2023-11-22   2023-11-28          BER           PAR  20:30 – 22:20   \n",
       "2  2023-11-22   2023-11-28          BER           PAR  20:30 – 22:20   \n",
       "3  2023-11-22   2023-11-28          BER           PAR  15:45 – 17:35   \n",
       "4  2023-11-22   2023-11-28          BER           PAR  20:30 – 22:20   \n",
       "\n",
       "                                              Trajet Type de trajet  \\\n",
       "0  BERAéroport de Berlin Brandebourg-CDGAéroport ...         direct   \n",
       "1  BERAéroport de Berlin Brandebourg-ORYAéroport ...         direct   \n",
       "2  BERAéroport de Berlin Brandebourg-ORYAéroport ...         direct   \n",
       "3  BERAéroport de Berlin Brandebourg-CDGAéroport ...         direct   \n",
       "4  BERAéroport de Berlin Brandebourg-ORYAéroport ...         direct   \n",
       "\n",
       "  Temps de trajet   Prix         Compagnie de vol  Unnamed: 0  \n",
       "0        1h 50min  119 €               Air France         NaN  \n",
       "1        1h 50min  123 €           easyJet Europe         NaN  \n",
       "2        1h 50min  123 €  easyJet Europe, easyJet         NaN  \n",
       "3        1h 50min  128 €               Air France         NaN  \n",
       "4        1h 50min  134 €  easyJet Europe, easyJet         NaN  "
      ]
     },
     "execution_count": 1,
     "metadata": {},
     "output_type": "execute_result"
    }
   ],
   "source": [
    "import os\n",
    "import pandas as pd\n",
    "import pyarrow.parquet as pq\n",
    "# à changer lee directory\n",
    "parquet_directory = R\"C:\\Users\\yskon\\Desktop\\Cheap\\Cheap_Advisor\\Scrap_Training\\Scraping\\Travel_Scrapping\"\n",
    "parquet_files = [file for file in os.listdir(parquet_directory) if file.endswith('.parquet')]\n",
    "\n",
    "\n",
    "dataframes = []\n",
    "\n",
    "for parquet_file in parquet_files:\n",
    "    parquet_path = os.path.join(parquet_directory, parquet_file)\n",
    "    \n",
    "  \n",
    "    table = pq.read_table(parquet_path)\n",
    "    df = table.to_pandas()\n",
    "    \n",
    "    \n",
    "    dataframes.append(df)\n",
    "    \n",
    "dataframe = pd.concat(dataframes, ignore_index=True)   \n",
    "\n",
    "dataframe.head()\n"
   ]
  },
  {
   "cell_type": "code",
   "execution_count": null,
   "id": "dbd89a0d-74fe-4ce4-b84e-e4c1f4f3dd3c",
   "metadata": {
    "tags": []
   },
   "outputs": [],
   "source": [
    "dataframe.columns"
   ]
  },
  {
   "cell_type": "code",
   "execution_count": null,
   "id": "620a5370-2ba8-428d-9a86-77baad0ac156",
   "metadata": {
    "tags": []
   },
   "outputs": [],
   "source": [
    "print(dataframe['Unnamed: 0'].head(10))\n"
   ]
  },
  {
   "cell_type": "code",
   "execution_count": 2,
   "id": "531fc796-146e-4b06-8461-0f01e5df9bb9",
   "metadata": {
    "tags": []
   },
   "outputs": [],
   "source": [
    "dataframe = dataframe.drop(\"Unnamed: 0\", axis=1)"
   ]
  },
  {
   "cell_type": "code",
   "execution_count": 7,
   "id": "10a66340-236e-4be2-8a14-f53bd58cbe98",
   "metadata": {
    "tags": []
   },
   "outputs": [
    {
     "data": {
      "text/plain": [
       "Index(['Date_Départ', 'Date_arrivée', 'VILLE_DEPART', 'VILLE_ARRIVEE',\n",
       "       'Horaires', 'Trajet', 'Type de trajet', 'Temps de trajet', 'Prix',\n",
       "       'Compagnie de vol'],\n",
       "      dtype='object')"
      ]
     },
     "execution_count": 7,
     "metadata": {},
     "output_type": "execute_result"
    }
   ],
   "source": [
    "dataframe.columns"
   ]
  },
  {
   "cell_type": "code",
   "execution_count": null,
   "id": "d5e1d34d-0f91-4f49-b741-553630663032",
   "metadata": {
    "tags": []
   },
   "outputs": [],
   "source": [
    "print(dataframe.dtypes)"
   ]
  },
  {
   "cell_type": "code",
   "execution_count": 3,
   "id": "f7c4de74-9323-4214-a143-991282ee342b",
   "metadata": {
    "tags": []
   },
   "outputs": [
    {
     "name": "stdout",
     "output_type": "stream",
     "text": [
      "  Date_Départ Date_arrivée VILLE_DEPART VILLE_ARRIVEE  \\\n",
      "0  2023-11-22   2023-11-28          BER           PAR   \n",
      "1  2023-11-22   2023-11-28          BER           PAR   \n",
      "2  2023-11-22   2023-11-28          BER           PAR   \n",
      "3  2023-11-22   2023-11-28          BER           PAR   \n",
      "4  2023-11-22   2023-11-28          BER           PAR   \n",
      "\n",
      "                                              Trajet Type de trajet  \\\n",
      "0  BERAéroport de Berlin Brandebourg-CDGAéroport ...         direct   \n",
      "1  BERAéroport de Berlin Brandebourg-ORYAéroport ...         direct   \n",
      "2  BERAéroport de Berlin Brandebourg-ORYAéroport ...         direct   \n",
      "3  BERAéroport de Berlin Brandebourg-CDGAéroport ...         direct   \n",
      "4  BERAéroport de Berlin Brandebourg-ORYAéroport ...         direct   \n",
      "\n",
      "  Temps de trajet   Prix         Compagnie de vol Heure_Départ Heure_Arrivée  \n",
      "0        1h 50min  119 €               Air France          NaT           NaT  \n",
      "1        1h 50min  123 €           easyJet Europe          NaT           NaT  \n",
      "2        1h 50min  123 €  easyJet Europe, easyJet          NaT           NaT  \n",
      "3        1h 50min  128 €               Air France          NaT           NaT  \n",
      "4        1h 50min  134 €  easyJet Europe, easyJet          NaT           NaT  \n"
     ]
    }
   ],
   "source": [
    "# Créer deux colonnes temporaires pour 'Heure_Départ' et 'Heure_Arrivée'\n",
    "temp = dataframe['Horaires'].str.split(' - ', expand=True)\n",
    "\n",
    "# Assurez-vous que les colonnes temp ne contiennent que des valeurs valides\n",
    "if temp.shape[1] == 2:\n",
    "    dataframe['Heure_Départ'] = temp[0]\n",
    "    dataframe['Heure_Arrivée'] = temp[1]\n",
    "else:\n",
    "    # Si les colonnes 'temp' ne sont pas divisées correctement, vous pouvez les initialiser avec des valeurs vides\n",
    "    dataframe['Heure_Départ'] = ''\n",
    "    dataframe['Heure_Arrivée'] = ''\n",
    "\n",
    "# Convertir les colonnes 'Heure_Départ' et 'Heure_Arrivée' en objets datetime avec le format spécifié\n",
    "dataframe['Heure_Départ'] = pd.to_datetime(dataframe['Heure_Départ'], format='%H:%M', errors='coerce')\n",
    "dataframe['Heure_Arrivée'] = pd.to_datetime(dataframe['Heure_Arrivée'], format='%H:%M', errors='coerce')\n",
    "\n",
    "# Supprimer la colonne 'Horaires' si nécessaire\n",
    "dataframe = dataframe.drop(columns=['Horaires'])\n",
    "\n",
    "# Afficher les premières lignes du dataframe pour vérifier les résultats\n",
    "print(dataframe.head())\n"
   ]
  },
  {
   "cell_type": "code",
   "execution_count": 4,
   "id": "52ecd502-f48f-4fef-b470-e7ef44d82249",
   "metadata": {
    "tags": []
   },
   "outputs": [
    {
     "data": {
      "text/plain": [
       "0          119 €\n",
       "1          123 €\n",
       "2          123 €\n",
       "3          128 €\n",
       "4          134 €\n",
       "           ...  \n",
       "2129104    133 €\n",
       "2129105    134 €\n",
       "2129106    137 €\n",
       "2129107    137 €\n",
       "2129108    137 €\n",
       "Name: Prix, Length: 2129109, dtype: object"
      ]
     },
     "execution_count": 4,
     "metadata": {},
     "output_type": "execute_result"
    }
   ],
   "source": [
    "dataframe['Prix']"
   ]
  },
  {
   "cell_type": "code",
   "execution_count": 5,
   "id": "ebeb4a3f-580f-4b65-b092-6483c109fa31",
   "metadata": {
    "tags": []
   },
   "outputs": [
    {
     "data": {
      "text/plain": [
       "Index(['Date_Départ', 'Date_arrivée', 'VILLE_DEPART', 'VILLE_ARRIVEE',\n",
       "       'Trajet', 'Type de trajet', 'Temps de trajet', 'Prix',\n",
       "       'Compagnie de vol', 'Heure_Départ', 'Heure_Arrivée'],\n",
       "      dtype='object')"
      ]
     },
     "execution_count": 5,
     "metadata": {},
     "output_type": "execute_result"
    }
   ],
   "source": [
    "dataframe.columns"
   ]
  },
  {
   "cell_type": "code",
   "execution_count": 6,
   "id": "dd36e388-7861-495f-98bd-36a12274337e",
   "metadata": {
    "tags": []
   },
   "outputs": [
    {
     "name": "stdout",
     "output_type": "stream",
     "text": [
      "Date_Départ                 object\n",
      "Date_arrivée                object\n",
      "VILLE_DEPART                object\n",
      "VILLE_ARRIVEE               object\n",
      "Trajet                      object\n",
      "Type de trajet              object\n",
      "Temps de trajet             object\n",
      "Prix                        object\n",
      "Compagnie de vol            object\n",
      "Heure_Départ        datetime64[ns]\n",
      "Heure_Arrivée       datetime64[ns]\n",
      "dtype: object\n"
     ]
    }
   ],
   "source": [
    "print(dataframe.dtypes)"
   ]
  },
  {
   "cell_type": "code",
   "execution_count": 7,
   "id": "fd0098a2-14cc-4677-9e5c-ab29025f1b24",
   "metadata": {
    "tags": []
   },
   "outputs": [
    {
     "name": "stdout",
     "output_type": "stream",
     "text": [
      "        Date_Départ Date_arrivée VILLE_DEPART VILLE_ARRIVEE  \\\n",
      "0        22/11/2023   28/11/2023          BER           PAR   \n",
      "1        22/11/2023   28/11/2023          BER           PAR   \n",
      "2        22/11/2023   28/11/2023          BER           PAR   \n",
      "3        22/11/2023   28/11/2023          BER           PAR   \n",
      "4        22/11/2023   28/11/2023          BER           PAR   \n",
      "...             ...          ...          ...           ...   \n",
      "2129104  22/11/2023   28/11/2023          PAR           OSL   \n",
      "2129105  22/11/2023   28/11/2023          PAR           OSL   \n",
      "2129106  22/11/2023   28/11/2023          PAR           OSL   \n",
      "2129107  22/11/2023   28/11/2023          PAR           OSL   \n",
      "2129108  22/11/2023   28/11/2023          PAR           OSL   \n",
      "\n",
      "                                                    Trajet Type de trajet  \\\n",
      "0        BERAéroport de Berlin Brandebourg-CDGAéroport ...         direct   \n",
      "1        BERAéroport de Berlin Brandebourg-ORYAéroport ...         direct   \n",
      "2        BERAéroport de Berlin Brandebourg-ORYAéroport ...         direct   \n",
      "3        BERAéroport de Berlin Brandebourg-CDGAéroport ...         direct   \n",
      "4        BERAéroport de Berlin Brandebourg-ORYAéroport ...         direct   \n",
      "...                                                    ...            ...   \n",
      "2129104  BVAAéroport de Beauvais-Tillé-TRFAéroport de S...           None   \n",
      "2129105  BVAAéroport de Beauvais-Tillé-TRFAéroport de S...           None   \n",
      "2129106  CDGAéroport Charles-de-Gaulle-OSLAéroport d'Os...         direct   \n",
      "2129107  CDGAéroport Charles-de-Gaulle-OSLAéroport d'Os...         direct   \n",
      "2129108  CDGAéroport Charles-de-Gaulle-OSLAéroport d'Os...         direct   \n",
      "\n",
      "        Temps de trajet   Prix         Compagnie de vol Heure_Départ  \\\n",
      "0              1h 50min  119 €               Air France          NaT   \n",
      "1              1h 50min  123 €           easyJet Europe          NaT   \n",
      "2              1h 50min  123 €  easyJet Europe, easyJet          NaT   \n",
      "3              1h 50min  128 €               Air France          NaT   \n",
      "4              1h 50min  134 €  easyJet Europe, easyJet          NaT   \n",
      "...                 ...    ...                      ...          ...   \n",
      "2129104        4h 50min  133 €     Plusieurs compagnies          NaT   \n",
      "2129105        4h 50min  134 €     Plusieurs compagnies          NaT   \n",
      "2129106        2h 20min  137 €               Air France          NaT   \n",
      "2129107        2h 25min  137 €               Air France          NaT   \n",
      "2129108        2h 20min  137 €               Air France          NaT   \n",
      "\n",
      "        Heure_Arrivée  \n",
      "0                 NaT  \n",
      "1                 NaT  \n",
      "2                 NaT  \n",
      "3                 NaT  \n",
      "4                 NaT  \n",
      "...               ...  \n",
      "2129104           NaT  \n",
      "2129105           NaT  \n",
      "2129106           NaT  \n",
      "2129107           NaT  \n",
      "2129108           NaT  \n",
      "\n",
      "[2123359 rows x 11 columns]\n"
     ]
    }
   ],
   "source": [
    "import pandas as pd\n",
    "\n",
    "\n",
    "dataframe = dataframe[dataframe['Date_Départ'] != \"Date_Départ\"]\n",
    "dataframe = dataframe[dataframe['Date_arrivée'] != \"Date_Départ\"]\n",
    "\n",
    "\n",
    "dataframe['Date_Départ'] = pd.to_datetime(dataframe['Date_Départ'], format='%Y-%m-%d')\n",
    "dataframe['Date_arrivée'] = pd.to_datetime(dataframe['Date_arrivée'], format='%Y-%m-%d')\n",
    "\n",
    "\n",
    "dataframe['Date_Départ'] = dataframe['Date_Départ'].dt.strftime('%d/%m/%Y')\n",
    "dataframe['Date_arrivée'] = dataframe['Date_arrivée'].dt.strftime('%d/%m/%Y')\n",
    "\n",
    "\n",
    "print(dataframe)\n"
   ]
  },
  {
   "cell_type": "code",
   "execution_count": 30,
   "id": "2e00cd12-e35b-4d6d-a7a1-3ea2fb9253ed",
   "metadata": {
    "tags": []
   },
   "outputs": [
    {
     "data": {
      "text/html": [
       "<div>\n",
       "<style scoped>\n",
       "    .dataframe tbody tr th:only-of-type {\n",
       "        vertical-align: middle;\n",
       "    }\n",
       "\n",
       "    .dataframe tbody tr th {\n",
       "        vertical-align: top;\n",
       "    }\n",
       "\n",
       "    .dataframe thead th {\n",
       "        text-align: right;\n",
       "    }\n",
       "</style>\n",
       "<table border=\"1\" class=\"dataframe\">\n",
       "  <thead>\n",
       "    <tr style=\"text-align: right;\">\n",
       "      <th></th>\n",
       "      <th>Date_Départ</th>\n",
       "      <th>Date_arrivée</th>\n",
       "      <th>VILLE_DEPART</th>\n",
       "      <th>VILLE_ARRIVEE</th>\n",
       "      <th>Trajet</th>\n",
       "      <th>Type de trajet</th>\n",
       "      <th>Temps de trajet</th>\n",
       "      <th>Prix</th>\n",
       "      <th>Compagnie de vol</th>\n",
       "      <th>Heure_Départ</th>\n",
       "      <th>Heure_Arrivée</th>\n",
       "    </tr>\n",
       "  </thead>\n",
       "  <tbody>\n",
       "    <tr>\n",
       "      <th>0</th>\n",
       "      <td>22/11/2023</td>\n",
       "      <td>28/11/2023</td>\n",
       "      <td>BER</td>\n",
       "      <td>PAR</td>\n",
       "      <td>BERAéroport de Berlin Brandebourg-CDGAéroport ...</td>\n",
       "      <td>direct</td>\n",
       "      <td>1h 50min</td>\n",
       "      <td>119</td>\n",
       "      <td>Air France</td>\n",
       "      <td>NaT</td>\n",
       "      <td>NaT</td>\n",
       "    </tr>\n",
       "    <tr>\n",
       "      <th>1</th>\n",
       "      <td>22/11/2023</td>\n",
       "      <td>28/11/2023</td>\n",
       "      <td>BER</td>\n",
       "      <td>PAR</td>\n",
       "      <td>BERAéroport de Berlin Brandebourg-ORYAéroport ...</td>\n",
       "      <td>direct</td>\n",
       "      <td>1h 50min</td>\n",
       "      <td>123</td>\n",
       "      <td>easyJet Europe</td>\n",
       "      <td>NaT</td>\n",
       "      <td>NaT</td>\n",
       "    </tr>\n",
       "    <tr>\n",
       "      <th>2</th>\n",
       "      <td>22/11/2023</td>\n",
       "      <td>28/11/2023</td>\n",
       "      <td>BER</td>\n",
       "      <td>PAR</td>\n",
       "      <td>BERAéroport de Berlin Brandebourg-ORYAéroport ...</td>\n",
       "      <td>direct</td>\n",
       "      <td>1h 50min</td>\n",
       "      <td>123</td>\n",
       "      <td>easyJet Europe, easyJet</td>\n",
       "      <td>NaT</td>\n",
       "      <td>NaT</td>\n",
       "    </tr>\n",
       "    <tr>\n",
       "      <th>3</th>\n",
       "      <td>22/11/2023</td>\n",
       "      <td>28/11/2023</td>\n",
       "      <td>BER</td>\n",
       "      <td>PAR</td>\n",
       "      <td>BERAéroport de Berlin Brandebourg-CDGAéroport ...</td>\n",
       "      <td>direct</td>\n",
       "      <td>1h 50min</td>\n",
       "      <td>128</td>\n",
       "      <td>Air France</td>\n",
       "      <td>NaT</td>\n",
       "      <td>NaT</td>\n",
       "    </tr>\n",
       "    <tr>\n",
       "      <th>4</th>\n",
       "      <td>22/11/2023</td>\n",
       "      <td>28/11/2023</td>\n",
       "      <td>BER</td>\n",
       "      <td>PAR</td>\n",
       "      <td>BERAéroport de Berlin Brandebourg-ORYAéroport ...</td>\n",
       "      <td>direct</td>\n",
       "      <td>1h 50min</td>\n",
       "      <td>134</td>\n",
       "      <td>easyJet Europe, easyJet</td>\n",
       "      <td>NaT</td>\n",
       "      <td>NaT</td>\n",
       "    </tr>\n",
       "    <tr>\n",
       "      <th>5</th>\n",
       "      <td>22/11/2023</td>\n",
       "      <td>28/11/2023</td>\n",
       "      <td>BER</td>\n",
       "      <td>PAR</td>\n",
       "      <td>BERAéroport de Berlin Brandebourg-ORYAéroport ...</td>\n",
       "      <td>direct</td>\n",
       "      <td>1h 50min</td>\n",
       "      <td>134</td>\n",
       "      <td>None</td>\n",
       "      <td>NaT</td>\n",
       "      <td>NaT</td>\n",
       "    </tr>\n",
       "    <tr>\n",
       "      <th>6</th>\n",
       "      <td>22/11/2023</td>\n",
       "      <td>28/11/2023</td>\n",
       "      <td>BER</td>\n",
       "      <td>PAR</td>\n",
       "      <td>BERAéroport de Berlin Brandebourg-CDGAéroport ...</td>\n",
       "      <td>direct</td>\n",
       "      <td>1h 50min</td>\n",
       "      <td>133</td>\n",
       "      <td>Air France</td>\n",
       "      <td>NaT</td>\n",
       "      <td>NaT</td>\n",
       "    </tr>\n",
       "    <tr>\n",
       "      <th>7</th>\n",
       "      <td>22/11/2023</td>\n",
       "      <td>28/11/2023</td>\n",
       "      <td>BER</td>\n",
       "      <td>PAR</td>\n",
       "      <td>None</td>\n",
       "      <td>None</td>\n",
       "      <td>None</td>\n",
       "      <td>0</td>\n",
       "      <td>None</td>\n",
       "      <td>NaT</td>\n",
       "      <td>NaT</td>\n",
       "    </tr>\n",
       "    <tr>\n",
       "      <th>8</th>\n",
       "      <td>22/11/2023</td>\n",
       "      <td>28/11/2023</td>\n",
       "      <td>BER</td>\n",
       "      <td>PAR</td>\n",
       "      <td>None</td>\n",
       "      <td>None</td>\n",
       "      <td>None</td>\n",
       "      <td>0</td>\n",
       "      <td>None</td>\n",
       "      <td>NaT</td>\n",
       "      <td>NaT</td>\n",
       "    </tr>\n",
       "    <tr>\n",
       "      <th>9</th>\n",
       "      <td>22/11/2023</td>\n",
       "      <td>28/11/2023</td>\n",
       "      <td>BER</td>\n",
       "      <td>PAR</td>\n",
       "      <td>None</td>\n",
       "      <td>None</td>\n",
       "      <td>None</td>\n",
       "      <td>0</td>\n",
       "      <td>None</td>\n",
       "      <td>NaT</td>\n",
       "      <td>NaT</td>\n",
       "    </tr>\n",
       "  </tbody>\n",
       "</table>\n",
       "</div>"
      ],
      "text/plain": [
       "  Date_Départ Date_arrivée VILLE_DEPART VILLE_ARRIVEE  \\\n",
       "0  22/11/2023   28/11/2023          BER           PAR   \n",
       "1  22/11/2023   28/11/2023          BER           PAR   \n",
       "2  22/11/2023   28/11/2023          BER           PAR   \n",
       "3  22/11/2023   28/11/2023          BER           PAR   \n",
       "4  22/11/2023   28/11/2023          BER           PAR   \n",
       "5  22/11/2023   28/11/2023          BER           PAR   \n",
       "6  22/11/2023   28/11/2023          BER           PAR   \n",
       "7  22/11/2023   28/11/2023          BER           PAR   \n",
       "8  22/11/2023   28/11/2023          BER           PAR   \n",
       "9  22/11/2023   28/11/2023          BER           PAR   \n",
       "\n",
       "                                              Trajet Type de trajet  \\\n",
       "0  BERAéroport de Berlin Brandebourg-CDGAéroport ...         direct   \n",
       "1  BERAéroport de Berlin Brandebourg-ORYAéroport ...         direct   \n",
       "2  BERAéroport de Berlin Brandebourg-ORYAéroport ...         direct   \n",
       "3  BERAéroport de Berlin Brandebourg-CDGAéroport ...         direct   \n",
       "4  BERAéroport de Berlin Brandebourg-ORYAéroport ...         direct   \n",
       "5  BERAéroport de Berlin Brandebourg-ORYAéroport ...         direct   \n",
       "6  BERAéroport de Berlin Brandebourg-CDGAéroport ...         direct   \n",
       "7                                               None           None   \n",
       "8                                               None           None   \n",
       "9                                               None           None   \n",
       "\n",
       "  Temps de trajet  Prix         Compagnie de vol Heure_Départ Heure_Arrivée  \n",
       "0        1h 50min  119                Air France          NaT           NaT  \n",
       "1        1h 50min  123            easyJet Europe          NaT           NaT  \n",
       "2        1h 50min  123   easyJet Europe, easyJet          NaT           NaT  \n",
       "3        1h 50min  128                Air France          NaT           NaT  \n",
       "4        1h 50min  134   easyJet Europe, easyJet          NaT           NaT  \n",
       "5        1h 50min  134                      None          NaT           NaT  \n",
       "6        1h 50min  133                Air France          NaT           NaT  \n",
       "7            None     0                     None          NaT           NaT  \n",
       "8            None     0                     None          NaT           NaT  \n",
       "9            None     0                     None          NaT           NaT  "
      ]
     },
     "execution_count": 30,
     "metadata": {},
     "output_type": "execute_result"
    }
   ],
   "source": [
    "dataframe.head(10)"
   ]
  },
  {
   "cell_type": "code",
   "execution_count": 8,
   "id": "8c1f04df-9e9e-4604-8b9a-7fd17ff81f69",
   "metadata": {
    "tags": []
   },
   "outputs": [
    {
     "name": "stdout",
     "output_type": "stream",
     "text": [
      "Date_Départ                 object\n",
      "Date_arrivée                object\n",
      "VILLE_DEPART                object\n",
      "VILLE_ARRIVEE               object\n",
      "Trajet                      object\n",
      "Type de trajet              object\n",
      "Temps de trajet             object\n",
      "Prix                        object\n",
      "Compagnie de vol            object\n",
      "Heure_Départ        datetime64[ns]\n",
      "Heure_Arrivée       datetime64[ns]\n",
      "dtype: object\n"
     ]
    }
   ],
   "source": [
    "print(dataframe.dtypes)"
   ]
  },
  {
   "cell_type": "code",
   "execution_count": 9,
   "id": "9e0c0b47-9748-4e09-a2d5-ff7e9770ca51",
   "metadata": {
    "tags": []
   },
   "outputs": [
    {
     "name": "stderr",
     "output_type": "stream",
     "text": [
      "C:\\Users\\yskon\\AppData\\Local\\Temp\\ipykernel_42456\\3518790853.py:5: UserWarning: Parsing dates in %d/%m/%Y format when dayfirst=False (the default) was specified. Pass `dayfirst=True` or specify a format to silence this warning.\n",
      "  dataframe['Date_Départ'] = pd.to_datetime(dataframe['Date_Départ'])\n",
      "C:\\Users\\yskon\\AppData\\Local\\Temp\\ipykernel_42456\\3518790853.py:6: UserWarning: Parsing dates in %d/%m/%Y format when dayfirst=False (the default) was specified. Pass `dayfirst=True` or specify a format to silence this warning.\n",
      "  dataframe['Date_arrivée'] = pd.to_datetime(dataframe['Date_arrivée'])\n"
     ]
    },
    {
     "name": "stdout",
     "output_type": "stream",
     "text": [
      "        Date_Départ Date_arrivée VILLE_DEPART VILLE_ARRIVEE  \\\n",
      "0        2023-11-22   2023-11-28          BER           PAR   \n",
      "1        2023-11-22   2023-11-28          BER           PAR   \n",
      "2        2023-11-22   2023-11-28          BER           PAR   \n",
      "3        2023-11-22   2023-11-28          BER           PAR   \n",
      "4        2023-11-22   2023-11-28          BER           PAR   \n",
      "...             ...          ...          ...           ...   \n",
      "2129104  2023-11-22   2023-11-28          PAR           OSL   \n",
      "2129105  2023-11-22   2023-11-28          PAR           OSL   \n",
      "2129106  2023-11-22   2023-11-28          PAR           OSL   \n",
      "2129107  2023-11-22   2023-11-28          PAR           OSL   \n",
      "2129108  2023-11-22   2023-11-28          PAR           OSL   \n",
      "\n",
      "                                                    Trajet Type de trajet  \\\n",
      "0        BERAéroport de Berlin Brandebourg-CDGAéroport ...         direct   \n",
      "1        BERAéroport de Berlin Brandebourg-ORYAéroport ...         direct   \n",
      "2        BERAéroport de Berlin Brandebourg-ORYAéroport ...         direct   \n",
      "3        BERAéroport de Berlin Brandebourg-CDGAéroport ...         direct   \n",
      "4        BERAéroport de Berlin Brandebourg-ORYAéroport ...         direct   \n",
      "...                                                    ...            ...   \n",
      "2129104  BVAAéroport de Beauvais-Tillé-TRFAéroport de S...           None   \n",
      "2129105  BVAAéroport de Beauvais-Tillé-TRFAéroport de S...           None   \n",
      "2129106  CDGAéroport Charles-de-Gaulle-OSLAéroport d'Os...         direct   \n",
      "2129107  CDGAéroport Charles-de-Gaulle-OSLAéroport d'Os...         direct   \n",
      "2129108  CDGAéroport Charles-de-Gaulle-OSLAéroport d'Os...         direct   \n",
      "\n",
      "        Temps de trajet   Prix         Compagnie de vol Heure_Départ  \\\n",
      "0              1h 50min  119 €               Air France          NaT   \n",
      "1              1h 50min  123 €           easyJet Europe          NaT   \n",
      "2              1h 50min  123 €  easyJet Europe, easyJet          NaT   \n",
      "3              1h 50min  128 €               Air France          NaT   \n",
      "4              1h 50min  134 €  easyJet Europe, easyJet          NaT   \n",
      "...                 ...    ...                      ...          ...   \n",
      "2129104        4h 50min  133 €     Plusieurs compagnies          NaT   \n",
      "2129105        4h 50min  134 €     Plusieurs compagnies          NaT   \n",
      "2129106        2h 20min  137 €               Air France          NaT   \n",
      "2129107        2h 25min  137 €               Air France          NaT   \n",
      "2129108        2h 20min  137 €               Air France          NaT   \n",
      "\n",
      "        Heure_Arrivée  \n",
      "0                 NaT  \n",
      "1                 NaT  \n",
      "2                 NaT  \n",
      "3                 NaT  \n",
      "4                 NaT  \n",
      "...               ...  \n",
      "2129104           NaT  \n",
      "2129105           NaT  \n",
      "2129106           NaT  \n",
      "2129107           NaT  \n",
      "2129108           NaT  \n",
      "\n",
      "[2123359 rows x 11 columns]\n"
     ]
    }
   ],
   "source": [
    "import pandas as pd\n",
    "\n",
    "# Supposons que vous ayez un DataFrame appelé dataframe avec les colonnes que vous avez mentionnées\n",
    "# Convertir les colonnes de date en datetime\n",
    "dataframe['Date_Départ'] = pd.to_datetime(dataframe['Date_Départ'])\n",
    "dataframe['Date_arrivée'] = pd.to_datetime(dataframe['Date_arrivée'])\n",
    "\n",
    "# Convertir les autres colonnes en string\n",
    "cols_to_convert_to_string = ['VILLE_DEPART', 'VILLE_ARRIVEE', 'Trajet', 'Type de trajet', 'Temps de trajet', 'Prix', 'Compagnie de vol']\n",
    "dataframe[cols_to_convert_to_string] = dataframe[cols_to_convert_to_string].astype(str)\n",
    "\n",
    "# Afficher le DataFrame mis à jour\n",
    "print(dataframe)\n"
   ]
  },
  {
   "cell_type": "code",
   "execution_count": null,
   "id": "745cd40e-af95-4d3b-9baf-00cf01880681",
   "metadata": {},
   "outputs": [],
   "source": [
    "print(dataframe.dtypes)"
   ]
  }
 ],
 "metadata": {
  "kernelspec": {
   "display_name": "Python 3 (ipykernel)",
   "language": "python",
   "name": "python3"
  },
  "language_info": {
   "codemirror_mode": {
    "name": "ipython",
    "version": 3
   },
   "file_extension": ".py",
   "mimetype": "text/x-python",
   "name": "python",
   "nbconvert_exporter": "python",
   "pygments_lexer": "ipython3",
   "version": "3.11.5"
  }
 },
 "nbformat": 4,
 "nbformat_minor": 5
}
