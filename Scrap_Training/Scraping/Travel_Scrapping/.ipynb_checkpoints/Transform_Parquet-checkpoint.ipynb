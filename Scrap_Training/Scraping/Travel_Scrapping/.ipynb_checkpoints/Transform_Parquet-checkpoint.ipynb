{
 "cells": [
  {
   "cell_type": "code",
   "execution_count": 1,
   "id": "43889cdb-af62-47b0-b445-f678dd25bf0c",
   "metadata": {
    "tags": []
   },
   "outputs": [
    {
     "name": "stdout",
     "output_type": "stream",
     "text": [
      "Requirement already satisfied: pandas in c:\\users\\yskon\\anaconda3.2\\lib\\site-packages (2.0.3)\n",
      "Requirement already satisfied: pyarrow in c:\\users\\yskon\\anaconda3.2\\lib\\site-packages (11.0.0)\n",
      "Requirement already satisfied: python-dateutil>=2.8.2 in c:\\users\\yskon\\anaconda3.2\\lib\\site-packages (from pandas) (2.8.2)\n",
      "Requirement already satisfied: pytz>=2020.1 in c:\\users\\yskon\\anaconda3.2\\lib\\site-packages (from pandas) (2023.3.post1)\n",
      "Requirement already satisfied: tzdata>=2022.1 in c:\\users\\yskon\\anaconda3.2\\lib\\site-packages (from pandas) (2023.3)\n",
      "Requirement already satisfied: numpy>=1.21.0 in c:\\users\\yskon\\anaconda3.2\\lib\\site-packages (from pandas) (1.24.3)\n",
      "Requirement already satisfied: six>=1.5 in c:\\users\\yskon\\anaconda3.2\\lib\\site-packages (from python-dateutil>=2.8.2->pandas) (1.16.0)\n"
     ]
    }
   ],
   "source": [
    "!pip install pandas pyarrow\n"
   ]
  },
  {
   "cell_type": "code",
   "execution_count": 2,
   "id": "db15cbe6-0769-453a-aa2b-4228a39e62c7",
   "metadata": {
    "tags": []
   },
   "outputs": [],
   "source": [
    "import os\n",
    "import pandas as pd\n",
    "import pyarrow as pa\n",
    "import pyarrow.parquet as pq\n"
   ]
  },
  {
   "cell_type": "markdown",
   "id": "7a61ab95-b2b9-4529-8f4a-4e9e6569b851",
   "metadata": {},
   "source": [
    "## Transform : CSV to PARQUET"
   ]
  },
  {
   "cell_type": "markdown",
   "id": "fa7fafed-3476-4bd9-baf9-a06f6d3e1292",
   "metadata": {
    "tags": []
   },
   "source": [
    "csv_directory = R\"C:\\Users\\yskon\\Desktop\\Cheap\\Cheap_Advisor\\Scraping\\Travel_Scrapping\"\n",
    "\n",
    "csv_files = [file for file in os.listdir(csv_directory) if file.endswith('.csv')]\n",
    "\n",
    "for csv_file in csv_files:\n",
    "    \n",
    "    csv_path = os.path.join(csv_directory, csv_file)\n",
    "    df = pd.read_csv(csv_path, encoding='utf-8')\n",
    "\n",
    "   \n",
    "    parquet_file = os.path.splitext(csv_file)[0] + '.parquet'\n",
    "    parquet_path = os.path.join(csv_directory, parquet_file)\n",
    "\n",
    "    \n",
    "    table = pa.Table.from_pandas(df)\n",
    "\n",
    "    \n",
    "    with open(parquet_path, 'wb') as f:\n",
    "        pq.write_table(table, f)\n",
    "\n"
   ]
  },
  {
   "cell_type": "markdown",
   "id": "720f66b4-ffcb-4529-a803-6f0493adec3e",
   "metadata": {},
   "source": [
    "## CSV DELETE"
   ]
  },
  {
   "cell_type": "markdown",
   "id": "d4e7ffc3-5f1f-4e36-91ba-b5d656bffa9b",
   "metadata": {
    "tags": []
   },
   "source": [
    "import os\n",
    "\n",
    "csv_directory = R\"C:\\Users\\yskon\\Desktop\\Cheap\\Cheap_Advisor\\Scrap_Training\\Scraping\\Travel_Scrapping\"\n",
    "csv_files = [file for file in os.listdir(csv_directory) if file.endswith('.csv')]\n",
    "\n",
    "for csv_file in csv_files:\n",
    "    csv_path = os.path.join(csv_directory, csv_file)\n",
    "    os.remove(csv_path)\n"
   ]
  },
  {
   "cell_type": "markdown",
   "id": "0a4750f6-c842-4665-aeb3-b03a965620d3",
   "metadata": {},
   "source": [
    "### Lecture des parquets"
   ]
  },
  {
   "cell_type": "code",
   "execution_count": 3,
   "id": "afe52da9-0688-4946-bdd9-7ed8b8047400",
   "metadata": {
    "tags": []
   },
   "outputs": [
    {
     "data": {
      "text/html": [
       "<div>\n",
       "<style scoped>\n",
       "    .dataframe tbody tr th:only-of-type {\n",
       "        vertical-align: middle;\n",
       "    }\n",
       "\n",
       "    .dataframe tbody tr th {\n",
       "        vertical-align: top;\n",
       "    }\n",
       "\n",
       "    .dataframe thead th {\n",
       "        text-align: right;\n",
       "    }\n",
       "</style>\n",
       "<table border=\"1\" class=\"dataframe\">\n",
       "  <thead>\n",
       "    <tr style=\"text-align: right;\">\n",
       "      <th></th>\n",
       "      <th>Date_Départ</th>\n",
       "      <th>Date_arrivée</th>\n",
       "      <th>VILLE_DEPART</th>\n",
       "      <th>VILLE_ARRIVEE</th>\n",
       "      <th>Horaires</th>\n",
       "      <th>Trajet</th>\n",
       "      <th>Type de trajet</th>\n",
       "      <th>Temps de trajet</th>\n",
       "      <th>Prix</th>\n",
       "      <th>Compagnie de vol</th>\n",
       "      <th>Unnamed: 0</th>\n",
       "    </tr>\n",
       "  </thead>\n",
       "  <tbody>\n",
       "    <tr>\n",
       "      <th>0</th>\n",
       "      <td>2023-11-22</td>\n",
       "      <td>2023-11-28</td>\n",
       "      <td>BER</td>\n",
       "      <td>PAR</td>\n",
       "      <td>20:15 – 22:05</td>\n",
       "      <td>BERAéroport de Berlin Brandebourg-CDGAéroport ...</td>\n",
       "      <td>direct</td>\n",
       "      <td>1h 50min</td>\n",
       "      <td>119 €</td>\n",
       "      <td>Air France</td>\n",
       "      <td>NaN</td>\n",
       "    </tr>\n",
       "    <tr>\n",
       "      <th>1</th>\n",
       "      <td>2023-11-22</td>\n",
       "      <td>2023-11-28</td>\n",
       "      <td>BER</td>\n",
       "      <td>PAR</td>\n",
       "      <td>20:30 – 22:20</td>\n",
       "      <td>BERAéroport de Berlin Brandebourg-ORYAéroport ...</td>\n",
       "      <td>direct</td>\n",
       "      <td>1h 50min</td>\n",
       "      <td>123 €</td>\n",
       "      <td>easyJet Europe</td>\n",
       "      <td>NaN</td>\n",
       "    </tr>\n",
       "    <tr>\n",
       "      <th>2</th>\n",
       "      <td>2023-11-22</td>\n",
       "      <td>2023-11-28</td>\n",
       "      <td>BER</td>\n",
       "      <td>PAR</td>\n",
       "      <td>20:30 – 22:20</td>\n",
       "      <td>BERAéroport de Berlin Brandebourg-ORYAéroport ...</td>\n",
       "      <td>direct</td>\n",
       "      <td>1h 50min</td>\n",
       "      <td>123 €</td>\n",
       "      <td>easyJet Europe, easyJet</td>\n",
       "      <td>NaN</td>\n",
       "    </tr>\n",
       "    <tr>\n",
       "      <th>3</th>\n",
       "      <td>2023-11-22</td>\n",
       "      <td>2023-11-28</td>\n",
       "      <td>BER</td>\n",
       "      <td>PAR</td>\n",
       "      <td>15:45 – 17:35</td>\n",
       "      <td>BERAéroport de Berlin Brandebourg-CDGAéroport ...</td>\n",
       "      <td>direct</td>\n",
       "      <td>1h 50min</td>\n",
       "      <td>128 €</td>\n",
       "      <td>Air France</td>\n",
       "      <td>NaN</td>\n",
       "    </tr>\n",
       "    <tr>\n",
       "      <th>4</th>\n",
       "      <td>2023-11-22</td>\n",
       "      <td>2023-11-28</td>\n",
       "      <td>BER</td>\n",
       "      <td>PAR</td>\n",
       "      <td>20:30 – 22:20</td>\n",
       "      <td>BERAéroport de Berlin Brandebourg-ORYAéroport ...</td>\n",
       "      <td>direct</td>\n",
       "      <td>1h 50min</td>\n",
       "      <td>134 €</td>\n",
       "      <td>easyJet Europe, easyJet</td>\n",
       "      <td>NaN</td>\n",
       "    </tr>\n",
       "  </tbody>\n",
       "</table>\n",
       "</div>"
      ],
      "text/plain": [
       "  Date_Départ Date_arrivée VILLE_DEPART VILLE_ARRIVEE       Horaires  \\\n",
       "0  2023-11-22   2023-11-28          BER           PAR  20:15 – 22:05   \n",
       "1  2023-11-22   2023-11-28          BER           PAR  20:30 – 22:20   \n",
       "2  2023-11-22   2023-11-28          BER           PAR  20:30 – 22:20   \n",
       "3  2023-11-22   2023-11-28          BER           PAR  15:45 – 17:35   \n",
       "4  2023-11-22   2023-11-28          BER           PAR  20:30 – 22:20   \n",
       "\n",
       "                                              Trajet Type de trajet  \\\n",
       "0  BERAéroport de Berlin Brandebourg-CDGAéroport ...         direct   \n",
       "1  BERAéroport de Berlin Brandebourg-ORYAéroport ...         direct   \n",
       "2  BERAéroport de Berlin Brandebourg-ORYAéroport ...         direct   \n",
       "3  BERAéroport de Berlin Brandebourg-CDGAéroport ...         direct   \n",
       "4  BERAéroport de Berlin Brandebourg-ORYAéroport ...         direct   \n",
       "\n",
       "  Temps de trajet   Prix         Compagnie de vol  Unnamed: 0  \n",
       "0        1h 50min  119 €               Air France         NaN  \n",
       "1        1h 50min  123 €           easyJet Europe         NaN  \n",
       "2        1h 50min  123 €  easyJet Europe, easyJet         NaN  \n",
       "3        1h 50min  128 €               Air France         NaN  \n",
       "4        1h 50min  134 €  easyJet Europe, easyJet         NaN  "
      ]
     },
     "execution_count": 3,
     "metadata": {},
     "output_type": "execute_result"
    }
   ],
   "source": [
    "import os\n",
    "import pandas as pd\n",
    "import pyarrow.parquet as pq\n",
    "# à changer lee directory\n",
    "parquet_directory = R\"C:\\Users\\yskon\\Desktop\\Cheap\\Cheap_Advisor\\Scrap_Training\\Scraping\\Travel_Scrapping\"\n",
    "parquet_files = [file for file in os.listdir(parquet_directory) if file.endswith('.parquet')]\n",
    "\n",
    "\n",
    "dataframes = []\n",
    "\n",
    "for parquet_file in parquet_files:\n",
    "    parquet_path = os.path.join(parquet_directory, parquet_file)\n",
    "    \n",
    "  \n",
    "    table = pq.read_table(parquet_path)\n",
    "    df = table.to_pandas()\n",
    "    \n",
    "    \n",
    "    dataframes.append(df)\n",
    "    \n",
    "dataframe = pd.concat(dataframes, ignore_index=True)   \n",
    "\n",
    "dataframe.head()\n"
   ]
  },
  {
   "cell_type": "code",
   "execution_count": 4,
   "id": "dbd89a0d-74fe-4ce4-b84e-e4c1f4f3dd3c",
   "metadata": {
    "tags": []
   },
   "outputs": [
    {
     "data": {
      "text/plain": [
       "Index(['Date_Départ', 'Date_arrivée', 'VILLE_DEPART', 'VILLE_ARRIVEE',\n",
       "       'Horaires', 'Trajet', 'Type de trajet', 'Temps de trajet', 'Prix',\n",
       "       'Compagnie de vol', 'Unnamed: 0'],\n",
       "      dtype='object')"
      ]
     },
     "execution_count": 4,
     "metadata": {},
     "output_type": "execute_result"
    }
   ],
   "source": [
    "dataframe.columns"
   ]
  },
  {
   "cell_type": "code",
   "execution_count": 5,
   "id": "531fc796-146e-4b06-8461-0f01e5df9bb9",
   "metadata": {
    "tags": []
   },
   "outputs": [],
   "source": [
    "dataframe = dataframe.drop(\"Unnamed: 0\", axis=1)"
   ]
  },
  {
   "cell_type": "code",
   "execution_count": 6,
   "id": "10a66340-236e-4be2-8a14-f53bd58cbe98",
   "metadata": {
    "tags": []
   },
   "outputs": [
    {
     "data": {
      "text/plain": [
       "Index(['Date_Départ', 'Date_arrivée', 'VILLE_DEPART', 'VILLE_ARRIVEE',\n",
       "       'Horaires', 'Trajet', 'Type de trajet', 'Temps de trajet', 'Prix',\n",
       "       'Compagnie de vol'],\n",
       "      dtype='object')"
      ]
     },
     "execution_count": 6,
     "metadata": {},
     "output_type": "execute_result"
    }
   ],
   "source": [
    "dataframe.columns"
   ]
  },
  {
   "cell_type": "code",
   "execution_count": null,
   "id": "d5e1d34d-0f91-4f49-b741-553630663032",
   "metadata": {
    "tags": []
   },
   "outputs": [],
   "source": []
  },
  {
   "cell_type": "code",
   "execution_count": 7,
   "id": "52ecd502-f48f-4fef-b470-e7ef44d82249",
   "metadata": {
    "tags": []
   },
   "outputs": [
    {
     "data": {
      "text/plain": [
       "0          119 €\n",
       "1          123 €\n",
       "2          123 €\n",
       "3          128 €\n",
       "4          134 €\n",
       "           ...  \n",
       "2129104    133 €\n",
       "2129105    134 €\n",
       "2129106    137 €\n",
       "2129107    137 €\n",
       "2129108    137 €\n",
       "Name: Prix, Length: 2129109, dtype: object"
      ]
     },
     "execution_count": 7,
     "metadata": {},
     "output_type": "execute_result"
    }
   ],
   "source": [
    "dataframe['Prix']"
   ]
  },
  {
   "cell_type": "code",
   "execution_count": 8,
   "id": "ebeb4a3f-580f-4b65-b092-6483c109fa31",
   "metadata": {
    "tags": []
   },
   "outputs": [
    {
     "data": {
      "text/plain": [
       "Index(['Date_Départ', 'Date_arrivée', 'VILLE_DEPART', 'VILLE_ARRIVEE',\n",
       "       'Horaires', 'Trajet', 'Type de trajet', 'Temps de trajet', 'Prix',\n",
       "       'Compagnie de vol'],\n",
       "      dtype='object')"
      ]
     },
     "execution_count": 8,
     "metadata": {},
     "output_type": "execute_result"
    }
   ],
   "source": [
    "dataframe.columns"
   ]
  },
  {
   "cell_type": "code",
   "execution_count": 9,
   "id": "dd36e388-7861-495f-98bd-36a12274337e",
   "metadata": {
    "tags": []
   },
   "outputs": [
    {
     "name": "stdout",
     "output_type": "stream",
     "text": [
      "Date_Départ         object\n",
      "Date_arrivée        object\n",
      "VILLE_DEPART        object\n",
      "VILLE_ARRIVEE       object\n",
      "Horaires            object\n",
      "Trajet              object\n",
      "Type de trajet      object\n",
      "Temps de trajet     object\n",
      "Prix                object\n",
      "Compagnie de vol    object\n",
      "dtype: object\n"
     ]
    }
   ],
   "source": [
    "print(dataframe.dtypes)"
   ]
  },
  {
   "cell_type": "code",
   "execution_count": 10,
   "id": "fd0098a2-14cc-4677-9e5c-ab29025f1b24",
   "metadata": {
    "tags": []
   },
   "outputs": [
    {
     "name": "stdout",
     "output_type": "stream",
     "text": [
      "        Date_Départ Date_arrivée VILLE_DEPART VILLE_ARRIVEE       Horaires  \\\n",
      "0        22/11/2023   28/11/2023          BER           PAR  20:15 – 22:05   \n",
      "1        22/11/2023   28/11/2023          BER           PAR  20:30 – 22:20   \n",
      "2        22/11/2023   28/11/2023          BER           PAR  20:30 – 22:20   \n",
      "3        22/11/2023   28/11/2023          BER           PAR  15:45 – 17:35   \n",
      "4        22/11/2023   28/11/2023          BER           PAR  20:30 – 22:20   \n",
      "...             ...          ...          ...           ...            ...   \n",
      "2129104  22/11/2023   28/11/2023          PAR           OSL  13:45 – 18:35   \n",
      "2129105  22/11/2023   28/11/2023          PAR           OSL  13:45 – 18:35   \n",
      "2129106  22/11/2023   28/11/2023          PAR           OSL  14:05 – 16:25   \n",
      "2129107  22/11/2023   28/11/2023          PAR           OSL  20:50 – 23:15   \n",
      "2129108  22/11/2023   28/11/2023          PAR           OSL  14:05 – 16:25   \n",
      "\n",
      "                                                    Trajet Type de trajet  \\\n",
      "0        BERAéroport de Berlin Brandebourg-CDGAéroport ...         direct   \n",
      "1        BERAéroport de Berlin Brandebourg-ORYAéroport ...         direct   \n",
      "2        BERAéroport de Berlin Brandebourg-ORYAéroport ...         direct   \n",
      "3        BERAéroport de Berlin Brandebourg-CDGAéroport ...         direct   \n",
      "4        BERAéroport de Berlin Brandebourg-ORYAéroport ...         direct   \n",
      "...                                                    ...            ...   \n",
      "2129104  BVAAéroport de Beauvais-Tillé-TRFAéroport de S...           None   \n",
      "2129105  BVAAéroport de Beauvais-Tillé-TRFAéroport de S...           None   \n",
      "2129106  CDGAéroport Charles-de-Gaulle-OSLAéroport d'Os...         direct   \n",
      "2129107  CDGAéroport Charles-de-Gaulle-OSLAéroport d'Os...         direct   \n",
      "2129108  CDGAéroport Charles-de-Gaulle-OSLAéroport d'Os...         direct   \n",
      "\n",
      "        Temps de trajet   Prix         Compagnie de vol  \n",
      "0              1h 50min  119 €               Air France  \n",
      "1              1h 50min  123 €           easyJet Europe  \n",
      "2              1h 50min  123 €  easyJet Europe, easyJet  \n",
      "3              1h 50min  128 €               Air France  \n",
      "4              1h 50min  134 €  easyJet Europe, easyJet  \n",
      "...                 ...    ...                      ...  \n",
      "2129104        4h 50min  133 €     Plusieurs compagnies  \n",
      "2129105        4h 50min  134 €     Plusieurs compagnies  \n",
      "2129106        2h 20min  137 €               Air France  \n",
      "2129107        2h 25min  137 €               Air France  \n",
      "2129108        2h 20min  137 €               Air France  \n",
      "\n",
      "[2123359 rows x 10 columns]\n"
     ]
    }
   ],
   "source": [
    "import pandas as pd\n",
    "\n",
    "\n",
    "dataframe = dataframe[dataframe['Date_Départ'] != \"Date_Départ\"]\n",
    "dataframe = dataframe[dataframe['Date_arrivée'] != \"Date_Départ\"]\n",
    "\n",
    "\n",
    "dataframe['Date_Départ'] = pd.to_datetime(dataframe['Date_Départ'], format='%Y-%m-%d')\n",
    "dataframe['Date_arrivée'] = pd.to_datetime(dataframe['Date_arrivée'], format='%Y-%m-%d')\n",
    "\n",
    "\n",
    "dataframe['Date_Départ'] = dataframe['Date_Départ'].dt.strftime('%d/%m/%Y')\n",
    "dataframe['Date_arrivée'] = dataframe['Date_arrivée'].dt.strftime('%d/%m/%Y')\n",
    "\n",
    "\n",
    "print(dataframe)\n"
   ]
  },
  {
   "cell_type": "code",
   "execution_count": 11,
   "id": "2e00cd12-e35b-4d6d-a7a1-3ea2fb9253ed",
   "metadata": {
    "tags": []
   },
   "outputs": [
    {
     "data": {
      "text/html": [
       "<div>\n",
       "<style scoped>\n",
       "    .dataframe tbody tr th:only-of-type {\n",
       "        vertical-align: middle;\n",
       "    }\n",
       "\n",
       "    .dataframe tbody tr th {\n",
       "        vertical-align: top;\n",
       "    }\n",
       "\n",
       "    .dataframe thead th {\n",
       "        text-align: right;\n",
       "    }\n",
       "</style>\n",
       "<table border=\"1\" class=\"dataframe\">\n",
       "  <thead>\n",
       "    <tr style=\"text-align: right;\">\n",
       "      <th></th>\n",
       "      <th>Date_Départ</th>\n",
       "      <th>Date_arrivée</th>\n",
       "      <th>VILLE_DEPART</th>\n",
       "      <th>VILLE_ARRIVEE</th>\n",
       "      <th>Horaires</th>\n",
       "      <th>Trajet</th>\n",
       "      <th>Type de trajet</th>\n",
       "      <th>Temps de trajet</th>\n",
       "      <th>Prix</th>\n",
       "      <th>Compagnie de vol</th>\n",
       "    </tr>\n",
       "  </thead>\n",
       "  <tbody>\n",
       "    <tr>\n",
       "      <th>0</th>\n",
       "      <td>22/11/2023</td>\n",
       "      <td>28/11/2023</td>\n",
       "      <td>BER</td>\n",
       "      <td>PAR</td>\n",
       "      <td>20:15 – 22:05</td>\n",
       "      <td>BERAéroport de Berlin Brandebourg-CDGAéroport ...</td>\n",
       "      <td>direct</td>\n",
       "      <td>1h 50min</td>\n",
       "      <td>119 €</td>\n",
       "      <td>Air France</td>\n",
       "    </tr>\n",
       "    <tr>\n",
       "      <th>1</th>\n",
       "      <td>22/11/2023</td>\n",
       "      <td>28/11/2023</td>\n",
       "      <td>BER</td>\n",
       "      <td>PAR</td>\n",
       "      <td>20:30 – 22:20</td>\n",
       "      <td>BERAéroport de Berlin Brandebourg-ORYAéroport ...</td>\n",
       "      <td>direct</td>\n",
       "      <td>1h 50min</td>\n",
       "      <td>123 €</td>\n",
       "      <td>easyJet Europe</td>\n",
       "    </tr>\n",
       "    <tr>\n",
       "      <th>2</th>\n",
       "      <td>22/11/2023</td>\n",
       "      <td>28/11/2023</td>\n",
       "      <td>BER</td>\n",
       "      <td>PAR</td>\n",
       "      <td>20:30 – 22:20</td>\n",
       "      <td>BERAéroport de Berlin Brandebourg-ORYAéroport ...</td>\n",
       "      <td>direct</td>\n",
       "      <td>1h 50min</td>\n",
       "      <td>123 €</td>\n",
       "      <td>easyJet Europe, easyJet</td>\n",
       "    </tr>\n",
       "    <tr>\n",
       "      <th>3</th>\n",
       "      <td>22/11/2023</td>\n",
       "      <td>28/11/2023</td>\n",
       "      <td>BER</td>\n",
       "      <td>PAR</td>\n",
       "      <td>15:45 – 17:35</td>\n",
       "      <td>BERAéroport de Berlin Brandebourg-CDGAéroport ...</td>\n",
       "      <td>direct</td>\n",
       "      <td>1h 50min</td>\n",
       "      <td>128 €</td>\n",
       "      <td>Air France</td>\n",
       "    </tr>\n",
       "    <tr>\n",
       "      <th>4</th>\n",
       "      <td>22/11/2023</td>\n",
       "      <td>28/11/2023</td>\n",
       "      <td>BER</td>\n",
       "      <td>PAR</td>\n",
       "      <td>20:30 – 22:20</td>\n",
       "      <td>BERAéroport de Berlin Brandebourg-ORYAéroport ...</td>\n",
       "      <td>direct</td>\n",
       "      <td>1h 50min</td>\n",
       "      <td>134 €</td>\n",
       "      <td>easyJet Europe, easyJet</td>\n",
       "    </tr>\n",
       "    <tr>\n",
       "      <th>5</th>\n",
       "      <td>22/11/2023</td>\n",
       "      <td>28/11/2023</td>\n",
       "      <td>BER</td>\n",
       "      <td>PAR</td>\n",
       "      <td>20:30 – 22:20</td>\n",
       "      <td>BERAéroport de Berlin Brandebourg-ORYAéroport ...</td>\n",
       "      <td>direct</td>\n",
       "      <td>1h 50min</td>\n",
       "      <td>134 €</td>\n",
       "      <td>None</td>\n",
       "    </tr>\n",
       "    <tr>\n",
       "      <th>6</th>\n",
       "      <td>22/11/2023</td>\n",
       "      <td>28/11/2023</td>\n",
       "      <td>BER</td>\n",
       "      <td>PAR</td>\n",
       "      <td>18:20 – 20:10</td>\n",
       "      <td>BERAéroport de Berlin Brandebourg-CDGAéroport ...</td>\n",
       "      <td>direct</td>\n",
       "      <td>1h 50min</td>\n",
       "      <td>133 €</td>\n",
       "      <td>Air France</td>\n",
       "    </tr>\n",
       "    <tr>\n",
       "      <th>7</th>\n",
       "      <td>22/11/2023</td>\n",
       "      <td>28/11/2023</td>\n",
       "      <td>BER</td>\n",
       "      <td>PAR</td>\n",
       "      <td>None</td>\n",
       "      <td>None</td>\n",
       "      <td>None</td>\n",
       "      <td>None</td>\n",
       "      <td>None</td>\n",
       "      <td>None</td>\n",
       "    </tr>\n",
       "    <tr>\n",
       "      <th>8</th>\n",
       "      <td>22/11/2023</td>\n",
       "      <td>28/11/2023</td>\n",
       "      <td>BER</td>\n",
       "      <td>PAR</td>\n",
       "      <td>None</td>\n",
       "      <td>None</td>\n",
       "      <td>None</td>\n",
       "      <td>None</td>\n",
       "      <td>None</td>\n",
       "      <td>None</td>\n",
       "    </tr>\n",
       "    <tr>\n",
       "      <th>9</th>\n",
       "      <td>22/11/2023</td>\n",
       "      <td>28/11/2023</td>\n",
       "      <td>BER</td>\n",
       "      <td>PAR</td>\n",
       "      <td>None</td>\n",
       "      <td>None</td>\n",
       "      <td>None</td>\n",
       "      <td>None</td>\n",
       "      <td>None</td>\n",
       "      <td>None</td>\n",
       "    </tr>\n",
       "  </tbody>\n",
       "</table>\n",
       "</div>"
      ],
      "text/plain": [
       "  Date_Départ Date_arrivée VILLE_DEPART VILLE_ARRIVEE       Horaires  \\\n",
       "0  22/11/2023   28/11/2023          BER           PAR  20:15 – 22:05   \n",
       "1  22/11/2023   28/11/2023          BER           PAR  20:30 – 22:20   \n",
       "2  22/11/2023   28/11/2023          BER           PAR  20:30 – 22:20   \n",
       "3  22/11/2023   28/11/2023          BER           PAR  15:45 – 17:35   \n",
       "4  22/11/2023   28/11/2023          BER           PAR  20:30 – 22:20   \n",
       "5  22/11/2023   28/11/2023          BER           PAR  20:30 – 22:20   \n",
       "6  22/11/2023   28/11/2023          BER           PAR  18:20 – 20:10   \n",
       "7  22/11/2023   28/11/2023          BER           PAR           None   \n",
       "8  22/11/2023   28/11/2023          BER           PAR           None   \n",
       "9  22/11/2023   28/11/2023          BER           PAR           None   \n",
       "\n",
       "                                              Trajet Type de trajet  \\\n",
       "0  BERAéroport de Berlin Brandebourg-CDGAéroport ...         direct   \n",
       "1  BERAéroport de Berlin Brandebourg-ORYAéroport ...         direct   \n",
       "2  BERAéroport de Berlin Brandebourg-ORYAéroport ...         direct   \n",
       "3  BERAéroport de Berlin Brandebourg-CDGAéroport ...         direct   \n",
       "4  BERAéroport de Berlin Brandebourg-ORYAéroport ...         direct   \n",
       "5  BERAéroport de Berlin Brandebourg-ORYAéroport ...         direct   \n",
       "6  BERAéroport de Berlin Brandebourg-CDGAéroport ...         direct   \n",
       "7                                               None           None   \n",
       "8                                               None           None   \n",
       "9                                               None           None   \n",
       "\n",
       "  Temps de trajet   Prix         Compagnie de vol  \n",
       "0        1h 50min  119 €               Air France  \n",
       "1        1h 50min  123 €           easyJet Europe  \n",
       "2        1h 50min  123 €  easyJet Europe, easyJet  \n",
       "3        1h 50min  128 €               Air France  \n",
       "4        1h 50min  134 €  easyJet Europe, easyJet  \n",
       "5        1h 50min  134 €                     None  \n",
       "6        1h 50min  133 €               Air France  \n",
       "7            None   None                     None  \n",
       "8            None   None                     None  \n",
       "9            None   None                     None  "
      ]
     },
     "execution_count": 11,
     "metadata": {},
     "output_type": "execute_result"
    }
   ],
   "source": [
    "dataframe.head(10)"
   ]
  },
  {
   "cell_type": "code",
   "execution_count": 12,
   "id": "8c1f04df-9e9e-4604-8b9a-7fd17ff81f69",
   "metadata": {
    "tags": []
   },
   "outputs": [
    {
     "name": "stdout",
     "output_type": "stream",
     "text": [
      "Date_Départ         object\n",
      "Date_arrivée        object\n",
      "VILLE_DEPART        object\n",
      "VILLE_ARRIVEE       object\n",
      "Horaires            object\n",
      "Trajet              object\n",
      "Type de trajet      object\n",
      "Temps de trajet     object\n",
      "Prix                object\n",
      "Compagnie de vol    object\n",
      "dtype: object\n"
     ]
    }
   ],
   "source": [
    "print(dataframe.dtypes)"
   ]
  },
  {
   "cell_type": "code",
   "execution_count": 13,
   "id": "9e0c0b47-9748-4e09-a2d5-ff7e9770ca51",
   "metadata": {
    "tags": []
   },
   "outputs": [
    {
     "name": "stderr",
     "output_type": "stream",
     "text": [
      "C:\\Users\\yskon\\AppData\\Local\\Temp\\ipykernel_2224\\4294455197.py:5: UserWarning: Parsing dates in %d/%m/%Y format when dayfirst=False (the default) was specified. Pass `dayfirst=True` or specify a format to silence this warning.\n",
      "  dataframe['Date_Départ'] = pd.to_datetime(dataframe['Date_Départ'])\n",
      "C:\\Users\\yskon\\AppData\\Local\\Temp\\ipykernel_2224\\4294455197.py:6: UserWarning: Parsing dates in %d/%m/%Y format when dayfirst=False (the default) was specified. Pass `dayfirst=True` or specify a format to silence this warning.\n",
      "  dataframe['Date_arrivée'] = pd.to_datetime(dataframe['Date_arrivée'])\n"
     ]
    },
    {
     "name": "stdout",
     "output_type": "stream",
     "text": [
      "        Date_Départ Date_arrivée VILLE_DEPART VILLE_ARRIVEE       Horaires  \\\n",
      "0        2023-11-22   2023-11-28          BER           PAR  20:15 – 22:05   \n",
      "1        2023-11-22   2023-11-28          BER           PAR  20:30 – 22:20   \n",
      "2        2023-11-22   2023-11-28          BER           PAR  20:30 – 22:20   \n",
      "3        2023-11-22   2023-11-28          BER           PAR  15:45 – 17:35   \n",
      "4        2023-11-22   2023-11-28          BER           PAR  20:30 – 22:20   \n",
      "...             ...          ...          ...           ...            ...   \n",
      "2129104  2023-11-22   2023-11-28          PAR           OSL  13:45 – 18:35   \n",
      "2129105  2023-11-22   2023-11-28          PAR           OSL  13:45 – 18:35   \n",
      "2129106  2023-11-22   2023-11-28          PAR           OSL  14:05 – 16:25   \n",
      "2129107  2023-11-22   2023-11-28          PAR           OSL  20:50 – 23:15   \n",
      "2129108  2023-11-22   2023-11-28          PAR           OSL  14:05 – 16:25   \n",
      "\n",
      "                                                    Trajet Type de trajet  \\\n",
      "0        BERAéroport de Berlin Brandebourg-CDGAéroport ...         direct   \n",
      "1        BERAéroport de Berlin Brandebourg-ORYAéroport ...         direct   \n",
      "2        BERAéroport de Berlin Brandebourg-ORYAéroport ...         direct   \n",
      "3        BERAéroport de Berlin Brandebourg-CDGAéroport ...         direct   \n",
      "4        BERAéroport de Berlin Brandebourg-ORYAéroport ...         direct   \n",
      "...                                                    ...            ...   \n",
      "2129104  BVAAéroport de Beauvais-Tillé-TRFAéroport de S...           None   \n",
      "2129105  BVAAéroport de Beauvais-Tillé-TRFAéroport de S...           None   \n",
      "2129106  CDGAéroport Charles-de-Gaulle-OSLAéroport d'Os...         direct   \n",
      "2129107  CDGAéroport Charles-de-Gaulle-OSLAéroport d'Os...         direct   \n",
      "2129108  CDGAéroport Charles-de-Gaulle-OSLAéroport d'Os...         direct   \n",
      "\n",
      "        Temps de trajet   Prix         Compagnie de vol  \n",
      "0              1h 50min  119 €               Air France  \n",
      "1              1h 50min  123 €           easyJet Europe  \n",
      "2              1h 50min  123 €  easyJet Europe, easyJet  \n",
      "3              1h 50min  128 €               Air France  \n",
      "4              1h 50min  134 €  easyJet Europe, easyJet  \n",
      "...                 ...    ...                      ...  \n",
      "2129104        4h 50min  133 €     Plusieurs compagnies  \n",
      "2129105        4h 50min  134 €     Plusieurs compagnies  \n",
      "2129106        2h 20min  137 €               Air France  \n",
      "2129107        2h 25min  137 €               Air France  \n",
      "2129108        2h 20min  137 €               Air France  \n",
      "\n",
      "[2123359 rows x 10 columns]\n"
     ]
    }
   ],
   "source": [
    "import pandas as pd\n",
    "\n",
    "# Supposons que vous ayez un DataFrame appelé dataframe avec les colonnes que vous avez mentionnées\n",
    "# Convertir les colonnes de date en datetime\n",
    "dataframe['Date_Départ'] = pd.to_datetime(dataframe['Date_Départ'])\n",
    "dataframe['Date_arrivée'] = pd.to_datetime(dataframe['Date_arrivée'])\n",
    "\n",
    "# Convertir les autres colonnes en string\n",
    "cols_to_convert_to_string = ['VILLE_DEPART', 'VILLE_ARRIVEE', 'Trajet', 'Type de trajet', 'Temps de trajet', 'Prix', 'Compagnie de vol','Horaires']\n",
    "dataframe[cols_to_convert_to_string] = dataframe[cols_to_convert_to_string].astype(str)\n",
    "\n",
    "# Afficher le DataFrame mis à jour\n",
    "print(dataframe)\n"
   ]
  },
  {
   "cell_type": "code",
   "execution_count": 14,
   "id": "745cd40e-af95-4d3b-9baf-00cf01880681",
   "metadata": {
    "tags": []
   },
   "outputs": [
    {
     "name": "stdout",
     "output_type": "stream",
     "text": [
      "Date_Départ         datetime64[ns]\n",
      "Date_arrivée        datetime64[ns]\n",
      "VILLE_DEPART                object\n",
      "VILLE_ARRIVEE               object\n",
      "Horaires                    object\n",
      "Trajet                      object\n",
      "Type de trajet              object\n",
      "Temps de trajet             object\n",
      "Prix                        object\n",
      "Compagnie de vol            object\n",
      "dtype: object\n"
     ]
    }
   ],
   "source": [
    "print(dataframe.dtypes)"
   ]
  },
  {
   "cell_type": "code",
   "execution_count": 15,
   "id": "cf16749b-db2b-42cc-b3ae-4e4b5de6fdca",
   "metadata": {
    "tags": []
   },
   "outputs": [],
   "source": [
    "dataframe = dataframe.drop_duplicates()"
   ]
  },
  {
   "cell_type": "code",
   "execution_count": 16,
   "id": "8c77dbe9-ace5-43d2-9be8-1a06761f9b54",
   "metadata": {
    "tags": []
   },
   "outputs": [
    {
     "name": "stdout",
     "output_type": "stream",
     "text": [
      "        Date_Départ Date_arrivée VILLE_DEPART VILLE_ARRIVEE       Horaires  \\\n",
      "0        2023-11-22   2023-11-28          BER           PAR  20:15 – 22:05   \n",
      "1        2023-11-22   2023-11-28          BER           PAR  20:30 – 22:20   \n",
      "2        2023-11-22   2023-11-28          BER           PAR  20:30 – 22:20   \n",
      "3        2023-11-22   2023-11-28          BER           PAR  15:45 – 17:35   \n",
      "4        2023-11-22   2023-11-28          BER           PAR  20:30 – 22:20   \n",
      "...             ...          ...          ...           ...            ...   \n",
      "2116796  2023-11-22   2023-11-28          PAR           OSL  15:00 – 19:45   \n",
      "2118160  2023-11-22   2023-11-28          PAR           OSL  10:15 – 17:10   \n",
      "2119525  2023-11-22   2023-11-28          PAR           OSL  08:40 – 17:10   \n",
      "2123626  2023-11-22   2023-11-28          PAR           OSL  13:45 – 18:35   \n",
      "2124995  2023-11-22   2023-11-28          PAR           OSL  13:45 – 18:35   \n",
      "\n",
      "                                                    Trajet Type de trajet  \\\n",
      "0        BERAéroport de Berlin Brandebourg-CDGAéroport ...         direct   \n",
      "1        BERAéroport de Berlin Brandebourg-ORYAéroport ...         direct   \n",
      "2        BERAéroport de Berlin Brandebourg-ORYAéroport ...         direct   \n",
      "3        BERAéroport de Berlin Brandebourg-CDGAéroport ...         direct   \n",
      "4        BERAéroport de Berlin Brandebourg-ORYAéroport ...         direct   \n",
      "...                                                    ...            ...   \n",
      "2116796  CDGAéroport Charles-de-Gaulle-OSLAéroport d'Os...       1 escale   \n",
      "2118160  CDGAéroport Charles-de-Gaulle-OSLAéroport d'Os...       1 escale   \n",
      "2119525  CDGAéroport Charles-de-Gaulle-OSLAéroport d'Os...       1 escale   \n",
      "2123626  BVAAéroport de Beauvais-Tillé-TRFAéroport de S...           None   \n",
      "2124995  BVAAéroport de Beauvais-Tillé-TRFAéroport de S...           None   \n",
      "\n",
      "        Temps de trajet   Prix          Compagnie de vol  \n",
      "0              1h 50min  119 €                Air France  \n",
      "1              1h 50min  123 €            easyJet Europe  \n",
      "2              1h 50min  123 €   easyJet Europe, easyJet  \n",
      "3              1h 50min  128 €                Air France  \n",
      "4              1h 50min  134 €   easyJet Europe, easyJet  \n",
      "...                 ...    ...                       ...  \n",
      "2116796        4h 45min  131 €                     SWISS  \n",
      "2118160        6h 55min  131 €  Brussels Airlines, SWISS  \n",
      "2119525        8h 30min  131 €  Brussels Airlines, SWISS  \n",
      "2123626        4h 50min  133 €      Plusieurs compagnies  \n",
      "2124995        4h 50min  134 €      Plusieurs compagnies  \n",
      "\n",
      "[3645 rows x 10 columns]\n"
     ]
    }
   ],
   "source": [
    "print(dataframe)"
   ]
  },
  {
   "cell_type": "code",
   "execution_count": 17,
   "id": "ff24d7ec-bc0f-479f-997c-871a66023f16",
   "metadata": {
    "tags": []
   },
   "outputs": [],
   "source": [
    "import pandas as pd\n",
    "import pyarrow as pa\n",
    "\n",
    "\n",
    "table = pa.Table.from_pandas(dataframe)\n",
    "\n",
    "chemin_fichier_parquet = 'VOLS.parquet'\n",
    "\n",
    "pa.parquet.write_table(table, chemin_fichier_parquet)"
   ]
  },
  {
   "cell_type": "code",
   "execution_count": null,
   "id": "25b8122d-838c-4688-b765-301560b973db",
   "metadata": {},
   "outputs": [],
   "source": []
  }
 ],
 "metadata": {
  "kernelspec": {
   "display_name": "Python 3 (ipykernel)",
   "language": "python",
   "name": "python3"
  },
  "language_info": {
   "codemirror_mode": {
    "name": "ipython",
    "version": 3
   },
   "file_extension": ".py",
   "mimetype": "text/x-python",
   "name": "python",
   "nbconvert_exporter": "python",
   "pygments_lexer": "ipython3",
   "version": "3.11.5"
  }
 },
 "nbformat": 4,
 "nbformat_minor": 5
}
