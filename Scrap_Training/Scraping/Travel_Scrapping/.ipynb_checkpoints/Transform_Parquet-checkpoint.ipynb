{
 "cells": [
  {
   "cell_type": "code",
   "execution_count": 1,
   "id": "43889cdb-af62-47b0-b445-f678dd25bf0c",
   "metadata": {
    "tags": []
   },
   "outputs": [
    {
     "name": "stdout",
     "output_type": "stream",
     "text": [
      "Requirement already satisfied: pandas in c:\\users\\skonieczny\\anaconda3\\lib\\site-packages (1.4.4)\n",
      "Requirement already satisfied: pyarrow in c:\\users\\skonieczny\\anaconda3\\lib\\site-packages (10.0.1)\n",
      "Requirement already satisfied: python-dateutil>=2.8.1 in c:\\users\\skonieczny\\anaconda3\\lib\\site-packages (from pandas) (2.8.2)\n",
      "Requirement already satisfied: numpy>=1.18.5 in c:\\users\\skonieczny\\anaconda3\\lib\\site-packages (from pandas) (1.21.5)\n",
      "Requirement already satisfied: pytz>=2020.1 in c:\\users\\skonieczny\\anaconda3\\lib\\site-packages (from pandas) (2022.1)\n",
      "Requirement already satisfied: six>=1.5 in c:\\users\\skonieczny\\anaconda3\\lib\\site-packages (from python-dateutil>=2.8.1->pandas) (1.16.0)\n"
     ]
    }
   ],
   "source": [
    "!pip install pandas pyarrow\n"
   ]
  },
  {
   "cell_type": "code",
   "execution_count": 2,
   "id": "db15cbe6-0769-453a-aa2b-4228a39e62c7",
   "metadata": {
    "tags": []
   },
   "outputs": [],
   "source": [
    "import os\n",
    "import pandas as pd\n",
    "import pyarrow as pa\n",
    "import pyarrow.parquet as pq\n"
   ]
  },
  {
   "cell_type": "markdown",
   "id": "7a61ab95-b2b9-4529-8f4a-4e9e6569b851",
   "metadata": {},
   "source": [
    "## Transform : CSV to PARQUET"
   ]
  },
  {
   "cell_type": "code",
   "execution_count": 19,
   "id": "1f80fc7f-b98b-4e7e-a27d-7aab903fcd04",
   "metadata": {
    "tags": []
   },
   "outputs": [
    {
     "ename": "ValueError",
     "evalue": "Integer column has NA values in column 0",
     "output_type": "error",
     "traceback": [
      "\u001b[1;31m---------------------------------------------------------------------------\u001b[0m",
      "\u001b[1;31mValueError\u001b[0m                                Traceback (most recent call last)",
      "\u001b[1;32m~\\AppData\\Local\\Temp\\ipykernel_20380\\816165579.py\u001b[0m in \u001b[0;36m<module>\u001b[1;34m\u001b[0m\n\u001b[0;32m      6\u001b[0m \u001b[1;33m\u001b[0m\u001b[0m\n\u001b[0;32m      7\u001b[0m     \u001b[0mcsv_path\u001b[0m \u001b[1;33m=\u001b[0m \u001b[0mos\u001b[0m\u001b[1;33m.\u001b[0m\u001b[0mpath\u001b[0m\u001b[1;33m.\u001b[0m\u001b[0mjoin\u001b[0m\u001b[1;33m(\u001b[0m\u001b[0mcsv_directory\u001b[0m\u001b[1;33m,\u001b[0m \u001b[0mcsv_file\u001b[0m\u001b[1;33m)\u001b[0m\u001b[1;33m\u001b[0m\u001b[1;33m\u001b[0m\u001b[0m\n\u001b[1;32m----> 8\u001b[1;33m     \u001b[0mdf\u001b[0m \u001b[1;33m=\u001b[0m \u001b[0mpd\u001b[0m\u001b[1;33m.\u001b[0m\u001b[0mread_csv\u001b[0m\u001b[1;33m(\u001b[0m\u001b[0mcsv_path\u001b[0m\u001b[1;33m,\u001b[0m \u001b[0mencoding\u001b[0m\u001b[1;33m=\u001b[0m\u001b[1;34m'utf-8'\u001b[0m\u001b[1;33m,\u001b[0m \u001b[0mdtype\u001b[0m\u001b[1;33m=\u001b[0m\u001b[1;33m{\u001b[0m\u001b[1;34m'Unnamed: 0'\u001b[0m\u001b[1;33m:\u001b[0m \u001b[0mint\u001b[0m\u001b[1;33m}\u001b[0m\u001b[1;33m)\u001b[0m  \u001b[1;31m# Specify the data type\u001b[0m\u001b[1;33m\u001b[0m\u001b[1;33m\u001b[0m\u001b[0m\n\u001b[0m\u001b[0;32m      9\u001b[0m     \u001b[0mparquet_file\u001b[0m \u001b[1;33m=\u001b[0m \u001b[0mos\u001b[0m\u001b[1;33m.\u001b[0m\u001b[0mpath\u001b[0m\u001b[1;33m.\u001b[0m\u001b[0msplitext\u001b[0m\u001b[1;33m(\u001b[0m\u001b[0mcsv_file\u001b[0m\u001b[1;33m)\u001b[0m\u001b[1;33m[\u001b[0m\u001b[1;36m0\u001b[0m\u001b[1;33m]\u001b[0m \u001b[1;33m+\u001b[0m \u001b[1;34m'.parquet'\u001b[0m\u001b[1;33m\u001b[0m\u001b[1;33m\u001b[0m\u001b[0m\n\u001b[0;32m     10\u001b[0m     \u001b[0mparquet_path\u001b[0m \u001b[1;33m=\u001b[0m \u001b[0mos\u001b[0m\u001b[1;33m.\u001b[0m\u001b[0mpath\u001b[0m\u001b[1;33m.\u001b[0m\u001b[0mjoin\u001b[0m\u001b[1;33m(\u001b[0m\u001b[0mcsv_directory\u001b[0m\u001b[1;33m,\u001b[0m \u001b[0mparquet_file\u001b[0m\u001b[1;33m)\u001b[0m\u001b[1;33m\u001b[0m\u001b[1;33m\u001b[0m\u001b[0m\n",
      "\u001b[1;32m~\\anaconda3\\lib\\site-packages\\pandas\\util\\_decorators.py\u001b[0m in \u001b[0;36mwrapper\u001b[1;34m(*args, **kwargs)\u001b[0m\n\u001b[0;32m    309\u001b[0m                     \u001b[0mstacklevel\u001b[0m\u001b[1;33m=\u001b[0m\u001b[0mstacklevel\u001b[0m\u001b[1;33m,\u001b[0m\u001b[1;33m\u001b[0m\u001b[1;33m\u001b[0m\u001b[0m\n\u001b[0;32m    310\u001b[0m                 )\n\u001b[1;32m--> 311\u001b[1;33m             \u001b[1;32mreturn\u001b[0m \u001b[0mfunc\u001b[0m\u001b[1;33m(\u001b[0m\u001b[1;33m*\u001b[0m\u001b[0margs\u001b[0m\u001b[1;33m,\u001b[0m \u001b[1;33m**\u001b[0m\u001b[0mkwargs\u001b[0m\u001b[1;33m)\u001b[0m\u001b[1;33m\u001b[0m\u001b[1;33m\u001b[0m\u001b[0m\n\u001b[0m\u001b[0;32m    312\u001b[0m \u001b[1;33m\u001b[0m\u001b[0m\n\u001b[0;32m    313\u001b[0m         \u001b[1;32mreturn\u001b[0m \u001b[0mwrapper\u001b[0m\u001b[1;33m\u001b[0m\u001b[1;33m\u001b[0m\u001b[0m\n",
      "\u001b[1;32m~\\anaconda3\\lib\\site-packages\\pandas\\io\\parsers\\readers.py\u001b[0m in \u001b[0;36mread_csv\u001b[1;34m(filepath_or_buffer, sep, delimiter, header, names, index_col, usecols, squeeze, prefix, mangle_dupe_cols, dtype, engine, converters, true_values, false_values, skipinitialspace, skiprows, skipfooter, nrows, na_values, keep_default_na, na_filter, verbose, skip_blank_lines, parse_dates, infer_datetime_format, keep_date_col, date_parser, dayfirst, cache_dates, iterator, chunksize, compression, thousands, decimal, lineterminator, quotechar, quoting, doublequote, escapechar, comment, encoding, encoding_errors, dialect, error_bad_lines, warn_bad_lines, on_bad_lines, delim_whitespace, low_memory, memory_map, float_precision, storage_options)\u001b[0m\n\u001b[0;32m    676\u001b[0m     \u001b[0mkwds\u001b[0m\u001b[1;33m.\u001b[0m\u001b[0mupdate\u001b[0m\u001b[1;33m(\u001b[0m\u001b[0mkwds_defaults\u001b[0m\u001b[1;33m)\u001b[0m\u001b[1;33m\u001b[0m\u001b[1;33m\u001b[0m\u001b[0m\n\u001b[0;32m    677\u001b[0m \u001b[1;33m\u001b[0m\u001b[0m\n\u001b[1;32m--> 678\u001b[1;33m     \u001b[1;32mreturn\u001b[0m \u001b[0m_read\u001b[0m\u001b[1;33m(\u001b[0m\u001b[0mfilepath_or_buffer\u001b[0m\u001b[1;33m,\u001b[0m \u001b[0mkwds\u001b[0m\u001b[1;33m)\u001b[0m\u001b[1;33m\u001b[0m\u001b[1;33m\u001b[0m\u001b[0m\n\u001b[0m\u001b[0;32m    679\u001b[0m \u001b[1;33m\u001b[0m\u001b[0m\n\u001b[0;32m    680\u001b[0m \u001b[1;33m\u001b[0m\u001b[0m\n",
      "\u001b[1;32m~\\anaconda3\\lib\\site-packages\\pandas\\io\\parsers\\readers.py\u001b[0m in \u001b[0;36m_read\u001b[1;34m(filepath_or_buffer, kwds)\u001b[0m\n\u001b[0;32m    579\u001b[0m \u001b[1;33m\u001b[0m\u001b[0m\n\u001b[0;32m    580\u001b[0m     \u001b[1;32mwith\u001b[0m \u001b[0mparser\u001b[0m\u001b[1;33m:\u001b[0m\u001b[1;33m\u001b[0m\u001b[1;33m\u001b[0m\u001b[0m\n\u001b[1;32m--> 581\u001b[1;33m         \u001b[1;32mreturn\u001b[0m \u001b[0mparser\u001b[0m\u001b[1;33m.\u001b[0m\u001b[0mread\u001b[0m\u001b[1;33m(\u001b[0m\u001b[0mnrows\u001b[0m\u001b[1;33m)\u001b[0m\u001b[1;33m\u001b[0m\u001b[1;33m\u001b[0m\u001b[0m\n\u001b[0m\u001b[0;32m    582\u001b[0m \u001b[1;33m\u001b[0m\u001b[0m\n\u001b[0;32m    583\u001b[0m \u001b[1;33m\u001b[0m\u001b[0m\n",
      "\u001b[1;32m~\\anaconda3\\lib\\site-packages\\pandas\\io\\parsers\\readers.py\u001b[0m in \u001b[0;36mread\u001b[1;34m(self, nrows)\u001b[0m\n\u001b[0;32m   1251\u001b[0m             \u001b[0mnrows\u001b[0m \u001b[1;33m=\u001b[0m \u001b[0mvalidate_integer\u001b[0m\u001b[1;33m(\u001b[0m\u001b[1;34m\"nrows\"\u001b[0m\u001b[1;33m,\u001b[0m \u001b[0mnrows\u001b[0m\u001b[1;33m)\u001b[0m\u001b[1;33m\u001b[0m\u001b[1;33m\u001b[0m\u001b[0m\n\u001b[0;32m   1252\u001b[0m             \u001b[1;32mtry\u001b[0m\u001b[1;33m:\u001b[0m\u001b[1;33m\u001b[0m\u001b[1;33m\u001b[0m\u001b[0m\n\u001b[1;32m-> 1253\u001b[1;33m                 \u001b[0mindex\u001b[0m\u001b[1;33m,\u001b[0m \u001b[0mcolumns\u001b[0m\u001b[1;33m,\u001b[0m \u001b[0mcol_dict\u001b[0m \u001b[1;33m=\u001b[0m \u001b[0mself\u001b[0m\u001b[1;33m.\u001b[0m\u001b[0m_engine\u001b[0m\u001b[1;33m.\u001b[0m\u001b[0mread\u001b[0m\u001b[1;33m(\u001b[0m\u001b[0mnrows\u001b[0m\u001b[1;33m)\u001b[0m\u001b[1;33m\u001b[0m\u001b[1;33m\u001b[0m\u001b[0m\n\u001b[0m\u001b[0;32m   1254\u001b[0m             \u001b[1;32mexcept\u001b[0m \u001b[0mException\u001b[0m\u001b[1;33m:\u001b[0m\u001b[1;33m\u001b[0m\u001b[1;33m\u001b[0m\u001b[0m\n\u001b[0;32m   1255\u001b[0m                 \u001b[0mself\u001b[0m\u001b[1;33m.\u001b[0m\u001b[0mclose\u001b[0m\u001b[1;33m(\u001b[0m\u001b[1;33m)\u001b[0m\u001b[1;33m\u001b[0m\u001b[1;33m\u001b[0m\u001b[0m\n",
      "\u001b[1;32m~\\anaconda3\\lib\\site-packages\\pandas\\io\\parsers\\c_parser_wrapper.py\u001b[0m in \u001b[0;36mread\u001b[1;34m(self, nrows)\u001b[0m\n\u001b[0;32m    223\u001b[0m         \u001b[1;32mtry\u001b[0m\u001b[1;33m:\u001b[0m\u001b[1;33m\u001b[0m\u001b[1;33m\u001b[0m\u001b[0m\n\u001b[0;32m    224\u001b[0m             \u001b[1;32mif\u001b[0m \u001b[0mself\u001b[0m\u001b[1;33m.\u001b[0m\u001b[0mlow_memory\u001b[0m\u001b[1;33m:\u001b[0m\u001b[1;33m\u001b[0m\u001b[1;33m\u001b[0m\u001b[0m\n\u001b[1;32m--> 225\u001b[1;33m                 \u001b[0mchunks\u001b[0m \u001b[1;33m=\u001b[0m \u001b[0mself\u001b[0m\u001b[1;33m.\u001b[0m\u001b[0m_reader\u001b[0m\u001b[1;33m.\u001b[0m\u001b[0mread_low_memory\u001b[0m\u001b[1;33m(\u001b[0m\u001b[0mnrows\u001b[0m\u001b[1;33m)\u001b[0m\u001b[1;33m\u001b[0m\u001b[1;33m\u001b[0m\u001b[0m\n\u001b[0m\u001b[0;32m    226\u001b[0m                 \u001b[1;31m# destructive to chunks\u001b[0m\u001b[1;33m\u001b[0m\u001b[1;33m\u001b[0m\u001b[0m\n\u001b[0;32m    227\u001b[0m                 \u001b[0mdata\u001b[0m \u001b[1;33m=\u001b[0m \u001b[0m_concatenate_chunks\u001b[0m\u001b[1;33m(\u001b[0m\u001b[0mchunks\u001b[0m\u001b[1;33m)\u001b[0m\u001b[1;33m\u001b[0m\u001b[1;33m\u001b[0m\u001b[0m\n",
      "\u001b[1;32m~\\anaconda3\\lib\\site-packages\\pandas\\_libs\\parsers.pyx\u001b[0m in \u001b[0;36mpandas._libs.parsers.TextReader.read_low_memory\u001b[1;34m()\u001b[0m\n",
      "\u001b[1;32m~\\anaconda3\\lib\\site-packages\\pandas\\_libs\\parsers.pyx\u001b[0m in \u001b[0;36mpandas._libs.parsers.TextReader._read_rows\u001b[1;34m()\u001b[0m\n",
      "\u001b[1;32m~\\anaconda3\\lib\\site-packages\\pandas\\_libs\\parsers.pyx\u001b[0m in \u001b[0;36mpandas._libs.parsers.TextReader._convert_column_data\u001b[1;34m()\u001b[0m\n",
      "\u001b[1;32m~\\anaconda3\\lib\\site-packages\\pandas\\_libs\\parsers.pyx\u001b[0m in \u001b[0;36mpandas._libs.parsers.TextReader._convert_tokens\u001b[1;34m()\u001b[0m\n",
      "\u001b[1;32m~\\anaconda3\\lib\\site-packages\\pandas\\_libs\\parsers.pyx\u001b[0m in \u001b[0;36mpandas._libs.parsers.TextReader._convert_with_dtype\u001b[1;34m()\u001b[0m\n",
      "\u001b[1;31mValueError\u001b[0m: Integer column has NA values in column 0"
     ]
    }
   ],
   "source": [
    "csv_directory = R\"C:\\Users\\SKONIECZNY\\Desktop\\Cheap_Advisor\\csvp\"\n",
    "\n",
    "csv_files = [file for file in os.listdir(csv_directory) if file.endswith('.csv')]\n",
    "\n",
    "for csv_file in csv_files:\n",
    "    \n",
    "    csv_path = os.path.join(csv_directory, csv_file)\n",
    "    df = pd.read_csv(csv_path, encoding='utf-8') \n",
    "    df['Unnamed: 0'].fillna(0, inplace=True)  # Fill missing values with 0\n",
    "    df = df.astype({'Unnamed: 0': int})\n",
    "# Specify the data type\n",
    "    parquet_file = os.path.splitext(csv_file)[0] + '.parquet'\n",
    "    parquet_path = os.path.join(csv_directory, parquet_file)\n",
    "    \n",
    "    table = pa.Table.from_pandas(df)\n",
    "\n",
    "    \n",
    "    with open(parquet_path, 'wb') as f:\n",
    "        pq.write_table(table, f)\n",
    "\n"
   ]
  },
  {
   "cell_type": "markdown",
   "id": "720f66b4-ffcb-4529-a803-6f0493adec3e",
   "metadata": {},
   "source": [
    "## CSV DELETE"
   ]
  },
  {
   "cell_type": "markdown",
   "id": "d4e7ffc3-5f1f-4e36-91ba-b5d656bffa9b",
   "metadata": {
    "tags": []
   },
   "source": [
    "import os\n",
    "\n",
    "csv_directory = R\"C:\\Users\\yskon\\Desktop\\Cheap\\Cheap_Advisor\\Scrap_Training\\Scraping\\Travel_Scrapping\"\n",
    "csv_files = [file for file in os.listdir(csv_directory) if file.endswith('.csv')]\n",
    "\n",
    "for csv_file in csv_files:\n",
    "    csv_path = os.path.join(csv_directory, csv_file)\n",
    "    os.remove(csv_path)\n"
   ]
  },
  {
   "cell_type": "markdown",
   "id": "0a4750f6-c842-4665-aeb3-b03a965620d3",
   "metadata": {},
   "source": [
    "### Lecture des parquets"
   ]
  },
  {
   "cell_type": "code",
   "execution_count": 18,
   "id": "afe52da9-0688-4946-bdd9-7ed8b8047400",
   "metadata": {
    "tags": []
   },
   "outputs": [
    {
     "ename": "ValueError",
     "evalue": "No objects to concatenate",
     "output_type": "error",
     "traceback": [
      "\u001b[1;31m---------------------------------------------------------------------------\u001b[0m",
      "\u001b[1;31mValueError\u001b[0m                                Traceback (most recent call last)",
      "\u001b[1;32m~\\AppData\\Local\\Temp\\ipykernel_20380\\858954619.py\u001b[0m in \u001b[0;36m<module>\u001b[1;34m\u001b[0m\n\u001b[0;32m     19\u001b[0m     \u001b[0mdataframes\u001b[0m\u001b[1;33m.\u001b[0m\u001b[0mappend\u001b[0m\u001b[1;33m(\u001b[0m\u001b[0mdf\u001b[0m\u001b[1;33m)\u001b[0m\u001b[1;33m\u001b[0m\u001b[1;33m\u001b[0m\u001b[0m\n\u001b[0;32m     20\u001b[0m \u001b[1;33m\u001b[0m\u001b[0m\n\u001b[1;32m---> 21\u001b[1;33m \u001b[0mdataframe\u001b[0m \u001b[1;33m=\u001b[0m \u001b[0mpd\u001b[0m\u001b[1;33m.\u001b[0m\u001b[0mconcat\u001b[0m\u001b[1;33m(\u001b[0m\u001b[0mdataframes\u001b[0m\u001b[1;33m,\u001b[0m \u001b[0mignore_index\u001b[0m\u001b[1;33m=\u001b[0m\u001b[1;32mTrue\u001b[0m\u001b[1;33m)\u001b[0m\u001b[1;33m\u001b[0m\u001b[1;33m\u001b[0m\u001b[0m\n\u001b[0m\u001b[0;32m     22\u001b[0m \u001b[1;33m\u001b[0m\u001b[0m\n\u001b[0;32m     23\u001b[0m \u001b[0mdataframe\u001b[0m\u001b[1;33m.\u001b[0m\u001b[0mhead\u001b[0m\u001b[1;33m(\u001b[0m\u001b[1;33m)\u001b[0m\u001b[1;33m\u001b[0m\u001b[1;33m\u001b[0m\u001b[0m\n",
      "\u001b[1;32m~\\anaconda3\\lib\\site-packages\\pandas\\util\\_decorators.py\u001b[0m in \u001b[0;36mwrapper\u001b[1;34m(*args, **kwargs)\u001b[0m\n\u001b[0;32m    309\u001b[0m                     \u001b[0mstacklevel\u001b[0m\u001b[1;33m=\u001b[0m\u001b[0mstacklevel\u001b[0m\u001b[1;33m,\u001b[0m\u001b[1;33m\u001b[0m\u001b[1;33m\u001b[0m\u001b[0m\n\u001b[0;32m    310\u001b[0m                 )\n\u001b[1;32m--> 311\u001b[1;33m             \u001b[1;32mreturn\u001b[0m \u001b[0mfunc\u001b[0m\u001b[1;33m(\u001b[0m\u001b[1;33m*\u001b[0m\u001b[0margs\u001b[0m\u001b[1;33m,\u001b[0m \u001b[1;33m**\u001b[0m\u001b[0mkwargs\u001b[0m\u001b[1;33m)\u001b[0m\u001b[1;33m\u001b[0m\u001b[1;33m\u001b[0m\u001b[0m\n\u001b[0m\u001b[0;32m    312\u001b[0m \u001b[1;33m\u001b[0m\u001b[0m\n\u001b[0;32m    313\u001b[0m         \u001b[1;32mreturn\u001b[0m \u001b[0mwrapper\u001b[0m\u001b[1;33m\u001b[0m\u001b[1;33m\u001b[0m\u001b[0m\n",
      "\u001b[1;32m~\\anaconda3\\lib\\site-packages\\pandas\\core\\reshape\\concat.py\u001b[0m in \u001b[0;36mconcat\u001b[1;34m(objs, axis, join, ignore_index, keys, levels, names, verify_integrity, sort, copy)\u001b[0m\n\u001b[0;32m    345\u001b[0m     \u001b[0mValueError\u001b[0m\u001b[1;33m:\u001b[0m \u001b[0mIndexes\u001b[0m \u001b[0mhave\u001b[0m \u001b[0moverlapping\u001b[0m \u001b[0mvalues\u001b[0m\u001b[1;33m:\u001b[0m \u001b[1;33m[\u001b[0m\u001b[1;34m'a'\u001b[0m\u001b[1;33m]\u001b[0m\u001b[1;33m\u001b[0m\u001b[1;33m\u001b[0m\u001b[0m\n\u001b[0;32m    346\u001b[0m     \"\"\"\n\u001b[1;32m--> 347\u001b[1;33m     op = _Concatenator(\n\u001b[0m\u001b[0;32m    348\u001b[0m         \u001b[0mobjs\u001b[0m\u001b[1;33m,\u001b[0m\u001b[1;33m\u001b[0m\u001b[1;33m\u001b[0m\u001b[0m\n\u001b[0;32m    349\u001b[0m         \u001b[0maxis\u001b[0m\u001b[1;33m=\u001b[0m\u001b[0maxis\u001b[0m\u001b[1;33m,\u001b[0m\u001b[1;33m\u001b[0m\u001b[1;33m\u001b[0m\u001b[0m\n",
      "\u001b[1;32m~\\anaconda3\\lib\\site-packages\\pandas\\core\\reshape\\concat.py\u001b[0m in \u001b[0;36m__init__\u001b[1;34m(self, objs, axis, join, keys, levels, names, ignore_index, verify_integrity, copy, sort)\u001b[0m\n\u001b[0;32m    402\u001b[0m \u001b[1;33m\u001b[0m\u001b[0m\n\u001b[0;32m    403\u001b[0m         \u001b[1;32mif\u001b[0m \u001b[0mlen\u001b[0m\u001b[1;33m(\u001b[0m\u001b[0mobjs\u001b[0m\u001b[1;33m)\u001b[0m \u001b[1;33m==\u001b[0m \u001b[1;36m0\u001b[0m\u001b[1;33m:\u001b[0m\u001b[1;33m\u001b[0m\u001b[1;33m\u001b[0m\u001b[0m\n\u001b[1;32m--> 404\u001b[1;33m             \u001b[1;32mraise\u001b[0m \u001b[0mValueError\u001b[0m\u001b[1;33m(\u001b[0m\u001b[1;34m\"No objects to concatenate\"\u001b[0m\u001b[1;33m)\u001b[0m\u001b[1;33m\u001b[0m\u001b[1;33m\u001b[0m\u001b[0m\n\u001b[0m\u001b[0;32m    405\u001b[0m \u001b[1;33m\u001b[0m\u001b[0m\n\u001b[0;32m    406\u001b[0m         \u001b[1;32mif\u001b[0m \u001b[0mkeys\u001b[0m \u001b[1;32mis\u001b[0m \u001b[1;32mNone\u001b[0m\u001b[1;33m:\u001b[0m\u001b[1;33m\u001b[0m\u001b[1;33m\u001b[0m\u001b[0m\n",
      "\u001b[1;31mValueError\u001b[0m: No objects to concatenate"
     ]
    }
   ],
   "source": [
    "import os\n",
    "import pandas as pd\n",
    "import pyarrow.parquet as pq\n",
    "# à changer lee directory\n",
    "parquet_directory = R\"C:\\Users\\SKONIECZNY\\Desktop\\Cheap_Advisor\\csvp\"\n",
    "parquet_files = [file for file in os.listdir(parquet_directory) if file.endswith('.parquet')]\n",
    "\n",
    "\n",
    "dataframes = []\n",
    "\n",
    "for parquet_file in parquet_files:\n",
    "    parquet_path = os.path.join(parquet_directory, parquet_file)\n",
    "    \n",
    "  \n",
    "    table = pq.read_table(parquet_path)\n",
    "    df = table.to_pandas()\n",
    "    \n",
    "    \n",
    "    dataframes.append(df)\n",
    "    \n",
    "dataframe = pd.concat(dataframes, ignore_index=True)   \n",
    "\n",
    "dataframe.head()\n"
   ]
  },
  {
   "cell_type": "code",
   "execution_count": 4,
   "id": "dbd89a0d-74fe-4ce4-b84e-e4c1f4f3dd3c",
   "metadata": {
    "tags": []
   },
   "outputs": [
    {
     "data": {
      "text/plain": [
       "Index(['Date_Départ', 'Date_arrivée', 'VILLE_DEPART', 'VILLE_ARRIVEE',\n",
       "       'Horaires', 'Trajet', 'Type de trajet', 'Temps de trajet', 'Prix',\n",
       "       'Compagnie de vol', 'Unnamed: 0'],\n",
       "      dtype='object')"
      ]
     },
     "execution_count": 4,
     "metadata": {},
     "output_type": "execute_result"
    }
   ],
   "source": [
    "dataframe.columns"
   ]
  },
  {
   "cell_type": "code",
   "execution_count": 5,
   "id": "531fc796-146e-4b06-8461-0f01e5df9bb9",
   "metadata": {
    "tags": []
   },
   "outputs": [],
   "source": [
    "dataframe = dataframe.drop(\"Unnamed: 0\", axis=1)"
   ]
  },
  {
   "cell_type": "code",
   "execution_count": 6,
   "id": "10a66340-236e-4be2-8a14-f53bd58cbe98",
   "metadata": {
    "tags": []
   },
   "outputs": [
    {
     "data": {
      "text/plain": [
       "Index(['Date_Départ', 'Date_arrivée', 'VILLE_DEPART', 'VILLE_ARRIVEE',\n",
       "       'Horaires', 'Trajet', 'Type de trajet', 'Temps de trajet', 'Prix',\n",
       "       'Compagnie de vol'],\n",
       "      dtype='object')"
      ]
     },
     "execution_count": 6,
     "metadata": {},
     "output_type": "execute_result"
    }
   ],
   "source": [
    "dataframe.columns"
   ]
  },
  {
   "cell_type": "code",
   "execution_count": null,
   "id": "d5e1d34d-0f91-4f49-b741-553630663032",
   "metadata": {
    "tags": []
   },
   "outputs": [],
   "source": []
  },
  {
   "cell_type": "code",
   "execution_count": 7,
   "id": "52ecd502-f48f-4fef-b470-e7ef44d82249",
   "metadata": {
    "tags": []
   },
   "outputs": [
    {
     "data": {
      "text/plain": [
       "0          119 €\n",
       "1          123 €\n",
       "2          123 €\n",
       "3          128 €\n",
       "4          134 €\n",
       "           ...  \n",
       "2132749    131 €\n",
       "2132750    131 €\n",
       "2132751    131 €\n",
       "2132752    133 €\n",
       "2132753    134 €\n",
       "Name: Prix, Length: 2132754, dtype: object"
      ]
     },
     "execution_count": 7,
     "metadata": {},
     "output_type": "execute_result"
    }
   ],
   "source": [
    "dataframe['Prix']"
   ]
  },
  {
   "cell_type": "code",
   "execution_count": 8,
   "id": "ebeb4a3f-580f-4b65-b092-6483c109fa31",
   "metadata": {
    "tags": []
   },
   "outputs": [
    {
     "data": {
      "text/plain": [
       "Index(['Date_Départ', 'Date_arrivée', 'VILLE_DEPART', 'VILLE_ARRIVEE',\n",
       "       'Horaires', 'Trajet', 'Type de trajet', 'Temps de trajet', 'Prix',\n",
       "       'Compagnie de vol'],\n",
       "      dtype='object')"
      ]
     },
     "execution_count": 8,
     "metadata": {},
     "output_type": "execute_result"
    }
   ],
   "source": [
    "dataframe.columns"
   ]
  },
  {
   "cell_type": "code",
   "execution_count": 9,
   "id": "dd36e388-7861-495f-98bd-36a12274337e",
   "metadata": {
    "tags": []
   },
   "outputs": [
    {
     "name": "stdout",
     "output_type": "stream",
     "text": [
      "Date_Départ         object\n",
      "Date_arrivée        object\n",
      "VILLE_DEPART        object\n",
      "VILLE_ARRIVEE       object\n",
      "Horaires            object\n",
      "Trajet              object\n",
      "Type de trajet      object\n",
      "Temps de trajet     object\n",
      "Prix                object\n",
      "Compagnie de vol    object\n",
      "dtype: object\n"
     ]
    }
   ],
   "source": [
    "print(dataframe.dtypes)"
   ]
  },
  {
   "cell_type": "code",
   "execution_count": 10,
   "id": "fd0098a2-14cc-4677-9e5c-ab29025f1b24",
   "metadata": {
    "tags": []
   },
   "outputs": [
    {
     "name": "stdout",
     "output_type": "stream",
     "text": [
      "        Date_Départ Date_arrivée VILLE_DEPART VILLE_ARRIVEE       Horaires  \\\n",
      "0        22/11/2023   28/11/2023          BER           PAR  20:15 – 22:05   \n",
      "1        22/11/2023   28/11/2023          BER           PAR  20:30 – 22:20   \n",
      "2        22/11/2023   28/11/2023          BER           PAR  20:30 – 22:20   \n",
      "3        22/11/2023   28/11/2023          BER           PAR  15:45 – 17:35   \n",
      "4        22/11/2023   28/11/2023          BER           PAR  20:30 – 22:20   \n",
      "...             ...          ...          ...           ...            ...   \n",
      "2132749  22/11/2023   28/11/2023          PAR           OSL  15:00 – 19:45   \n",
      "2132750  22/11/2023   28/11/2023          PAR           OSL  10:15 – 17:10   \n",
      "2132751  22/11/2023   28/11/2023          PAR           OSL  08:40 – 17:10   \n",
      "2132752  22/11/2023   28/11/2023          PAR           OSL  13:45 – 18:35   \n",
      "2132753  22/11/2023   28/11/2023          PAR           OSL  13:45 – 18:35   \n",
      "\n",
      "                                                    Trajet Type de trajet  \\\n",
      "0        BERAéroport de Berlin Brandebourg-CDGAéroport ...         direct   \n",
      "1        BERAéroport de Berlin Brandebourg-ORYAéroport ...         direct   \n",
      "2        BERAéroport de Berlin Brandebourg-ORYAéroport ...         direct   \n",
      "3        BERAéroport de Berlin Brandebourg-CDGAéroport ...         direct   \n",
      "4        BERAéroport de Berlin Brandebourg-ORYAéroport ...         direct   \n",
      "...                                                    ...            ...   \n",
      "2132749  CDGAéroport Charles-de-Gaulle-OSLAéroport d'Os...       1 escale   \n",
      "2132750  CDGAéroport Charles-de-Gaulle-OSLAéroport d'Os...       1 escale   \n",
      "2132751  CDGAéroport Charles-de-Gaulle-OSLAéroport d'Os...       1 escale   \n",
      "2132752  BVAAéroport de Beauvais-Tillé-TRFAéroport de S...           None   \n",
      "2132753  BVAAéroport de Beauvais-Tillé-TRFAéroport de S...           None   \n",
      "\n",
      "        Temps de trajet   Prix          Compagnie de vol  \n",
      "0              1h 50min  119 €                Air France  \n",
      "1              1h 50min  123 €            easyJet Europe  \n",
      "2              1h 50min  123 €   easyJet Europe, easyJet  \n",
      "3              1h 50min  128 €                Air France  \n",
      "4              1h 50min  134 €   easyJet Europe, easyJet  \n",
      "...                 ...    ...                       ...  \n",
      "2132749        4h 45min  131 €                     SWISS  \n",
      "2132750        6h 55min  131 €  Brussels Airlines, SWISS  \n",
      "2132751        8h 30min  131 €  Brussels Airlines, SWISS  \n",
      "2132752        4h 50min  133 €      Plusieurs compagnies  \n",
      "2132753        4h 50min  134 €      Plusieurs compagnies  \n",
      "\n",
      "[2127004 rows x 10 columns]\n"
     ]
    }
   ],
   "source": [
    "import pandas as pd\n",
    "\n",
    "\n",
    "dataframe = dataframe[dataframe['Date_Départ'] != \"Date_Départ\"]\n",
    "dataframe = dataframe[dataframe['Date_arrivée'] != \"Date_Départ\"]\n",
    "\n",
    "\n",
    "dataframe['Date_Départ'] = pd.to_datetime(dataframe['Date_Départ'], format='%Y-%m-%d')\n",
    "dataframe['Date_arrivée'] = pd.to_datetime(dataframe['Date_arrivée'], format='%Y-%m-%d')\n",
    "\n",
    "\n",
    "dataframe['Date_Départ'] = dataframe['Date_Départ'].dt.strftime('%d/%m/%Y')\n",
    "dataframe['Date_arrivée'] = dataframe['Date_arrivée'].dt.strftime('%d/%m/%Y')\n",
    "\n",
    "\n",
    "print(dataframe)\n"
   ]
  },
  {
   "cell_type": "code",
   "execution_count": 11,
   "id": "2e00cd12-e35b-4d6d-a7a1-3ea2fb9253ed",
   "metadata": {
    "tags": []
   },
   "outputs": [
    {
     "data": {
      "text/html": [
       "<div>\n",
       "<style scoped>\n",
       "    .dataframe tbody tr th:only-of-type {\n",
       "        vertical-align: middle;\n",
       "    }\n",
       "\n",
       "    .dataframe tbody tr th {\n",
       "        vertical-align: top;\n",
       "    }\n",
       "\n",
       "    .dataframe thead th {\n",
       "        text-align: right;\n",
       "    }\n",
       "</style>\n",
       "<table border=\"1\" class=\"dataframe\">\n",
       "  <thead>\n",
       "    <tr style=\"text-align: right;\">\n",
       "      <th></th>\n",
       "      <th>Date_Départ</th>\n",
       "      <th>Date_arrivée</th>\n",
       "      <th>VILLE_DEPART</th>\n",
       "      <th>VILLE_ARRIVEE</th>\n",
       "      <th>Horaires</th>\n",
       "      <th>Trajet</th>\n",
       "      <th>Type de trajet</th>\n",
       "      <th>Temps de trajet</th>\n",
       "      <th>Prix</th>\n",
       "      <th>Compagnie de vol</th>\n",
       "    </tr>\n",
       "  </thead>\n",
       "  <tbody>\n",
       "    <tr>\n",
       "      <th>0</th>\n",
       "      <td>22/11/2023</td>\n",
       "      <td>28/11/2023</td>\n",
       "      <td>BER</td>\n",
       "      <td>PAR</td>\n",
       "      <td>20:15 – 22:05</td>\n",
       "      <td>BERAéroport de Berlin Brandebourg-CDGAéroport ...</td>\n",
       "      <td>direct</td>\n",
       "      <td>1h 50min</td>\n",
       "      <td>119 €</td>\n",
       "      <td>Air France</td>\n",
       "    </tr>\n",
       "    <tr>\n",
       "      <th>1</th>\n",
       "      <td>22/11/2023</td>\n",
       "      <td>28/11/2023</td>\n",
       "      <td>BER</td>\n",
       "      <td>PAR</td>\n",
       "      <td>20:30 – 22:20</td>\n",
       "      <td>BERAéroport de Berlin Brandebourg-ORYAéroport ...</td>\n",
       "      <td>direct</td>\n",
       "      <td>1h 50min</td>\n",
       "      <td>123 €</td>\n",
       "      <td>easyJet Europe</td>\n",
       "    </tr>\n",
       "    <tr>\n",
       "      <th>2</th>\n",
       "      <td>22/11/2023</td>\n",
       "      <td>28/11/2023</td>\n",
       "      <td>BER</td>\n",
       "      <td>PAR</td>\n",
       "      <td>20:30 – 22:20</td>\n",
       "      <td>BERAéroport de Berlin Brandebourg-ORYAéroport ...</td>\n",
       "      <td>direct</td>\n",
       "      <td>1h 50min</td>\n",
       "      <td>123 €</td>\n",
       "      <td>easyJet Europe, easyJet</td>\n",
       "    </tr>\n",
       "    <tr>\n",
       "      <th>3</th>\n",
       "      <td>22/11/2023</td>\n",
       "      <td>28/11/2023</td>\n",
       "      <td>BER</td>\n",
       "      <td>PAR</td>\n",
       "      <td>15:45 – 17:35</td>\n",
       "      <td>BERAéroport de Berlin Brandebourg-CDGAéroport ...</td>\n",
       "      <td>direct</td>\n",
       "      <td>1h 50min</td>\n",
       "      <td>128 €</td>\n",
       "      <td>Air France</td>\n",
       "    </tr>\n",
       "    <tr>\n",
       "      <th>4</th>\n",
       "      <td>22/11/2023</td>\n",
       "      <td>28/11/2023</td>\n",
       "      <td>BER</td>\n",
       "      <td>PAR</td>\n",
       "      <td>20:30 – 22:20</td>\n",
       "      <td>BERAéroport de Berlin Brandebourg-ORYAéroport ...</td>\n",
       "      <td>direct</td>\n",
       "      <td>1h 50min</td>\n",
       "      <td>134 €</td>\n",
       "      <td>easyJet Europe, easyJet</td>\n",
       "    </tr>\n",
       "    <tr>\n",
       "      <th>5</th>\n",
       "      <td>22/11/2023</td>\n",
       "      <td>28/11/2023</td>\n",
       "      <td>BER</td>\n",
       "      <td>PAR</td>\n",
       "      <td>20:30 – 22:20</td>\n",
       "      <td>BERAéroport de Berlin Brandebourg-ORYAéroport ...</td>\n",
       "      <td>direct</td>\n",
       "      <td>1h 50min</td>\n",
       "      <td>134 €</td>\n",
       "      <td>None</td>\n",
       "    </tr>\n",
       "    <tr>\n",
       "      <th>6</th>\n",
       "      <td>22/11/2023</td>\n",
       "      <td>28/11/2023</td>\n",
       "      <td>BER</td>\n",
       "      <td>PAR</td>\n",
       "      <td>18:20 – 20:10</td>\n",
       "      <td>BERAéroport de Berlin Brandebourg-CDGAéroport ...</td>\n",
       "      <td>direct</td>\n",
       "      <td>1h 50min</td>\n",
       "      <td>133 €</td>\n",
       "      <td>Air France</td>\n",
       "    </tr>\n",
       "    <tr>\n",
       "      <th>7</th>\n",
       "      <td>22/11/2023</td>\n",
       "      <td>28/11/2023</td>\n",
       "      <td>BER</td>\n",
       "      <td>PAR</td>\n",
       "      <td>None</td>\n",
       "      <td>None</td>\n",
       "      <td>None</td>\n",
       "      <td>None</td>\n",
       "      <td>None</td>\n",
       "      <td>None</td>\n",
       "    </tr>\n",
       "    <tr>\n",
       "      <th>8</th>\n",
       "      <td>22/11/2023</td>\n",
       "      <td>28/11/2023</td>\n",
       "      <td>BER</td>\n",
       "      <td>PAR</td>\n",
       "      <td>None</td>\n",
       "      <td>None</td>\n",
       "      <td>None</td>\n",
       "      <td>None</td>\n",
       "      <td>None</td>\n",
       "      <td>None</td>\n",
       "    </tr>\n",
       "    <tr>\n",
       "      <th>9</th>\n",
       "      <td>22/11/2023</td>\n",
       "      <td>28/11/2023</td>\n",
       "      <td>BER</td>\n",
       "      <td>PAR</td>\n",
       "      <td>None</td>\n",
       "      <td>None</td>\n",
       "      <td>None</td>\n",
       "      <td>None</td>\n",
       "      <td>None</td>\n",
       "      <td>None</td>\n",
       "    </tr>\n",
       "  </tbody>\n",
       "</table>\n",
       "</div>"
      ],
      "text/plain": [
       "  Date_Départ Date_arrivée VILLE_DEPART VILLE_ARRIVEE       Horaires  \\\n",
       "0  22/11/2023   28/11/2023          BER           PAR  20:15 – 22:05   \n",
       "1  22/11/2023   28/11/2023          BER           PAR  20:30 – 22:20   \n",
       "2  22/11/2023   28/11/2023          BER           PAR  20:30 – 22:20   \n",
       "3  22/11/2023   28/11/2023          BER           PAR  15:45 – 17:35   \n",
       "4  22/11/2023   28/11/2023          BER           PAR  20:30 – 22:20   \n",
       "5  22/11/2023   28/11/2023          BER           PAR  20:30 – 22:20   \n",
       "6  22/11/2023   28/11/2023          BER           PAR  18:20 – 20:10   \n",
       "7  22/11/2023   28/11/2023          BER           PAR           None   \n",
       "8  22/11/2023   28/11/2023          BER           PAR           None   \n",
       "9  22/11/2023   28/11/2023          BER           PAR           None   \n",
       "\n",
       "                                              Trajet Type de trajet  \\\n",
       "0  BERAéroport de Berlin Brandebourg-CDGAéroport ...         direct   \n",
       "1  BERAéroport de Berlin Brandebourg-ORYAéroport ...         direct   \n",
       "2  BERAéroport de Berlin Brandebourg-ORYAéroport ...         direct   \n",
       "3  BERAéroport de Berlin Brandebourg-CDGAéroport ...         direct   \n",
       "4  BERAéroport de Berlin Brandebourg-ORYAéroport ...         direct   \n",
       "5  BERAéroport de Berlin Brandebourg-ORYAéroport ...         direct   \n",
       "6  BERAéroport de Berlin Brandebourg-CDGAéroport ...         direct   \n",
       "7                                               None           None   \n",
       "8                                               None           None   \n",
       "9                                               None           None   \n",
       "\n",
       "  Temps de trajet   Prix         Compagnie de vol  \n",
       "0        1h 50min  119 €               Air France  \n",
       "1        1h 50min  123 €           easyJet Europe  \n",
       "2        1h 50min  123 €  easyJet Europe, easyJet  \n",
       "3        1h 50min  128 €               Air France  \n",
       "4        1h 50min  134 €  easyJet Europe, easyJet  \n",
       "5        1h 50min  134 €                     None  \n",
       "6        1h 50min  133 €               Air France  \n",
       "7            None   None                     None  \n",
       "8            None   None                     None  \n",
       "9            None   None                     None  "
      ]
     },
     "execution_count": 11,
     "metadata": {},
     "output_type": "execute_result"
    }
   ],
   "source": [
    "dataframe.head(10)"
   ]
  },
  {
   "cell_type": "code",
   "execution_count": 12,
   "id": "8c1f04df-9e9e-4604-8b9a-7fd17ff81f69",
   "metadata": {
    "tags": []
   },
   "outputs": [
    {
     "name": "stdout",
     "output_type": "stream",
     "text": [
      "Date_Départ         object\n",
      "Date_arrivée        object\n",
      "VILLE_DEPART        object\n",
      "VILLE_ARRIVEE       object\n",
      "Horaires            object\n",
      "Trajet              object\n",
      "Type de trajet      object\n",
      "Temps de trajet     object\n",
      "Prix                object\n",
      "Compagnie de vol    object\n",
      "dtype: object\n"
     ]
    }
   ],
   "source": [
    "print(dataframe.dtypes)"
   ]
  },
  {
   "cell_type": "code",
   "execution_count": 13,
   "id": "9e0c0b47-9748-4e09-a2d5-ff7e9770ca51",
   "metadata": {
    "tags": []
   },
   "outputs": [
    {
     "name": "stderr",
     "output_type": "stream",
     "text": [
      "C:\\Users\\SKONIECZNY\\anaconda3\\lib\\site-packages\\pandas\\core\\tools\\datetimes.py:1047: UserWarning: Parsing '22/11/2023' in DD/MM/YYYY format. Provide format or specify infer_datetime_format=True for consistent parsing.\n",
      "  cache_array = _maybe_cache(arg, format, cache, convert_listlike)\n",
      "C:\\Users\\SKONIECZNY\\anaconda3\\lib\\site-packages\\pandas\\core\\tools\\datetimes.py:1047: UserWarning: Parsing '29/11/2023' in DD/MM/YYYY format. Provide format or specify infer_datetime_format=True for consistent parsing.\n",
      "  cache_array = _maybe_cache(arg, format, cache, convert_listlike)\n",
      "C:\\Users\\SKONIECZNY\\anaconda3\\lib\\site-packages\\pandas\\core\\tools\\datetimes.py:1047: UserWarning: Parsing '13/12/2023' in DD/MM/YYYY format. Provide format or specify infer_datetime_format=True for consistent parsing.\n",
      "  cache_array = _maybe_cache(arg, format, cache, convert_listlike)\n",
      "C:\\Users\\SKONIECZNY\\anaconda3\\lib\\site-packages\\pandas\\core\\tools\\datetimes.py:1047: UserWarning: Parsing '20/12/2023' in DD/MM/YYYY format. Provide format or specify infer_datetime_format=True for consistent parsing.\n",
      "  cache_array = _maybe_cache(arg, format, cache, convert_listlike)\n",
      "C:\\Users\\SKONIECZNY\\anaconda3\\lib\\site-packages\\pandas\\core\\tools\\datetimes.py:1047: UserWarning: Parsing '27/12/2023' in DD/MM/YYYY format. Provide format or specify infer_datetime_format=True for consistent parsing.\n",
      "  cache_array = _maybe_cache(arg, format, cache, convert_listlike)\n",
      "C:\\Users\\SKONIECZNY\\anaconda3\\lib\\site-packages\\pandas\\core\\tools\\datetimes.py:1047: UserWarning: Parsing '17/01/2024' in DD/MM/YYYY format. Provide format or specify infer_datetime_format=True for consistent parsing.\n",
      "  cache_array = _maybe_cache(arg, format, cache, convert_listlike)\n",
      "C:\\Users\\SKONIECZNY\\anaconda3\\lib\\site-packages\\pandas\\core\\tools\\datetimes.py:1047: UserWarning: Parsing '28/11/2023' in DD/MM/YYYY format. Provide format or specify infer_datetime_format=True for consistent parsing.\n",
      "  cache_array = _maybe_cache(arg, format, cache, convert_listlike)\n",
      "C:\\Users\\SKONIECZNY\\anaconda3\\lib\\site-packages\\pandas\\core\\tools\\datetimes.py:1047: UserWarning: Parsing '19/12/2023' in DD/MM/YYYY format. Provide format or specify infer_datetime_format=True for consistent parsing.\n",
      "  cache_array = _maybe_cache(arg, format, cache, convert_listlike)\n",
      "C:\\Users\\SKONIECZNY\\anaconda3\\lib\\site-packages\\pandas\\core\\tools\\datetimes.py:1047: UserWarning: Parsing '26/12/2023' in DD/MM/YYYY format. Provide format or specify infer_datetime_format=True for consistent parsing.\n",
      "  cache_array = _maybe_cache(arg, format, cache, convert_listlike)\n",
      "C:\\Users\\SKONIECZNY\\anaconda3\\lib\\site-packages\\pandas\\core\\tools\\datetimes.py:1047: UserWarning: Parsing '16/01/2024' in DD/MM/YYYY format. Provide format or specify infer_datetime_format=True for consistent parsing.\n",
      "  cache_array = _maybe_cache(arg, format, cache, convert_listlike)\n",
      "C:\\Users\\SKONIECZNY\\anaconda3\\lib\\site-packages\\pandas\\core\\tools\\datetimes.py:1047: UserWarning: Parsing '23/01/2024' in DD/MM/YYYY format. Provide format or specify infer_datetime_format=True for consistent parsing.\n",
      "  cache_array = _maybe_cache(arg, format, cache, convert_listlike)\n"
     ]
    },
    {
     "name": "stdout",
     "output_type": "stream",
     "text": [
      "        Date_Départ Date_arrivée VILLE_DEPART VILLE_ARRIVEE       Horaires  \\\n",
      "0        2023-11-22   2023-11-28          BER           PAR  20:15 – 22:05   \n",
      "1        2023-11-22   2023-11-28          BER           PAR  20:30 – 22:20   \n",
      "2        2023-11-22   2023-11-28          BER           PAR  20:30 – 22:20   \n",
      "3        2023-11-22   2023-11-28          BER           PAR  15:45 – 17:35   \n",
      "4        2023-11-22   2023-11-28          BER           PAR  20:30 – 22:20   \n",
      "...             ...          ...          ...           ...            ...   \n",
      "2132749  2023-11-22   2023-11-28          PAR           OSL  15:00 – 19:45   \n",
      "2132750  2023-11-22   2023-11-28          PAR           OSL  10:15 – 17:10   \n",
      "2132751  2023-11-22   2023-11-28          PAR           OSL  08:40 – 17:10   \n",
      "2132752  2023-11-22   2023-11-28          PAR           OSL  13:45 – 18:35   \n",
      "2132753  2023-11-22   2023-11-28          PAR           OSL  13:45 – 18:35   \n",
      "\n",
      "                                                    Trajet Type de trajet  \\\n",
      "0        BERAéroport de Berlin Brandebourg-CDGAéroport ...         direct   \n",
      "1        BERAéroport de Berlin Brandebourg-ORYAéroport ...         direct   \n",
      "2        BERAéroport de Berlin Brandebourg-ORYAéroport ...         direct   \n",
      "3        BERAéroport de Berlin Brandebourg-CDGAéroport ...         direct   \n",
      "4        BERAéroport de Berlin Brandebourg-ORYAéroport ...         direct   \n",
      "...                                                    ...            ...   \n",
      "2132749  CDGAéroport Charles-de-Gaulle-OSLAéroport d'Os...       1 escale   \n",
      "2132750  CDGAéroport Charles-de-Gaulle-OSLAéroport d'Os...       1 escale   \n",
      "2132751  CDGAéroport Charles-de-Gaulle-OSLAéroport d'Os...       1 escale   \n",
      "2132752  BVAAéroport de Beauvais-Tillé-TRFAéroport de S...           None   \n",
      "2132753  BVAAéroport de Beauvais-Tillé-TRFAéroport de S...           None   \n",
      "\n",
      "        Temps de trajet   Prix          Compagnie de vol  \n",
      "0              1h 50min  119 €                Air France  \n",
      "1              1h 50min  123 €            easyJet Europe  \n",
      "2              1h 50min  123 €   easyJet Europe, easyJet  \n",
      "3              1h 50min  128 €                Air France  \n",
      "4              1h 50min  134 €   easyJet Europe, easyJet  \n",
      "...                 ...    ...                       ...  \n",
      "2132749        4h 45min  131 €                     SWISS  \n",
      "2132750        6h 55min  131 €  Brussels Airlines, SWISS  \n",
      "2132751        8h 30min  131 €  Brussels Airlines, SWISS  \n",
      "2132752        4h 50min  133 €      Plusieurs compagnies  \n",
      "2132753        4h 50min  134 €      Plusieurs compagnies  \n",
      "\n",
      "[2127004 rows x 10 columns]\n"
     ]
    }
   ],
   "source": [
    "import pandas as pd\n",
    "\n",
    "# Supposons que vous ayez un DataFrame appelé dataframe avec les colonnes que vous avez mentionnées\n",
    "# Convertir les colonnes de date en datetime\n",
    "dataframe['Date_Départ'] = pd.to_datetime(dataframe['Date_Départ'])\n",
    "dataframe['Date_arrivée'] = pd.to_datetime(dataframe['Date_arrivée'])\n",
    "\n",
    "# Convertir les autres colonnes en string\n",
    "cols_to_convert_to_string = ['VILLE_DEPART', 'VILLE_ARRIVEE', 'Trajet', 'Type de trajet', 'Temps de trajet', 'Prix', 'Compagnie de vol','Horaires']\n",
    "dataframe[cols_to_convert_to_string] = dataframe[cols_to_convert_to_string].astype(str)\n",
    "\n",
    "# Afficher le DataFrame mis à jour\n",
    "print(dataframe)\n"
   ]
  },
  {
   "cell_type": "code",
   "execution_count": 14,
   "id": "745cd40e-af95-4d3b-9baf-00cf01880681",
   "metadata": {
    "tags": []
   },
   "outputs": [
    {
     "name": "stdout",
     "output_type": "stream",
     "text": [
      "Date_Départ         datetime64[ns]\n",
      "Date_arrivée        datetime64[ns]\n",
      "VILLE_DEPART                object\n",
      "VILLE_ARRIVEE               object\n",
      "Horaires                    object\n",
      "Trajet                      object\n",
      "Type de trajet              object\n",
      "Temps de trajet             object\n",
      "Prix                        object\n",
      "Compagnie de vol            object\n",
      "dtype: object\n"
     ]
    }
   ],
   "source": [
    "print(dataframe.dtypes)"
   ]
  },
  {
   "cell_type": "code",
   "execution_count": 15,
   "id": "cf16749b-db2b-42cc-b3ae-4e4b5de6fdca",
   "metadata": {
    "tags": []
   },
   "outputs": [],
   "source": [
    "dataframe = dataframe.drop_duplicates()"
   ]
  },
  {
   "cell_type": "code",
   "execution_count": 16,
   "id": "8c77dbe9-ace5-43d2-9be8-1a06761f9b54",
   "metadata": {
    "tags": []
   },
   "outputs": [
    {
     "name": "stdout",
     "output_type": "stream",
     "text": [
      "        Date_Départ Date_arrivée VILLE_DEPART VILLE_ARRIVEE       Horaires  \\\n",
      "0        2023-11-22   2023-11-28          BER           PAR  20:15 – 22:05   \n",
      "1        2023-11-22   2023-11-28          BER           PAR  20:30 – 22:20   \n",
      "2        2023-11-22   2023-11-28          BER           PAR  20:30 – 22:20   \n",
      "3        2023-11-22   2023-11-28          BER           PAR  15:45 – 17:35   \n",
      "4        2023-11-22   2023-11-28          BER           PAR  20:30 – 22:20   \n",
      "...             ...          ...          ...           ...            ...   \n",
      "2116796  2023-11-22   2023-11-28          PAR           OSL  15:00 – 19:45   \n",
      "2118160  2023-11-22   2023-11-28          PAR           OSL  10:15 – 17:10   \n",
      "2119525  2023-11-22   2023-11-28          PAR           OSL  08:40 – 17:10   \n",
      "2123626  2023-11-22   2023-11-28          PAR           OSL  13:45 – 18:35   \n",
      "2124995  2023-11-22   2023-11-28          PAR           OSL  13:45 – 18:35   \n",
      "\n",
      "                                                    Trajet Type de trajet  \\\n",
      "0        BERAéroport de Berlin Brandebourg-CDGAéroport ...         direct   \n",
      "1        BERAéroport de Berlin Brandebourg-ORYAéroport ...         direct   \n",
      "2        BERAéroport de Berlin Brandebourg-ORYAéroport ...         direct   \n",
      "3        BERAéroport de Berlin Brandebourg-CDGAéroport ...         direct   \n",
      "4        BERAéroport de Berlin Brandebourg-ORYAéroport ...         direct   \n",
      "...                                                    ...            ...   \n",
      "2116796  CDGAéroport Charles-de-Gaulle-OSLAéroport d'Os...       1 escale   \n",
      "2118160  CDGAéroport Charles-de-Gaulle-OSLAéroport d'Os...       1 escale   \n",
      "2119525  CDGAéroport Charles-de-Gaulle-OSLAéroport d'Os...       1 escale   \n",
      "2123626  BVAAéroport de Beauvais-Tillé-TRFAéroport de S...           None   \n",
      "2124995  BVAAéroport de Beauvais-Tillé-TRFAéroport de S...           None   \n",
      "\n",
      "        Temps de trajet   Prix          Compagnie de vol  \n",
      "0              1h 50min  119 €                Air France  \n",
      "1              1h 50min  123 €            easyJet Europe  \n",
      "2              1h 50min  123 €   easyJet Europe, easyJet  \n",
      "3              1h 50min  128 €                Air France  \n",
      "4              1h 50min  134 €   easyJet Europe, easyJet  \n",
      "...                 ...    ...                       ...  \n",
      "2116796        4h 45min  131 €                     SWISS  \n",
      "2118160        6h 55min  131 €  Brussels Airlines, SWISS  \n",
      "2119525        8h 30min  131 €  Brussels Airlines, SWISS  \n",
      "2123626        4h 50min  133 €      Plusieurs compagnies  \n",
      "2124995        4h 50min  134 €      Plusieurs compagnies  \n",
      "\n",
      "[3645 rows x 10 columns]\n"
     ]
    }
   ],
   "source": [
    "print(dataframe)"
   ]
  },
  {
   "cell_type": "code",
   "execution_count": 17,
   "id": "ff24d7ec-bc0f-479f-997c-871a66023f16",
   "metadata": {
    "tags": []
   },
   "outputs": [],
   "source": [
    "import pandas as pd\n",
    "import pyarrow as pa\n",
    "\n",
    "\n",
    "table = pa.Table.from_pandas(dataframe)\n",
    "\n",
    "chemin_fichier_parquet = 'VOLS1.parquet'\n",
    "\n",
    "pa.parquet.write_table(table, chemin_fichier_parquet)"
   ]
  },
  {
   "cell_type": "code",
   "execution_count": null,
   "id": "25b8122d-838c-4688-b765-301560b973db",
   "metadata": {},
   "outputs": [],
   "source": []
  }
 ],
 "metadata": {
  "kernelspec": {
   "display_name": "Python 3 (ipykernel)",
   "language": "python",
   "name": "python3"
  },
  "language_info": {
   "codemirror_mode": {
    "name": "ipython",
    "version": 3
   },
   "file_extension": ".py",
   "mimetype": "text/x-python",
   "name": "python",
   "nbconvert_exporter": "python",
   "pygments_lexer": "ipython3",
   "version": "3.9.13"
  }
 },
 "nbformat": 4,
 "nbformat_minor": 5
}
