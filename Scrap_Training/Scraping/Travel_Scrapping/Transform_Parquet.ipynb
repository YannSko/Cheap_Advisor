{
 "cells": [
  {
   "cell_type": "code",
   "execution_count": 1,
   "id": "43889cdb-af62-47b0-b445-f678dd25bf0c",
   "metadata": {
    "tags": []
   },
   "outputs": [
    {
     "name": "stdout",
     "output_type": "stream",
     "text": [
      "Requirement already satisfied: pandas in c:\\users\\skonieczny\\anaconda3\\lib\\site-packages (1.4.4)\n",
      "Requirement already satisfied: pyarrow in c:\\users\\skonieczny\\anaconda3\\lib\\site-packages (10.0.1)\n",
      "Requirement already satisfied: pytz>=2020.1 in c:\\users\\skonieczny\\anaconda3\\lib\\site-packages (from pandas) (2022.1)\n",
      "Requirement already satisfied: python-dateutil>=2.8.1 in c:\\users\\skonieczny\\anaconda3\\lib\\site-packages (from pandas) (2.8.2)\n",
      "Requirement already satisfied: numpy>=1.18.5 in c:\\users\\skonieczny\\anaconda3\\lib\\site-packages (from pandas) (1.21.5)\n",
      "Requirement already satisfied: six>=1.5 in c:\\users\\skonieczny\\anaconda3\\lib\\site-packages (from python-dateutil>=2.8.1->pandas) (1.16.0)\n"
     ]
    }
   ],
   "source": [
    "!pip install pandas pyarrow\n"
   ]
  },
  {
   "cell_type": "code",
   "execution_count": 2,
   "id": "db15cbe6-0769-453a-aa2b-4228a39e62c7",
   "metadata": {
    "tags": []
   },
   "outputs": [],
   "source": [
    "import os\n",
    "import pandas as pd\n",
    "import pyarrow as pa\n",
    "import pyarrow.parquet as pq\n"
   ]
  },
  {
   "cell_type": "markdown",
   "id": "7a61ab95-b2b9-4529-8f4a-4e9e6569b851",
   "metadata": {},
   "source": [
    "## Transform : CSV to PARQUET"
   ]
  },
  {
   "cell_type": "markdown",
   "id": "e576f6b9-8511-4b85-858e-948dd64fb83a",
   "metadata": {
    "tags": []
   },
   "source": [
    "csv_directory = R\"C:\\Users\\SKONIECZNY\\Desktop\\Cheap_Advisor\\csvp\"\n",
    "\n",
    "csv_files = [file for file in os.listdir(csv_directory) if file.endswith('.csv')]\n",
    "\n",
    "for csv_file in csv_files:\n",
    "    \n",
    "    csv_path = os.path.join(csv_directory, csv_file)\n",
    "    df = pd.read_csv(csv_path, encoding='utf-8') \n",
    "    df['Unnamed: 0'].fillna(0, inplace=True)  # Fill missing values with 0\n",
    "    df = df.astype({'Unnamed: 0': int})\n",
    "# Specify the data type\n",
    "    parquet_file = os.path.splitext(csv_file)[0] + '.parquet'\n",
    "    parquet_path = os.path.join(csv_directory, parquet_file)\n",
    "    \n",
    "    table = pa.Table.from_pandas(df)\n",
    "\n",
    "    \n",
    "    with open(parquet_path, 'wb') as f:\n",
    "        pq.write_table(table, f)\n",
    "\n"
   ]
  },
  {
   "cell_type": "markdown",
   "id": "720f66b4-ffcb-4529-a803-6f0493adec3e",
   "metadata": {},
   "source": [
    "## CSV DELETE"
   ]
  },
  {
   "cell_type": "markdown",
   "id": "d4e7ffc3-5f1f-4e36-91ba-b5d656bffa9b",
   "metadata": {
    "tags": []
   },
   "source": [
    "import os\n",
    "\n",
    "csv_directory = R\"C:\\Users\\yskon\\Desktop\\Cheap\\Cheap_Advisor\\Scrap_Training\\Scraping\\Travel_Scrapping\"\n",
    "csv_files = [file for file in os.listdir(csv_directory) if file.endswith('.csv')]\n",
    "\n",
    "for csv_file in csv_files:\n",
    "    csv_path = os.path.join(csv_directory, csv_file)\n",
    "    os.remove(csv_path)\n"
   ]
  },
  {
   "cell_type": "markdown",
   "id": "0a4750f6-c842-4665-aeb3-b03a965620d3",
   "metadata": {},
   "source": [
    "### Lecture des parquets"
   ]
  },
  {
   "cell_type": "code",
   "execution_count": 3,
   "id": "afe52da9-0688-4946-bdd9-7ed8b8047400",
   "metadata": {
    "tags": []
   },
   "outputs": [
    {
     "data": {
      "text/html": [
       "<div>\n",
       "<style scoped>\n",
       "    .dataframe tbody tr th:only-of-type {\n",
       "        vertical-align: middle;\n",
       "    }\n",
       "\n",
       "    .dataframe tbody tr th {\n",
       "        vertical-align: top;\n",
       "    }\n",
       "\n",
       "    .dataframe thead th {\n",
       "        text-align: right;\n",
       "    }\n",
       "</style>\n",
       "<table border=\"1\" class=\"dataframe\">\n",
       "  <thead>\n",
       "    <tr style=\"text-align: right;\">\n",
       "      <th></th>\n",
       "      <th>Unnamed: 0</th>\n",
       "      <th>Date_Départ</th>\n",
       "      <th>Date_arrivée</th>\n",
       "      <th>VILLE_DEPART</th>\n",
       "      <th>VILLE_ARRIVEE</th>\n",
       "      <th>Horaires</th>\n",
       "      <th>Trajet</th>\n",
       "      <th>Type de trajet</th>\n",
       "      <th>Temps de trajet</th>\n",
       "      <th>Prix</th>\n",
       "      <th>Compagnie de vol</th>\n",
       "    </tr>\n",
       "  </thead>\n",
       "  <tbody>\n",
       "    <tr>\n",
       "      <th>0</th>\n",
       "      <td>0</td>\n",
       "      <td>2023-11-22</td>\n",
       "      <td>2023-11-28</td>\n",
       "      <td>BRU</td>\n",
       "      <td>BER</td>\n",
       "      <td>20:55 – 22:20</td>\n",
       "      <td>BRUAéroport de Bruxelles-National-BERAéroport ...</td>\n",
       "      <td>direct</td>\n",
       "      <td>1h 25min</td>\n",
       "      <td>133 €</td>\n",
       "      <td>Brussels Airlines</td>\n",
       "    </tr>\n",
       "    <tr>\n",
       "      <th>1</th>\n",
       "      <td>0</td>\n",
       "      <td>Date_Départ</td>\n",
       "      <td>Date_arrivée</td>\n",
       "      <td>VILLE_DEPART</td>\n",
       "      <td>VILLE_ARRIVEE</td>\n",
       "      <td>Horaires</td>\n",
       "      <td>Trajet</td>\n",
       "      <td>Type de trajet</td>\n",
       "      <td>Temps de trajet</td>\n",
       "      <td>Prix</td>\n",
       "      <td>Compagnie de vol</td>\n",
       "    </tr>\n",
       "    <tr>\n",
       "      <th>2</th>\n",
       "      <td>0</td>\n",
       "      <td>2023-11-22</td>\n",
       "      <td>2023-11-28</td>\n",
       "      <td>BRU</td>\n",
       "      <td>BER</td>\n",
       "      <td>20:55 – 22:20</td>\n",
       "      <td>BRUAéroport de Bruxelles-National-BERAéroport ...</td>\n",
       "      <td>direct</td>\n",
       "      <td>1h 25min</td>\n",
       "      <td>133 €</td>\n",
       "      <td>Brussels Airlines</td>\n",
       "    </tr>\n",
       "    <tr>\n",
       "      <th>3</th>\n",
       "      <td>1</td>\n",
       "      <td>2023-11-22</td>\n",
       "      <td>2023-11-28</td>\n",
       "      <td>BRU</td>\n",
       "      <td>BER</td>\n",
       "      <td>08:35 – 13:35</td>\n",
       "      <td>CRLAéroport de Charleroi-Bruxelles-Sud-BERAéro...</td>\n",
       "      <td>direct</td>\n",
       "      <td>5h 00min</td>\n",
       "      <td>71 €</td>\n",
       "      <td>Wizz Air, Ryanair</td>\n",
       "    </tr>\n",
       "    <tr>\n",
       "      <th>4</th>\n",
       "      <td>0</td>\n",
       "      <td>Date_Départ</td>\n",
       "      <td>Date_arrivée</td>\n",
       "      <td>VILLE_DEPART</td>\n",
       "      <td>VILLE_ARRIVEE</td>\n",
       "      <td>Horaires</td>\n",
       "      <td>Trajet</td>\n",
       "      <td>Type de trajet</td>\n",
       "      <td>Temps de trajet</td>\n",
       "      <td>Prix</td>\n",
       "      <td>Compagnie de vol</td>\n",
       "    </tr>\n",
       "  </tbody>\n",
       "</table>\n",
       "</div>"
      ],
      "text/plain": [
       "   Unnamed: 0  Date_Départ  Date_arrivée  VILLE_DEPART  VILLE_ARRIVEE  \\\n",
       "0           0   2023-11-22    2023-11-28           BRU            BER   \n",
       "1           0  Date_Départ  Date_arrivée  VILLE_DEPART  VILLE_ARRIVEE   \n",
       "2           0   2023-11-22    2023-11-28           BRU            BER   \n",
       "3           1   2023-11-22    2023-11-28           BRU            BER   \n",
       "4           0  Date_Départ  Date_arrivée  VILLE_DEPART  VILLE_ARRIVEE   \n",
       "\n",
       "        Horaires                                             Trajet  \\\n",
       "0  20:55 – 22:20  BRUAéroport de Bruxelles-National-BERAéroport ...   \n",
       "1       Horaires                                             Trajet   \n",
       "2  20:55 – 22:20  BRUAéroport de Bruxelles-National-BERAéroport ...   \n",
       "3  08:35 – 13:35  CRLAéroport de Charleroi-Bruxelles-Sud-BERAéro...   \n",
       "4       Horaires                                             Trajet   \n",
       "\n",
       "   Type de trajet  Temps de trajet   Prix   Compagnie de vol  \n",
       "0          direct         1h 25min  133 €  Brussels Airlines  \n",
       "1  Type de trajet  Temps de trajet   Prix   Compagnie de vol  \n",
       "2          direct         1h 25min  133 €  Brussels Airlines  \n",
       "3          direct         5h 00min   71 €  Wizz Air, Ryanair  \n",
       "4  Type de trajet  Temps de trajet   Prix   Compagnie de vol  "
      ]
     },
     "execution_count": 3,
     "metadata": {},
     "output_type": "execute_result"
    }
   ],
   "source": [
    "import os\n",
    "import pandas as pd\n",
    "import pyarrow.parquet as pq\n",
    "# à changer lee directory\n",
    "parquet_directory = R\"C:\\Users\\SKONIECZNY\\Desktop\\Cheap_Advisor\\csvp\"\n",
    "parquet_files = [file for file in os.listdir(parquet_directory) if file.endswith('.parquet')]\n",
    "\n",
    "\n",
    "dataframes = []\n",
    "\n",
    "for parquet_file in parquet_files:\n",
    "    parquet_path = os.path.join(parquet_directory, parquet_file)\n",
    "    \n",
    "  \n",
    "    table = pq.read_table(parquet_path)\n",
    "    df = table.to_pandas()\n",
    "    \n",
    "    \n",
    "    dataframes.append(df)\n",
    "    \n",
    "dataframe = pd.concat(dataframes, ignore_index=True)   \n",
    "\n",
    "dataframe.head()\n"
   ]
  },
  {
   "cell_type": "code",
   "execution_count": 4,
   "id": "dbd89a0d-74fe-4ce4-b84e-e4c1f4f3dd3c",
   "metadata": {
    "tags": []
   },
   "outputs": [
    {
     "data": {
      "text/plain": [
       "Index(['Unnamed: 0', 'Date_Départ', 'Date_arrivée', 'VILLE_DEPART',\n",
       "       'VILLE_ARRIVEE', 'Horaires', 'Trajet', 'Type de trajet',\n",
       "       'Temps de trajet', 'Prix', 'Compagnie de vol'],\n",
       "      dtype='object')"
      ]
     },
     "execution_count": 4,
     "metadata": {},
     "output_type": "execute_result"
    }
   ],
   "source": [
    "dataframe.columns"
   ]
  },
  {
   "cell_type": "code",
   "execution_count": 5,
   "id": "531fc796-146e-4b06-8461-0f01e5df9bb9",
   "metadata": {
    "tags": []
   },
   "outputs": [],
   "source": [
    "dataframe = dataframe.drop(\"Unnamed: 0\", axis=1)"
   ]
  },
  {
   "cell_type": "code",
   "execution_count": 6,
   "id": "10a66340-236e-4be2-8a14-f53bd58cbe98",
   "metadata": {
    "tags": []
   },
   "outputs": [
    {
     "data": {
      "text/plain": [
       "Index(['Date_Départ', 'Date_arrivée', 'VILLE_DEPART', 'VILLE_ARRIVEE',\n",
       "       'Horaires', 'Trajet', 'Type de trajet', 'Temps de trajet', 'Prix',\n",
       "       'Compagnie de vol'],\n",
       "      dtype='object')"
      ]
     },
     "execution_count": 6,
     "metadata": {},
     "output_type": "execute_result"
    }
   ],
   "source": [
    "dataframe.columns"
   ]
  },
  {
   "cell_type": "code",
   "execution_count": null,
   "id": "d5e1d34d-0f91-4f49-b741-553630663032",
   "metadata": {
    "tags": []
   },
   "outputs": [],
   "source": []
  },
  {
   "cell_type": "code",
   "execution_count": 7,
   "id": "52ecd502-f48f-4fef-b470-e7ef44d82249",
   "metadata": {
    "tags": []
   },
   "outputs": [
    {
     "data": {
      "text/plain": [
       "0          133 €\n",
       "1           Prix\n",
       "2          133 €\n",
       "3           71 €\n",
       "4           Prix\n",
       "           ...  \n",
       "1950263     None\n",
       "1950264     None\n",
       "1950265     None\n",
       "1950266     None\n",
       "1950267     None\n",
       "Name: Prix, Length: 1950268, dtype: object"
      ]
     },
     "execution_count": 7,
     "metadata": {},
     "output_type": "execute_result"
    }
   ],
   "source": [
    "dataframe['Prix']"
   ]
  },
  {
   "cell_type": "code",
   "execution_count": 8,
   "id": "ebeb4a3f-580f-4b65-b092-6483c109fa31",
   "metadata": {
    "tags": []
   },
   "outputs": [
    {
     "data": {
      "text/plain": [
       "Index(['Date_Départ', 'Date_arrivée', 'VILLE_DEPART', 'VILLE_ARRIVEE',\n",
       "       'Horaires', 'Trajet', 'Type de trajet', 'Temps de trajet', 'Prix',\n",
       "       'Compagnie de vol'],\n",
       "      dtype='object')"
      ]
     },
     "execution_count": 8,
     "metadata": {},
     "output_type": "execute_result"
    }
   ],
   "source": [
    "dataframe.columns"
   ]
  },
  {
   "cell_type": "code",
   "execution_count": 9,
   "id": "dd36e388-7861-495f-98bd-36a12274337e",
   "metadata": {
    "tags": []
   },
   "outputs": [
    {
     "name": "stdout",
     "output_type": "stream",
     "text": [
      "Date_Départ         object\n",
      "Date_arrivée        object\n",
      "VILLE_DEPART        object\n",
      "VILLE_ARRIVEE       object\n",
      "Horaires            object\n",
      "Trajet              object\n",
      "Type de trajet      object\n",
      "Temps de trajet     object\n",
      "Prix                object\n",
      "Compagnie de vol    object\n",
      "dtype: object\n"
     ]
    }
   ],
   "source": [
    "print(dataframe.dtypes)"
   ]
  },
  {
   "cell_type": "code",
   "execution_count": 10,
   "id": "fd0098a2-14cc-4677-9e5c-ab29025f1b24",
   "metadata": {
    "tags": []
   },
   "outputs": [
    {
     "name": "stdout",
     "output_type": "stream",
     "text": [
      "        Date_Départ Date_arrivée VILLE_DEPART VILLE_ARRIVEE       Horaires  \\\n",
      "0        22/11/2023   28/11/2023          BRU           BER  20:55 – 22:20   \n",
      "2        22/11/2023   28/11/2023          BRU           BER  20:55 – 22:20   \n",
      "3        22/11/2023   28/11/2023          BRU           BER  08:35 – 13:35   \n",
      "5        22/11/2023   28/11/2023          BRU           BER  20:55 – 22:20   \n",
      "6        22/11/2023   28/11/2023          BRU           BER  08:35 – 13:35   \n",
      "...             ...          ...          ...           ...            ...   \n",
      "1950263  22/11/2023   28/11/2023          AMS           TGD           None   \n",
      "1950264  22/11/2023   28/11/2023          AMS           TGD           None   \n",
      "1950265  22/11/2023   28/11/2023          AMS           TGD           None   \n",
      "1950266  22/11/2023   28/11/2023          AMS           TGD           None   \n",
      "1950267  22/11/2023   28/11/2023          AMS           TGD           None   \n",
      "\n",
      "                                                    Trajet Type de trajet  \\\n",
      "0        BRUAéroport de Bruxelles-National-BERAéroport ...         direct   \n",
      "2        BRUAéroport de Bruxelles-National-BERAéroport ...         direct   \n",
      "3        CRLAéroport de Charleroi-Bruxelles-Sud-BERAéro...         direct   \n",
      "5        BRUAéroport de Bruxelles-National-BERAéroport ...         direct   \n",
      "6        CRLAéroport de Charleroi-Bruxelles-Sud-BERAéro...         direct   \n",
      "...                                                    ...            ...   \n",
      "1950263                                               None           None   \n",
      "1950264                                               None           None   \n",
      "1950265                                               None           None   \n",
      "1950266                                               None           None   \n",
      "1950267                                               None           None   \n",
      "\n",
      "        Temps de trajet   Prix   Compagnie de vol  \n",
      "0              1h 25min  133 €  Brussels Airlines  \n",
      "2              1h 25min  133 €  Brussels Airlines  \n",
      "3              5h 00min   71 €  Wizz Air, Ryanair  \n",
      "5              1h 25min  133 €  Brussels Airlines  \n",
      "6              5h 00min   71 €  Wizz Air, Ryanair  \n",
      "...                 ...    ...                ...  \n",
      "1950263            None   None               None  \n",
      "1950264            None   None               None  \n",
      "1950265            None   None               None  \n",
      "1950266            None   None               None  \n",
      "1950267            None   None               None  \n",
      "\n",
      "[1947374 rows x 10 columns]\n"
     ]
    }
   ],
   "source": [
    "import pandas as pd\n",
    "\n",
    "\n",
    "dataframe = dataframe[dataframe['Date_Départ'] != \"Date_Départ\"]\n",
    "dataframe = dataframe[dataframe['Date_arrivée'] != \"Date_Départ\"]\n",
    "\n",
    "\n",
    "dataframe['Date_Départ'] = pd.to_datetime(dataframe['Date_Départ'], format='%Y-%m-%d')\n",
    "dataframe['Date_arrivée'] = pd.to_datetime(dataframe['Date_arrivée'], format='%Y-%m-%d')\n",
    "\n",
    "\n",
    "dataframe['Date_Départ'] = dataframe['Date_Départ'].dt.strftime('%d/%m/%Y')\n",
    "dataframe['Date_arrivée'] = dataframe['Date_arrivée'].dt.strftime('%d/%m/%Y')\n",
    "\n",
    "\n",
    "print(dataframe)\n"
   ]
  },
  {
   "cell_type": "code",
   "execution_count": 11,
   "id": "2e00cd12-e35b-4d6d-a7a1-3ea2fb9253ed",
   "metadata": {
    "tags": []
   },
   "outputs": [
    {
     "data": {
      "text/html": [
       "<div>\n",
       "<style scoped>\n",
       "    .dataframe tbody tr th:only-of-type {\n",
       "        vertical-align: middle;\n",
       "    }\n",
       "\n",
       "    .dataframe tbody tr th {\n",
       "        vertical-align: top;\n",
       "    }\n",
       "\n",
       "    .dataframe thead th {\n",
       "        text-align: right;\n",
       "    }\n",
       "</style>\n",
       "<table border=\"1\" class=\"dataframe\">\n",
       "  <thead>\n",
       "    <tr style=\"text-align: right;\">\n",
       "      <th></th>\n",
       "      <th>Date_Départ</th>\n",
       "      <th>Date_arrivée</th>\n",
       "      <th>VILLE_DEPART</th>\n",
       "      <th>VILLE_ARRIVEE</th>\n",
       "      <th>Horaires</th>\n",
       "      <th>Trajet</th>\n",
       "      <th>Type de trajet</th>\n",
       "      <th>Temps de trajet</th>\n",
       "      <th>Prix</th>\n",
       "      <th>Compagnie de vol</th>\n",
       "    </tr>\n",
       "  </thead>\n",
       "  <tbody>\n",
       "    <tr>\n",
       "      <th>0</th>\n",
       "      <td>22/11/2023</td>\n",
       "      <td>28/11/2023</td>\n",
       "      <td>BRU</td>\n",
       "      <td>BER</td>\n",
       "      <td>20:55 – 22:20</td>\n",
       "      <td>BRUAéroport de Bruxelles-National-BERAéroport ...</td>\n",
       "      <td>direct</td>\n",
       "      <td>1h 25min</td>\n",
       "      <td>133 €</td>\n",
       "      <td>Brussels Airlines</td>\n",
       "    </tr>\n",
       "    <tr>\n",
       "      <th>2</th>\n",
       "      <td>22/11/2023</td>\n",
       "      <td>28/11/2023</td>\n",
       "      <td>BRU</td>\n",
       "      <td>BER</td>\n",
       "      <td>20:55 – 22:20</td>\n",
       "      <td>BRUAéroport de Bruxelles-National-BERAéroport ...</td>\n",
       "      <td>direct</td>\n",
       "      <td>1h 25min</td>\n",
       "      <td>133 €</td>\n",
       "      <td>Brussels Airlines</td>\n",
       "    </tr>\n",
       "    <tr>\n",
       "      <th>3</th>\n",
       "      <td>22/11/2023</td>\n",
       "      <td>28/11/2023</td>\n",
       "      <td>BRU</td>\n",
       "      <td>BER</td>\n",
       "      <td>08:35 – 13:35</td>\n",
       "      <td>CRLAéroport de Charleroi-Bruxelles-Sud-BERAéro...</td>\n",
       "      <td>direct</td>\n",
       "      <td>5h 00min</td>\n",
       "      <td>71 €</td>\n",
       "      <td>Wizz Air, Ryanair</td>\n",
       "    </tr>\n",
       "    <tr>\n",
       "      <th>5</th>\n",
       "      <td>22/11/2023</td>\n",
       "      <td>28/11/2023</td>\n",
       "      <td>BRU</td>\n",
       "      <td>BER</td>\n",
       "      <td>20:55 – 22:20</td>\n",
       "      <td>BRUAéroport de Bruxelles-National-BERAéroport ...</td>\n",
       "      <td>direct</td>\n",
       "      <td>1h 25min</td>\n",
       "      <td>133 €</td>\n",
       "      <td>Brussels Airlines</td>\n",
       "    </tr>\n",
       "    <tr>\n",
       "      <th>6</th>\n",
       "      <td>22/11/2023</td>\n",
       "      <td>28/11/2023</td>\n",
       "      <td>BRU</td>\n",
       "      <td>BER</td>\n",
       "      <td>08:35 – 13:35</td>\n",
       "      <td>CRLAéroport de Charleroi-Bruxelles-Sud-BERAéro...</td>\n",
       "      <td>direct</td>\n",
       "      <td>5h 00min</td>\n",
       "      <td>71 €</td>\n",
       "      <td>Wizz Air, Ryanair</td>\n",
       "    </tr>\n",
       "    <tr>\n",
       "      <th>7</th>\n",
       "      <td>22/11/2023</td>\n",
       "      <td>28/11/2023</td>\n",
       "      <td>BRU</td>\n",
       "      <td>BER</td>\n",
       "      <td>13:05 – 20:30</td>\n",
       "      <td>CRLAéroport de Charleroi-Bruxelles-Sud-BERAéro...</td>\n",
       "      <td>direct</td>\n",
       "      <td>7h 25min</td>\n",
       "      <td>96 €</td>\n",
       "      <td>Ryanair, easyJet</td>\n",
       "    </tr>\n",
       "    <tr>\n",
       "      <th>9</th>\n",
       "      <td>22/11/2023</td>\n",
       "      <td>28/11/2023</td>\n",
       "      <td>BRU</td>\n",
       "      <td>BER</td>\n",
       "      <td>20:55 – 22:20</td>\n",
       "      <td>BRUAéroport de Bruxelles-National-BERAéroport ...</td>\n",
       "      <td>direct</td>\n",
       "      <td>1h 25min</td>\n",
       "      <td>133 €</td>\n",
       "      <td>Brussels Airlines</td>\n",
       "    </tr>\n",
       "    <tr>\n",
       "      <th>10</th>\n",
       "      <td>22/11/2023</td>\n",
       "      <td>28/11/2023</td>\n",
       "      <td>BRU</td>\n",
       "      <td>BER</td>\n",
       "      <td>08:35 – 13:35</td>\n",
       "      <td>CRLAéroport de Charleroi-Bruxelles-Sud-BERAéro...</td>\n",
       "      <td>direct</td>\n",
       "      <td>5h 00min</td>\n",
       "      <td>71 €</td>\n",
       "      <td>Wizz Air, Ryanair</td>\n",
       "    </tr>\n",
       "    <tr>\n",
       "      <th>11</th>\n",
       "      <td>22/11/2023</td>\n",
       "      <td>28/11/2023</td>\n",
       "      <td>BRU</td>\n",
       "      <td>BER</td>\n",
       "      <td>13:05 – 20:30</td>\n",
       "      <td>CRLAéroport de Charleroi-Bruxelles-Sud-BERAéro...</td>\n",
       "      <td>direct</td>\n",
       "      <td>7h 25min</td>\n",
       "      <td>96 €</td>\n",
       "      <td>Ryanair, easyJet</td>\n",
       "    </tr>\n",
       "    <tr>\n",
       "      <th>12</th>\n",
       "      <td>22/11/2023</td>\n",
       "      <td>28/11/2023</td>\n",
       "      <td>BRU</td>\n",
       "      <td>BER</td>\n",
       "      <td>09:35 – 18:05</td>\n",
       "      <td>CRLAéroport de Charleroi-Bruxelles-Sud-BERAéro...</td>\n",
       "      <td>direct</td>\n",
       "      <td>8h 30min</td>\n",
       "      <td>101 €</td>\n",
       "      <td>Ryanair</td>\n",
       "    </tr>\n",
       "  </tbody>\n",
       "</table>\n",
       "</div>"
      ],
      "text/plain": [
       "   Date_Départ Date_arrivée VILLE_DEPART VILLE_ARRIVEE       Horaires  \\\n",
       "0   22/11/2023   28/11/2023          BRU           BER  20:55 – 22:20   \n",
       "2   22/11/2023   28/11/2023          BRU           BER  20:55 – 22:20   \n",
       "3   22/11/2023   28/11/2023          BRU           BER  08:35 – 13:35   \n",
       "5   22/11/2023   28/11/2023          BRU           BER  20:55 – 22:20   \n",
       "6   22/11/2023   28/11/2023          BRU           BER  08:35 – 13:35   \n",
       "7   22/11/2023   28/11/2023          BRU           BER  13:05 – 20:30   \n",
       "9   22/11/2023   28/11/2023          BRU           BER  20:55 – 22:20   \n",
       "10  22/11/2023   28/11/2023          BRU           BER  08:35 – 13:35   \n",
       "11  22/11/2023   28/11/2023          BRU           BER  13:05 – 20:30   \n",
       "12  22/11/2023   28/11/2023          BRU           BER  09:35 – 18:05   \n",
       "\n",
       "                                               Trajet Type de trajet  \\\n",
       "0   BRUAéroport de Bruxelles-National-BERAéroport ...         direct   \n",
       "2   BRUAéroport de Bruxelles-National-BERAéroport ...         direct   \n",
       "3   CRLAéroport de Charleroi-Bruxelles-Sud-BERAéro...         direct   \n",
       "5   BRUAéroport de Bruxelles-National-BERAéroport ...         direct   \n",
       "6   CRLAéroport de Charleroi-Bruxelles-Sud-BERAéro...         direct   \n",
       "7   CRLAéroport de Charleroi-Bruxelles-Sud-BERAéro...         direct   \n",
       "9   BRUAéroport de Bruxelles-National-BERAéroport ...         direct   \n",
       "10  CRLAéroport de Charleroi-Bruxelles-Sud-BERAéro...         direct   \n",
       "11  CRLAéroport de Charleroi-Bruxelles-Sud-BERAéro...         direct   \n",
       "12  CRLAéroport de Charleroi-Bruxelles-Sud-BERAéro...         direct   \n",
       "\n",
       "   Temps de trajet   Prix   Compagnie de vol  \n",
       "0         1h 25min  133 €  Brussels Airlines  \n",
       "2         1h 25min  133 €  Brussels Airlines  \n",
       "3         5h 00min   71 €  Wizz Air, Ryanair  \n",
       "5         1h 25min  133 €  Brussels Airlines  \n",
       "6         5h 00min   71 €  Wizz Air, Ryanair  \n",
       "7         7h 25min   96 €   Ryanair, easyJet  \n",
       "9         1h 25min  133 €  Brussels Airlines  \n",
       "10        5h 00min   71 €  Wizz Air, Ryanair  \n",
       "11        7h 25min   96 €   Ryanair, easyJet  \n",
       "12        8h 30min  101 €            Ryanair  "
      ]
     },
     "execution_count": 11,
     "metadata": {},
     "output_type": "execute_result"
    }
   ],
   "source": [
    "dataframe.head(10)"
   ]
  },
  {
   "cell_type": "code",
   "execution_count": 12,
   "id": "8c1f04df-9e9e-4604-8b9a-7fd17ff81f69",
   "metadata": {
    "tags": []
   },
   "outputs": [
    {
     "name": "stdout",
     "output_type": "stream",
     "text": [
      "Date_Départ         object\n",
      "Date_arrivée        object\n",
      "VILLE_DEPART        object\n",
      "VILLE_ARRIVEE       object\n",
      "Horaires            object\n",
      "Trajet              object\n",
      "Type de trajet      object\n",
      "Temps de trajet     object\n",
      "Prix                object\n",
      "Compagnie de vol    object\n",
      "dtype: object\n"
     ]
    }
   ],
   "source": [
    "print(dataframe.dtypes)"
   ]
  },
  {
   "cell_type": "code",
   "execution_count": 13,
   "id": "9e0c0b47-9748-4e09-a2d5-ff7e9770ca51",
   "metadata": {
    "tags": []
   },
   "outputs": [
    {
     "name": "stderr",
     "output_type": "stream",
     "text": [
      "C:\\Users\\SKONIECZNY\\anaconda3\\lib\\site-packages\\pandas\\core\\tools\\datetimes.py:1047: UserWarning: Parsing '22/11/2023' in DD/MM/YYYY format. Provide format or specify infer_datetime_format=True for consistent parsing.\n",
      "  cache_array = _maybe_cache(arg, format, cache, convert_listlike)\n",
      "C:\\Users\\SKONIECZNY\\anaconda3\\lib\\site-packages\\pandas\\core\\tools\\datetimes.py:1047: UserWarning: Parsing '28/11/2023' in DD/MM/YYYY format. Provide format or specify infer_datetime_format=True for consistent parsing.\n",
      "  cache_array = _maybe_cache(arg, format, cache, convert_listlike)\n"
     ]
    },
    {
     "name": "stdout",
     "output_type": "stream",
     "text": [
      "        Date_Départ Date_arrivée VILLE_DEPART VILLE_ARRIVEE       Horaires  \\\n",
      "0        2023-11-22   2023-11-28          BRU           BER  20:55 – 22:20   \n",
      "2        2023-11-22   2023-11-28          BRU           BER  20:55 – 22:20   \n",
      "3        2023-11-22   2023-11-28          BRU           BER  08:35 – 13:35   \n",
      "5        2023-11-22   2023-11-28          BRU           BER  20:55 – 22:20   \n",
      "6        2023-11-22   2023-11-28          BRU           BER  08:35 – 13:35   \n",
      "...             ...          ...          ...           ...            ...   \n",
      "1950263  2023-11-22   2023-11-28          AMS           TGD           None   \n",
      "1950264  2023-11-22   2023-11-28          AMS           TGD           None   \n",
      "1950265  2023-11-22   2023-11-28          AMS           TGD           None   \n",
      "1950266  2023-11-22   2023-11-28          AMS           TGD           None   \n",
      "1950267  2023-11-22   2023-11-28          AMS           TGD           None   \n",
      "\n",
      "                                                    Trajet Type de trajet  \\\n",
      "0        BRUAéroport de Bruxelles-National-BERAéroport ...         direct   \n",
      "2        BRUAéroport de Bruxelles-National-BERAéroport ...         direct   \n",
      "3        CRLAéroport de Charleroi-Bruxelles-Sud-BERAéro...         direct   \n",
      "5        BRUAéroport de Bruxelles-National-BERAéroport ...         direct   \n",
      "6        CRLAéroport de Charleroi-Bruxelles-Sud-BERAéro...         direct   \n",
      "...                                                    ...            ...   \n",
      "1950263                                               None           None   \n",
      "1950264                                               None           None   \n",
      "1950265                                               None           None   \n",
      "1950266                                               None           None   \n",
      "1950267                                               None           None   \n",
      "\n",
      "        Temps de trajet   Prix   Compagnie de vol  \n",
      "0              1h 25min  133 €  Brussels Airlines  \n",
      "2              1h 25min  133 €  Brussels Airlines  \n",
      "3              5h 00min   71 €  Wizz Air, Ryanair  \n",
      "5              1h 25min  133 €  Brussels Airlines  \n",
      "6              5h 00min   71 €  Wizz Air, Ryanair  \n",
      "...                 ...    ...                ...  \n",
      "1950263            None   None               None  \n",
      "1950264            None   None               None  \n",
      "1950265            None   None               None  \n",
      "1950266            None   None               None  \n",
      "1950267            None   None               None  \n",
      "\n",
      "[1947374 rows x 10 columns]\n"
     ]
    }
   ],
   "source": [
    "import pandas as pd\n",
    "\n",
    "# Supposons que vous ayez un DataFrame appelé dataframe avec les colonnes que vous avez mentionnées\n",
    "# Convertir les colonnes de date en datetime\n",
    "dataframe['Date_Départ'] = pd.to_datetime(dataframe['Date_Départ'])\n",
    "dataframe['Date_arrivée'] = pd.to_datetime(dataframe['Date_arrivée'])\n",
    "\n",
    "# Convertir les autres colonnes en string\n",
    "cols_to_convert_to_string = ['VILLE_DEPART', 'VILLE_ARRIVEE', 'Trajet', 'Type de trajet', 'Temps de trajet', 'Prix', 'Compagnie de vol','Horaires']\n",
    "dataframe[cols_to_convert_to_string] = dataframe[cols_to_convert_to_string].astype(str)\n",
    "\n",
    "# Afficher le DataFrame mis à jour\n",
    "print(dataframe)\n"
   ]
  },
  {
   "cell_type": "code",
   "execution_count": 14,
   "id": "745cd40e-af95-4d3b-9baf-00cf01880681",
   "metadata": {
    "tags": []
   },
   "outputs": [
    {
     "name": "stdout",
     "output_type": "stream",
     "text": [
      "Date_Départ         datetime64[ns]\n",
      "Date_arrivée        datetime64[ns]\n",
      "VILLE_DEPART                object\n",
      "VILLE_ARRIVEE               object\n",
      "Horaires                    object\n",
      "Trajet                      object\n",
      "Type de trajet              object\n",
      "Temps de trajet             object\n",
      "Prix                        object\n",
      "Compagnie de vol            object\n",
      "dtype: object\n"
     ]
    }
   ],
   "source": [
    "print(dataframe.dtypes)"
   ]
  },
  {
   "cell_type": "code",
   "execution_count": 15,
   "id": "cf16749b-db2b-42cc-b3ae-4e4b5de6fdca",
   "metadata": {
    "tags": []
   },
   "outputs": [],
   "source": [
    "dataframe = dataframe.drop_duplicates()"
   ]
  },
  {
   "cell_type": "code",
   "execution_count": 16,
   "id": "8c77dbe9-ace5-43d2-9be8-1a06761f9b54",
   "metadata": {
    "tags": []
   },
   "outputs": [
    {
     "name": "stdout",
     "output_type": "stream",
     "text": [
      "        Date_Départ Date_arrivée VILLE_DEPART VILLE_ARRIVEE         Horaires  \\\n",
      "0        2023-11-22   2023-11-28          BRU           BER    20:55 – 22:20   \n",
      "3        2023-11-22   2023-11-28          BRU           BER    08:35 – 13:35   \n",
      "7        2023-11-22   2023-11-28          BRU           BER    13:05 – 20:30   \n",
      "12       2023-11-22   2023-11-28          BRU           BER    09:35 – 18:05   \n",
      "18       2023-11-22   2023-11-28          BRU           BER    12:35 – 18:05   \n",
      "...             ...          ...          ...           ...              ...   \n",
      "1912257  2023-11-22   2023-11-28          AMS           SKP    07:25 – 13:55   \n",
      "1917660  2023-11-22   2023-11-28          AMS           SKP    14:40 – 22:40   \n",
      "1923072  2023-11-22   2023-11-28          AMS           TGD  20:45 – 07:30+1   \n",
      "1924878  2023-11-22   2023-11-28          AMS           TGD  20:45 – 07:30+1   \n",
      "1926685  2023-11-22   2023-11-28          AMS           TGD             None   \n",
      "\n",
      "                                                    Trajet Type de trajet  \\\n",
      "0        BRUAéroport de Bruxelles-National-BERAéroport ...         direct   \n",
      "3        CRLAéroport de Charleroi-Bruxelles-Sud-BERAéro...         direct   \n",
      "7        CRLAéroport de Charleroi-Bruxelles-Sud-BERAéro...         direct   \n",
      "12       CRLAéroport de Charleroi-Bruxelles-Sud-BERAéro...         direct   \n",
      "18       CRLAéroport de Charleroi-Bruxelles-Sud-BERAéro...         direct   \n",
      "...                                                    ...            ...   \n",
      "1912257  AMSAéroport d'Amsterdam-Schiphol-SKPAéroport A...       1 escale   \n",
      "1917660  AMSAéroport d'Amsterdam-Schiphol-SKPAéroport A...       1 escale   \n",
      "1923072  AMSAéroport d'Amsterdam-Schiphol-TGDAéroport d...       1 escale   \n",
      "1924878  AMSAéroport d'Amsterdam-Schiphol-TGDAéroport d...       1 escale   \n",
      "1926685                                               None           None   \n",
      "\n",
      "        Temps de trajet   Prix               Compagnie de vol  \n",
      "0              1h 25min  133 €              Brussels Airlines  \n",
      "3              5h 00min   71 €              Wizz Air, Ryanair  \n",
      "7              7h 25min   96 €               Ryanair, easyJet  \n",
      "12             8h 30min  101 €                        Ryanair  \n",
      "18             5h 30min  102 €                        Ryanair  \n",
      "...                 ...    ...                            ...  \n",
      "1912257        6h 30min  228 €   Lufthansa, Austrian Airlines  \n",
      "1917660        8h 00min  228 €   Lufthansa, Austrian Airlines  \n",
      "1923072       10h 45min  296 €  Air Serbia, Austrian Airlines  \n",
      "1924878       10h 45min  230 €                     Air Serbia  \n",
      "1926685            None   None                           None  \n",
      "\n",
      "[2195 rows x 10 columns]\n"
     ]
    }
   ],
   "source": [
    "print(dataframe)"
   ]
  },
  {
   "cell_type": "code",
   "execution_count": 17,
   "id": "ff24d7ec-bc0f-479f-997c-871a66023f16",
   "metadata": {
    "tags": []
   },
   "outputs": [],
   "source": [
    "import pandas as pd\n",
    "import pyarrow as pa\n",
    "\n",
    "\n",
    "table = pa.Table.from_pandas(dataframe)\n",
    "\n",
    "chemin_fichier_parquet = 'VOLS1.parquet'\n",
    "\n",
    "pa.parquet.write_table(table, chemin_fichier_parquet)"
   ]
  },
  {
   "cell_type": "code",
   "execution_count": null,
   "id": "25b8122d-838c-4688-b765-301560b973db",
   "metadata": {},
   "outputs": [],
   "source": []
  }
 ],
 "metadata": {
  "kernelspec": {
   "display_name": "Python 3 (ipykernel)",
   "language": "python",
   "name": "python3"
  },
  "language_info": {
   "codemirror_mode": {
    "name": "ipython",
    "version": 3
   },
   "file_extension": ".py",
   "mimetype": "text/x-python",
   "name": "python",
   "nbconvert_exporter": "python",
   "pygments_lexer": "ipython3",
   "version": "3.9.13"
  }
 },
 "nbformat": 4,
 "nbformat_minor": 5
}
