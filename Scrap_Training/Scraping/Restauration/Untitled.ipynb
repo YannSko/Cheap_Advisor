{
 "cells": [
  {
   "cell_type": "code",
   "execution_count": 2,
   "id": "15790b70-ef0e-40ca-9e78-fa939ddedb0a",
   "metadata": {
    "tags": []
   },
   "outputs": [
    {
     "name": "stderr",
     "output_type": "stream",
     "text": [
      "  0%|                                                                                           | 0/20 [00:02<?, ?it/s]"
     ]
    },
    {
     "name": "stdout",
     "output_type": "stream",
     "text": [
      "https://www.yelp.com/search?find_desc=restaurant&find_loc=Berlin&sortby=review_count&start=0\n"
     ]
    },
    {
     "name": "stderr",
     "output_type": "stream",
     "text": [
      "\n"
     ]
    },
    {
     "ename": "HTTPError",
     "evalue": "HTTP Error 503: Service Unavailable",
     "output_type": "error",
     "traceback": [
      "\u001b[1;31m---------------------------------------------------------------------------\u001b[0m",
      "\u001b[1;31mHTTPError\u001b[0m                                 Traceback (most recent call last)",
      "Cell \u001b[1;32mIn[2], line 29\u001b[0m\n\u001b[0;32m     27\u001b[0m \u001b[38;5;28mprint\u001b[39m(url)\n\u001b[0;32m     28\u001b[0m req \u001b[38;5;241m=\u001b[39m Request(url,headers\u001b[38;5;241m=\u001b[39m{\u001b[38;5;124m'\u001b[39m\u001b[38;5;124mUser-agent\u001b[39m\u001b[38;5;124m'\u001b[39m:\u001b[38;5;124m'\u001b[39m\u001b[38;5;124mMozilla/5.0\u001b[39m\u001b[38;5;124m'\u001b[39m})\n\u001b[1;32m---> 29\u001b[0m webpage \u001b[38;5;241m=\u001b[39m urlopen(req)\n\u001b[0;32m     30\u001b[0m page \u001b[38;5;241m=\u001b[39m bs(webpage,\u001b[38;5;124m\"\u001b[39m\u001b[38;5;124mhtml.parser\u001b[39m\u001b[38;5;124m\"\u001b[39m) \u001b[38;5;66;03m# Parser la page\u001b[39;00m\n\u001b[0;32m     31\u001b[0m restaurant_elements \u001b[38;5;241m=\u001b[39m page\u001b[38;5;241m.\u001b[39mfindAll(\u001b[38;5;124m'\u001b[39m\u001b[38;5;124mdiv\u001b[39m\u001b[38;5;124m'\u001b[39m, class_\u001b[38;5;241m=\u001b[39m\u001b[38;5;124m'\u001b[39m\u001b[38;5;124mcss-ady4rt\u001b[39m\u001b[38;5;124m'\u001b[39m)\n",
      "File \u001b[1;32m~\\anaconda3.2\\Lib\\urllib\\request.py:216\u001b[0m, in \u001b[0;36murlopen\u001b[1;34m(url, data, timeout, cafile, capath, cadefault, context)\u001b[0m\n\u001b[0;32m    214\u001b[0m \u001b[38;5;28;01melse\u001b[39;00m:\n\u001b[0;32m    215\u001b[0m     opener \u001b[38;5;241m=\u001b[39m _opener\n\u001b[1;32m--> 216\u001b[0m \u001b[38;5;28;01mreturn\u001b[39;00m opener\u001b[38;5;241m.\u001b[39mopen(url, data, timeout)\n",
      "File \u001b[1;32m~\\anaconda3.2\\Lib\\urllib\\request.py:525\u001b[0m, in \u001b[0;36mOpenerDirector.open\u001b[1;34m(self, fullurl, data, timeout)\u001b[0m\n\u001b[0;32m    523\u001b[0m \u001b[38;5;28;01mfor\u001b[39;00m processor \u001b[38;5;129;01min\u001b[39;00m \u001b[38;5;28mself\u001b[39m\u001b[38;5;241m.\u001b[39mprocess_response\u001b[38;5;241m.\u001b[39mget(protocol, []):\n\u001b[0;32m    524\u001b[0m     meth \u001b[38;5;241m=\u001b[39m \u001b[38;5;28mgetattr\u001b[39m(processor, meth_name)\n\u001b[1;32m--> 525\u001b[0m     response \u001b[38;5;241m=\u001b[39m meth(req, response)\n\u001b[0;32m    527\u001b[0m \u001b[38;5;28;01mreturn\u001b[39;00m response\n",
      "File \u001b[1;32m~\\anaconda3.2\\Lib\\urllib\\request.py:634\u001b[0m, in \u001b[0;36mHTTPErrorProcessor.http_response\u001b[1;34m(self, request, response)\u001b[0m\n\u001b[0;32m    631\u001b[0m \u001b[38;5;66;03m# According to RFC 2616, \"2xx\" code indicates that the client's\u001b[39;00m\n\u001b[0;32m    632\u001b[0m \u001b[38;5;66;03m# request was successfully received, understood, and accepted.\u001b[39;00m\n\u001b[0;32m    633\u001b[0m \u001b[38;5;28;01mif\u001b[39;00m \u001b[38;5;129;01mnot\u001b[39;00m (\u001b[38;5;241m200\u001b[39m \u001b[38;5;241m<\u001b[39m\u001b[38;5;241m=\u001b[39m code \u001b[38;5;241m<\u001b[39m \u001b[38;5;241m300\u001b[39m):\n\u001b[1;32m--> 634\u001b[0m     response \u001b[38;5;241m=\u001b[39m \u001b[38;5;28mself\u001b[39m\u001b[38;5;241m.\u001b[39mparent\u001b[38;5;241m.\u001b[39merror(\n\u001b[0;32m    635\u001b[0m         \u001b[38;5;124m'\u001b[39m\u001b[38;5;124mhttp\u001b[39m\u001b[38;5;124m'\u001b[39m, request, response, code, msg, hdrs)\n\u001b[0;32m    637\u001b[0m \u001b[38;5;28;01mreturn\u001b[39;00m response\n",
      "File \u001b[1;32m~\\anaconda3.2\\Lib\\urllib\\request.py:563\u001b[0m, in \u001b[0;36mOpenerDirector.error\u001b[1;34m(self, proto, *args)\u001b[0m\n\u001b[0;32m    561\u001b[0m \u001b[38;5;28;01mif\u001b[39;00m http_err:\n\u001b[0;32m    562\u001b[0m     args \u001b[38;5;241m=\u001b[39m (\u001b[38;5;28mdict\u001b[39m, \u001b[38;5;124m'\u001b[39m\u001b[38;5;124mdefault\u001b[39m\u001b[38;5;124m'\u001b[39m, \u001b[38;5;124m'\u001b[39m\u001b[38;5;124mhttp_error_default\u001b[39m\u001b[38;5;124m'\u001b[39m) \u001b[38;5;241m+\u001b[39m orig_args\n\u001b[1;32m--> 563\u001b[0m     \u001b[38;5;28;01mreturn\u001b[39;00m \u001b[38;5;28mself\u001b[39m\u001b[38;5;241m.\u001b[39m_call_chain(\u001b[38;5;241m*\u001b[39margs)\n",
      "File \u001b[1;32m~\\anaconda3.2\\Lib\\urllib\\request.py:496\u001b[0m, in \u001b[0;36mOpenerDirector._call_chain\u001b[1;34m(self, chain, kind, meth_name, *args)\u001b[0m\n\u001b[0;32m    494\u001b[0m \u001b[38;5;28;01mfor\u001b[39;00m handler \u001b[38;5;129;01min\u001b[39;00m handlers:\n\u001b[0;32m    495\u001b[0m     func \u001b[38;5;241m=\u001b[39m \u001b[38;5;28mgetattr\u001b[39m(handler, meth_name)\n\u001b[1;32m--> 496\u001b[0m     result \u001b[38;5;241m=\u001b[39m func(\u001b[38;5;241m*\u001b[39margs)\n\u001b[0;32m    497\u001b[0m     \u001b[38;5;28;01mif\u001b[39;00m result \u001b[38;5;129;01mis\u001b[39;00m \u001b[38;5;129;01mnot\u001b[39;00m \u001b[38;5;28;01mNone\u001b[39;00m:\n\u001b[0;32m    498\u001b[0m         \u001b[38;5;28;01mreturn\u001b[39;00m result\n",
      "File \u001b[1;32m~\\anaconda3.2\\Lib\\urllib\\request.py:643\u001b[0m, in \u001b[0;36mHTTPDefaultErrorHandler.http_error_default\u001b[1;34m(self, req, fp, code, msg, hdrs)\u001b[0m\n\u001b[0;32m    642\u001b[0m \u001b[38;5;28;01mdef\u001b[39;00m \u001b[38;5;21mhttp_error_default\u001b[39m(\u001b[38;5;28mself\u001b[39m, req, fp, code, msg, hdrs):\n\u001b[1;32m--> 643\u001b[0m     \u001b[38;5;28;01mraise\u001b[39;00m HTTPError(req\u001b[38;5;241m.\u001b[39mfull_url, code, msg, hdrs, fp)\n",
      "\u001b[1;31mHTTPError\u001b[0m: HTTP Error 503: Service Unavailable"
     ]
    }
   ],
   "source": [
    "import pandas as pd\n",
    "import numpy as np\n",
    "from bs4 import BeautifulSoup as bs\n",
    "from urllib.request import Request,urlopen \n",
    "import csv\n",
    "import os\n",
    "from tqdm import tqdm\n",
    "import time\n",
    "\n",
    "\n",
    "Liste_Nom = []\n",
    "Liste_Lien = []\n",
    "Data = []\n",
    "\n",
    "\n",
    "\n",
    "\n",
    "\n",
    "Europe_Capital = [\"Berlin\",\"Paris\",\"Rome\",\"Madrid\",\"London\",\"Lisbon\",\"Amsterdam\",\"Brussels\",\"Dublin\",\"Copenhagen\",\"Oslo\",\"Stockholm\",\"Helsinki\",\"Reykjavik\",\"Moscow\",\"Warsaw\",\"Prague\",\"Budapest\",\"Vienna\",\"Athens\",\"Bucharest\",\"Sofia\",\"Belgrade\",\"Zagreb\",\"Tirana\",\"Skopje\",\"Podgorica\",\"Pristina\",\"Tallinn\",\"Riga\",\"Vilnius\",\"Chisinau\",\"Minsk\",\"Kiev\",\"Tbilisi\",\"Yerevan\",\"Baku\",\"Ankara\",\"Nicosia\",\"Valletta\",\"Vatican City\",\"Monaco\",\"San Marino\",\"Andorra la Vella\",\"Luxembourg\",\"Vaduz\",\"Bern\",\"Bratislava\",\"Ljubljana\",\"Zurich\",\"Geneva\",\"Prague\",\"Budapest\",\"Vienna\",\"Athens\",\"Bucharest\",\"Sofia\",\"Belgrade\",\"Zagreb\",\"Tirana\",\"Skopje\",\"Podgorica\",\"Pristina\",\"Tallinn\",\"Riga\",\"Vilnius\",\"Chisinau\",\"Minsk\",\"Kiev\",\"Tbilisi\",\"Yerevan\",\"Baku\",\"Ankara\",\"Nicosia\",\"Valletta\",\"Vatican City\",\"Monaco\",\"San Marino\",\"Andorra la Vella\",\"Luxembourg\",\"Vaduz\",\"Bern\",\"Bratislava\",\"Ljubljana\",\"Zurich\",\"Geneva\"]\n",
    "for i in range (0,len(Europe_Capital),1):\n",
    "    time.sleep(3)\n",
    "    for j in tqdm(range(0,200,10)):\n",
    "        if j == 90:\n",
    "            continue\n",
    "        time.sleep(2)\n",
    "        url = \"https://www.yelp.com/search?find_desc=restaurant&find_loc=\"+Europe_Capital[i]+\"&sortby=review_count&start=\" + str(j)\n",
    "        print(url)\n",
    "        req = Request(url,headers={'User-agent':'Mozilla/5.0'})\n",
    "        webpage = urlopen(req)\n",
    "        page = bs(webpage,\"html.parser\") # Parser la page\n",
    "        restaurant_elements = page.findAll('div', class_='css-ady4rt')\n",
    "        #print(restaurant_elements)\n",
    "        for restaurant in restaurant_elements:\n",
    "        # Nom du restaurant\n",
    "            name = restaurant.findAll('a', class_='css-19v1rkv')\n",
    "            print(name[0].text)\n",
    "            Liste_Nom.append(name[0].text)\n",
    "\n",
    "            # Get the link in the href attribute of the <a> tag\n",
    "            lien = restaurant.findAll('a', class_='css-19v1rkv')\n",
    "            fulllink = 'https://www.yelp.com' + lien[0]['href']\n",
    "            #print(fulllink)\n",
    "            Liste_Lien.append(fulllink)\n",
    "\n",
    "            # Get the location of the restaurant\n",
    "            time.sleep(2)\n",
    "            url = fulllink\n",
    "            req = Request(url,headers={'User-agent':'Mozilla/5.0'})\n",
    "            webpage = urlopen(req)\n",
    "            page = bs(webpage,\"html.parser\")\n",
    "            # If no address, skip this restaurant\n",
    "\n",
    "            restaurant_elements = page.findAll('p', class_='css-qyp8bo')\n",
    "            #print(restaurant_elements[0].text)\n",
    "            if restaurant_elements:\n",
    "                Address = restaurant_elements[0].text\n",
    "            else:\n",
    "                Address = \"No address\"\n",
    "\n",
    "\n",
    "\n",
    "\n",
    "\n",
    "            # Get the type of restaurant\n",
    "            type = restaurant.findAll('span', class_='css-1d8srnw')\n",
    "            for RestoType in type:\n",
    "                Temp = 0\n",
    "                \n",
    "                TypeName = RestoType.findAll('span', class_='css-11bijt4') \n",
    "                #print(TypeName)\n",
    "\n",
    "                #Remove empty list \n",
    "                if TypeName:\n",
    "                    Temp = 1\n",
    "                    # Doit ajouté le deuxieme type de restaurant s'il existe\n",
    "                if len(TypeName) > 1:\n",
    "                    Temp = 2\n",
    "                if Temp == 2:\n",
    "                    TypeResto = TypeName[0].text +\" - \"+ TypeName[1].text\n",
    "                elif Temp == 1:\n",
    "                    TypeResto = name[0].text,fulllink,TypeName[0].text\n",
    "\n",
    "\n",
    "\n",
    "            Data.append([name[0].text,fulllink,TypeResto,Address])\n",
    "\n",
    "            #print(Data)\n",
    "            #print('\\n')\n",
    "#print(Data)\n",
    "\n",
    "# Number of Data = len(Europe_Capital)*20*10 = 20000\n",
    "\n",
    "# Create a dataframe with the data of Michelin + Yelp\n",
    "df = pd.DataFrame(Data,columns=['Name','Link','Type','Address'])\n",
    "df.to_csv('Data.csv',mode='a',index=False,encoding='utf-8')\n",
    "print(df)\n",
    "\n"
   ]
  },
  {
   "cell_type": "code",
   "execution_count": null,
   "id": "33290dcf-29df-4271-999e-905fc23e4b2f",
   "metadata": {},
   "outputs": [],
   "source": []
  }
 ],
 "metadata": {
  "kernelspec": {
   "display_name": "Python 3 (ipykernel)",
   "language": "python",
   "name": "python3"
  },
  "language_info": {
   "codemirror_mode": {
    "name": "ipython",
    "version": 3
   },
   "file_extension": ".py",
   "mimetype": "text/x-python",
   "name": "python",
   "nbconvert_exporter": "python",
   "pygments_lexer": "ipython3",
   "version": "3.11.5"
  }
 },
 "nbformat": 4,
 "nbformat_minor": 5
}
